{
  "nbformat": 4,
  "nbformat_minor": 0,
  "metadata": {
    "colab": {
      "name": "4.Onion_other_ForecastingModels_13Sep2020.ipynb",
      "provenance": [],
      "collapsed_sections": []
    },
    "kernelspec": {
      "name": "python3",
      "display_name": "Python 3"
    },
    "accelerator": "GPU"
  },
  "cells": [
    {
      "cell_type": "code",
      "metadata": {
        "id": "ITNUA3-ZnFq_",
        "colab_type": "code",
        "colab": {
          "base_uri": "https://localhost:8080/",
          "height": 534
        },
        "outputId": "a3dc50a7-512f-4f2d-d163-0571ef64a0d9"
      },
      "source": [
        "pip install pmdarima"
      ],
      "execution_count": null,
      "outputs": [
        {
          "output_type": "stream",
          "text": [
            "Collecting pmdarima\n",
            "\u001b[?25l  Downloading https://files.pythonhosted.org/packages/be/62/725b3b6ae0e56c77534de5a8139322e7b863ca53fd5bd6bd3b7de87d0c20/pmdarima-1.7.1-cp36-cp36m-manylinux1_x86_64.whl (1.5MB)\n",
            "\u001b[K     |████████████████████████████████| 1.5MB 10.2MB/s \n",
            "\u001b[?25hCollecting Cython<0.29.18,>=0.29\n",
            "\u001b[?25l  Downloading https://files.pythonhosted.org/packages/e7/d7/510ddef0248f3e1e91f9cc7e31c0f35f8954d0af92c5c3fd4c853e859ebe/Cython-0.29.17-cp36-cp36m-manylinux1_x86_64.whl (2.1MB)\n",
            "\u001b[K     |████████████████████████████████| 2.1MB 54.7MB/s \n",
            "\u001b[?25hRequirement already satisfied: setuptools<50.0.0 in /usr/local/lib/python3.6/dist-packages (from pmdarima) (49.6.0)\n",
            "Requirement already satisfied: scikit-learn>=0.22 in /usr/local/lib/python3.6/dist-packages (from pmdarima) (0.22.2.post1)\n",
            "Requirement already satisfied: scipy>=1.3.2 in /usr/local/lib/python3.6/dist-packages (from pmdarima) (1.4.1)\n",
            "Requirement already satisfied: urllib3 in /usr/local/lib/python3.6/dist-packages (from pmdarima) (1.24.3)\n",
            "Requirement already satisfied: numpy>=1.17.3 in /usr/local/lib/python3.6/dist-packages (from pmdarima) (1.18.5)\n",
            "Requirement already satisfied: pandas>=0.19 in /usr/local/lib/python3.6/dist-packages (from pmdarima) (1.0.5)\n",
            "Requirement already satisfied: joblib>=0.11 in /usr/local/lib/python3.6/dist-packages (from pmdarima) (0.16.0)\n",
            "Collecting statsmodels<0.12,>=0.11\n",
            "\u001b[?25l  Downloading https://files.pythonhosted.org/packages/cb/83/540fd83238a18abe6c2d280fa8e489ac5fcefa1f370f0ca1acd16ae1b860/statsmodels-0.11.1-cp36-cp36m-manylinux1_x86_64.whl (8.7MB)\n",
            "\u001b[K     |████████████████████████████████| 8.7MB 54.1MB/s \n",
            "\u001b[?25hRequirement already satisfied: python-dateutil>=2.6.1 in /usr/local/lib/python3.6/dist-packages (from pandas>=0.19->pmdarima) (2.8.1)\n",
            "Requirement already satisfied: pytz>=2017.2 in /usr/local/lib/python3.6/dist-packages (from pandas>=0.19->pmdarima) (2018.9)\n",
            "Requirement already satisfied: patsy>=0.5 in /usr/local/lib/python3.6/dist-packages (from statsmodels<0.12,>=0.11->pmdarima) (0.5.1)\n",
            "Requirement already satisfied: six>=1.5 in /usr/local/lib/python3.6/dist-packages (from python-dateutil>=2.6.1->pandas>=0.19->pmdarima) (1.15.0)\n",
            "Installing collected packages: Cython, statsmodels, pmdarima\n",
            "  Found existing installation: Cython 0.29.21\n",
            "    Uninstalling Cython-0.29.21:\n",
            "      Successfully uninstalled Cython-0.29.21\n",
            "  Found existing installation: statsmodels 0.10.2\n",
            "    Uninstalling statsmodels-0.10.2:\n",
            "      Successfully uninstalled statsmodels-0.10.2\n",
            "Successfully installed Cython-0.29.17 pmdarima-1.7.1 statsmodels-0.11.1\n"
          ],
          "name": "stdout"
        }
      ]
    },
    {
      "cell_type": "code",
      "metadata": {
        "id": "A228EnGckVr4",
        "colab_type": "code",
        "colab": {
          "base_uri": "https://localhost:8080/",
          "height": 34
        },
        "outputId": "f22761fe-9b9f-49a2-8f99-e6befcb26721"
      },
      "source": [
        "import plotly.express as px \n",
        "import pandas as pd \n",
        "import numpy as np \n",
        "from dateutil.parser import parse \n",
        "import matplotlib as mpl\n",
        "import matplotlib.pyplot as plt\n",
        "import seaborn as sns\n",
        "import datetime\n",
        "import warnings\n",
        "warnings.filterwarnings('ignore')\n",
        "import datetime\n",
        "import seaborn as sns\n",
        "from sklearn import metrics\n",
        "from sklearn.metrics import mean_squared_error\n",
        "import matplotlib.pyplot as plt\n",
        "import matplotlib\n",
        "import warnings\n",
        "warnings.filterwarnings(\"ignore\") # Don't want to see the warnings in the notebook\n",
        "from sklearn import svm\n",
        "import itertools \n",
        "\n",
        "import os\n",
        "import datetime\n",
        "\n",
        "import IPython\n",
        "import IPython.display\n",
        "import matplotlib as mpl\n",
        "import matplotlib.pyplot as plt\n",
        "import numpy as np\n",
        "import pandas as pd\n",
        "import seaborn as sns\n",
        "import tensorflow as tf\n",
        "import pmdarima as pm\n",
        "\n",
        "mpl.rcParams['figure.figsize'] = (8, 6)\n",
        "mpl.rcParams['axes.grid'] = False\n",
        "\n",
        "from __future__ import absolute_import,division,print_function,unicode_literals\n",
        "\n",
        "import seaborn as sns\n",
        "import matplotlib as mpl\n",
        "import matplotlib.pyplot as plt\n",
        "import numpy as np\n",
        "import os\n",
        "from datetime import datetime\n",
        "\n",
        "import pandas as pd\n",
        "\n",
        "\n",
        "mpl.rcParams['figure.figsize'] = (8,6)\n",
        "mpl.rcParams['axes.grid'] = False\n",
        "\n",
        "import cufflinks as cf\n",
        "cf.go_offline()\n",
        "cf.set_config_file(offline=False, world_readable=True)\n",
        "\n",
        "from statsmodels.tsa import stattools\n",
        "from statsmodels.tsa import seasonal\n",
        "from sklearn.linear_model import Ridge\n",
        "\n",
        "from statsmodels.tsa.arima_model import ARIMA\n",
        "from pandas.plotting import autocorrelation_plot\n",
        "from statsmodels.tsa.seasonal import seasonal_decompose\n",
        "\n",
        "from statsmodels.graphics.tsaplots import plot_acf, plot_pacf\n",
        "from sklearn.model_selection import TimeSeriesSplit\n",
        "from sklearn.model_selection import GridSearchCV, RandomizedSearchCV\n",
        "from sklearn.metrics import mean_squared_error\n",
        "from sklearn.linear_model import LinearRegression, Lasso, Ridge\n",
        "from sklearn.svm import LinearSVR\n",
        "from sklearn.ensemble import RandomForestRegressor\n",
        "import xgboost as xgb\n",
        "from sklearn.ensemble import StackingRegressor\n",
        "import pickle\n",
        "from sklearn.experimental import enable_iterative_imputer\n",
        "from sklearn.impute import IterativeImputer\n",
        "warnings.filterwarnings(\"ignore\")\n",
        "import matplotlib.pyplot as plt\n",
        "plt.rcParams.update({'figure.figsize':(9,7), 'figure.dpi':120})\n",
        "\n",
        "print(\"Import Succesfull\")"
      ],
      "execution_count": null,
      "outputs": [
        {
          "output_type": "display_data",
          "data": {
            "text/html": [
              "        <script type=\"text/javascript\">\n",
              "        window.PlotlyConfig = {MathJaxConfig: 'local'};\n",
              "        if (window.MathJax) {MathJax.Hub.Config({SVG: {font: \"STIX-Web\"}});}\n",
              "        if (typeof require !== 'undefined') {\n",
              "        require.undef(\"plotly\");\n",
              "        requirejs.config({\n",
              "            paths: {\n",
              "                'plotly': ['https://cdn.plot.ly/plotly-latest.min']\n",
              "            }\n",
              "        });\n",
              "        require(['plotly'], function(Plotly) {\n",
              "            window._Plotly = Plotly;\n",
              "        });\n",
              "        }\n",
              "        </script>\n",
              "        "
            ]
          },
          "metadata": {
            "tags": []
          }
        },
        {
          "output_type": "stream",
          "text": [
            "Import Succesfull\n"
          ],
          "name": "stdout"
        }
      ]
    },
    {
      "cell_type": "code",
      "metadata": {
        "id": "e5uGHBaFkws4",
        "colab_type": "code",
        "colab": {}
      },
      "source": [
        "# Get some data\n",
        "df = pd.read_excel((\"/content/drive/My Drive/Capstone_Commodity_SureshaHP/Onion/Onion_24Aug.xlsx\"),index=False,axis=1)"
      ],
      "execution_count": null,
      "outputs": []
    },
    {
      "cell_type": "code",
      "metadata": {
        "id": "dSWbvPzLlSLG",
        "colab_type": "code",
        "colab": {
          "base_uri": "https://localhost:8080/",
          "height": 197
        },
        "outputId": "4ebdabe6-89b0-4d44-8aa6-e75a7e2aa107"
      },
      "source": [
        "df.head()"
      ],
      "execution_count": null,
      "outputs": [
        {
          "output_type": "execute_result",
          "data": {
            "text/html": [
              "<div>\n",
              "<style scoped>\n",
              "    .dataframe tbody tr th:only-of-type {\n",
              "        vertical-align: middle;\n",
              "    }\n",
              "\n",
              "    .dataframe tbody tr th {\n",
              "        vertical-align: top;\n",
              "    }\n",
              "\n",
              "    .dataframe thead th {\n",
              "        text-align: right;\n",
              "    }\n",
              "</style>\n",
              "<table border=\"1\" class=\"dataframe\">\n",
              "  <thead>\n",
              "    <tr style=\"text-align: right;\">\n",
              "      <th></th>\n",
              "      <th>Date</th>\n",
              "      <th>Bengaluru_RetailPrice</th>\n",
              "      <th>Bengaluru_Volume</th>\n",
              "      <th>DieselPrice</th>\n",
              "    </tr>\n",
              "  </thead>\n",
              "  <tbody>\n",
              "    <tr>\n",
              "      <th>0</th>\n",
              "      <td>2015-01-01</td>\n",
              "      <td>2791.0</td>\n",
              "      <td>74978.0</td>\n",
              "      <td>53.74</td>\n",
              "    </tr>\n",
              "    <tr>\n",
              "      <th>1</th>\n",
              "      <td>2015-02-01</td>\n",
              "      <td>2750.0</td>\n",
              "      <td>42164.0</td>\n",
              "      <td>51.96</td>\n",
              "    </tr>\n",
              "    <tr>\n",
              "      <th>2</th>\n",
              "      <td>2015-03-01</td>\n",
              "      <td>2396.0</td>\n",
              "      <td>41339.0</td>\n",
              "      <td>55.41</td>\n",
              "    </tr>\n",
              "    <tr>\n",
              "      <th>3</th>\n",
              "      <td>2015-04-01</td>\n",
              "      <td>2260.0</td>\n",
              "      <td>43534.0</td>\n",
              "      <td>52.56</td>\n",
              "    </tr>\n",
              "    <tr>\n",
              "      <th>4</th>\n",
              "      <td>2015-05-01</td>\n",
              "      <td>2458.0</td>\n",
              "      <td>44227.0</td>\n",
              "      <td>58.19</td>\n",
              "    </tr>\n",
              "  </tbody>\n",
              "</table>\n",
              "</div>"
            ],
            "text/plain": [
              "        Date  Bengaluru_RetailPrice  Bengaluru_Volume  DieselPrice\n",
              "0 2015-01-01                 2791.0           74978.0        53.74\n",
              "1 2015-02-01                 2750.0           42164.0        51.96\n",
              "2 2015-03-01                 2396.0           41339.0        55.41\n",
              "3 2015-04-01                 2260.0           43534.0        52.56\n",
              "4 2015-05-01                 2458.0           44227.0        58.19"
            ]
          },
          "metadata": {
            "tags": []
          },
          "execution_count": 4
        }
      ]
    },
    {
      "cell_type": "code",
      "metadata": {
        "id": "QWtUD0salUY5",
        "colab_type": "code",
        "colab": {
          "base_uri": "https://localhost:8080/",
          "height": 212
        },
        "outputId": "5c2d91f2-d6db-496b-90bc-87862600f820"
      },
      "source": [
        "df.info()"
      ],
      "execution_count": null,
      "outputs": [
        {
          "output_type": "stream",
          "text": [
            "<class 'pandas.core.frame.DataFrame'>\n",
            "RangeIndex: 67 entries, 0 to 66\n",
            "Data columns (total 4 columns):\n",
            " #   Column                 Non-Null Count  Dtype         \n",
            "---  ------                 --------------  -----         \n",
            " 0   Date                   67 non-null     datetime64[ns]\n",
            " 1   Bengaluru_RetailPrice  67 non-null     float64       \n",
            " 2   Bengaluru_Volume       67 non-null     float64       \n",
            " 3   DieselPrice            67 non-null     float64       \n",
            "dtypes: datetime64[ns](1), float64(3)\n",
            "memory usage: 2.2 KB\n"
          ],
          "name": "stdout"
        }
      ]
    },
    {
      "cell_type": "markdown",
      "metadata": {
        "id": "wMq1XeYesFH8",
        "colab_type": "text"
      },
      "source": [
        "#  Prediction Models"
      ]
    },
    {
      "cell_type": "code",
      "metadata": {
        "id": "RJDm4d1wv6FN",
        "colab_type": "code",
        "colab": {
          "base_uri": "https://localhost:8080/",
          "height": 34
        },
        "outputId": "d91f786f-abe3-4a7b-c01f-0e1206320008"
      },
      "source": [
        "print(df.index)"
      ],
      "execution_count": null,
      "outputs": [
        {
          "output_type": "stream",
          "text": [
            "RangeIndex(start=0, stop=67, step=1)\n"
          ],
          "name": "stdout"
        }
      ]
    },
    {
      "cell_type": "code",
      "metadata": {
        "id": "0XOa-SlywFqb",
        "colab_type": "code",
        "colab": {
          "base_uri": "https://localhost:8080/",
          "height": 336
        },
        "outputId": "5c3bb521-761e-4c24-be98-948e1c9847b5"
      },
      "source": [
        "datetime_series = pd.to_datetime(df['Date'])\n",
        "\n",
        "# create datetime index passing the datetime series\n",
        "datetime_index = pd.DatetimeIndex(datetime_series.values)\n",
        "\n",
        "df5=df.set_index(datetime_index)\n",
        "\n",
        "# we don't need the column anymore\n",
        "df5.drop('Date',axis=1,inplace=True)\n",
        "\n",
        "print(df5.index)"
      ],
      "execution_count": null,
      "outputs": [
        {
          "output_type": "stream",
          "text": [
            "DatetimeIndex(['2015-01-01', '2015-02-01', '2015-03-01', '2015-04-01',\n",
            "               '2015-05-01', '2015-06-01', '2015-07-01', '2015-08-01',\n",
            "               '2015-09-01', '2015-10-01', '2015-11-01', '2015-12-01',\n",
            "               '2016-01-01', '2016-02-01', '2016-03-01', '2016-04-01',\n",
            "               '2016-05-01', '2016-06-01', '2016-07-01', '2016-08-01',\n",
            "               '2016-09-01', '2016-10-01', '2016-11-01', '2016-12-01',\n",
            "               '2017-01-01', '2017-02-01', '2017-03-01', '2017-04-01',\n",
            "               '2017-05-01', '2017-06-01', '2017-07-01', '2017-08-01',\n",
            "               '2017-09-01', '2017-10-01', '2017-11-01', '2017-12-01',\n",
            "               '2018-01-01', '2018-02-01', '2018-03-01', '2018-04-01',\n",
            "               '2018-05-01', '2018-06-01', '2018-07-01', '2018-08-01',\n",
            "               '2018-09-01', '2018-10-01', '2018-11-01', '2018-12-01',\n",
            "               '2019-01-01', '2019-02-01', '2019-03-01', '2019-04-01',\n",
            "               '2019-05-01', '2019-06-01', '2019-07-01', '2019-08-01',\n",
            "               '2019-09-01', '2019-10-01', '2019-11-01', '2019-12-01',\n",
            "               '2020-01-01', '2020-02-01', '2020-03-01', '2020-04-01',\n",
            "               '2020-05-01', '2020-06-01', '2020-07-01'],\n",
            "              dtype='datetime64[ns]', freq=None)\n"
          ],
          "name": "stdout"
        }
      ]
    },
    {
      "cell_type": "code",
      "metadata": {
        "id": "-YqFbE49Jod-",
        "colab_type": "code",
        "colab": {
          "base_uri": "https://localhost:8080/",
          "height": 197
        },
        "outputId": "62ce60fc-7a61-4e44-9a0d-e9370c37329c"
      },
      "source": [
        "col = ['Bengaluru_RetailPrice','Bengaluru_Volume','DieselPrice']\n",
        "df5 = df5[col]\n",
        "df5.head()"
      ],
      "execution_count": null,
      "outputs": [
        {
          "output_type": "execute_result",
          "data": {
            "text/html": [
              "<div>\n",
              "<style scoped>\n",
              "    .dataframe tbody tr th:only-of-type {\n",
              "        vertical-align: middle;\n",
              "    }\n",
              "\n",
              "    .dataframe tbody tr th {\n",
              "        vertical-align: top;\n",
              "    }\n",
              "\n",
              "    .dataframe thead th {\n",
              "        text-align: right;\n",
              "    }\n",
              "</style>\n",
              "<table border=\"1\" class=\"dataframe\">\n",
              "  <thead>\n",
              "    <tr style=\"text-align: right;\">\n",
              "      <th></th>\n",
              "      <th>Bengaluru_RetailPrice</th>\n",
              "      <th>Bengaluru_Volume</th>\n",
              "      <th>DieselPrice</th>\n",
              "    </tr>\n",
              "  </thead>\n",
              "  <tbody>\n",
              "    <tr>\n",
              "      <th>2015-01-01</th>\n",
              "      <td>2791.0</td>\n",
              "      <td>74978.0</td>\n",
              "      <td>53.74</td>\n",
              "    </tr>\n",
              "    <tr>\n",
              "      <th>2015-02-01</th>\n",
              "      <td>2750.0</td>\n",
              "      <td>42164.0</td>\n",
              "      <td>51.96</td>\n",
              "    </tr>\n",
              "    <tr>\n",
              "      <th>2015-03-01</th>\n",
              "      <td>2396.0</td>\n",
              "      <td>41339.0</td>\n",
              "      <td>55.41</td>\n",
              "    </tr>\n",
              "    <tr>\n",
              "      <th>2015-04-01</th>\n",
              "      <td>2260.0</td>\n",
              "      <td>43534.0</td>\n",
              "      <td>52.56</td>\n",
              "    </tr>\n",
              "    <tr>\n",
              "      <th>2015-05-01</th>\n",
              "      <td>2458.0</td>\n",
              "      <td>44227.0</td>\n",
              "      <td>58.19</td>\n",
              "    </tr>\n",
              "  </tbody>\n",
              "</table>\n",
              "</div>"
            ],
            "text/plain": [
              "            Bengaluru_RetailPrice  Bengaluru_Volume  DieselPrice\n",
              "2015-01-01                 2791.0           74978.0        53.74\n",
              "2015-02-01                 2750.0           42164.0        51.96\n",
              "2015-03-01                 2396.0           41339.0        55.41\n",
              "2015-04-01                 2260.0           43534.0        52.56\n",
              "2015-05-01                 2458.0           44227.0        58.19"
            ]
          },
          "metadata": {
            "tags": []
          },
          "execution_count": 8
        }
      ]
    },
    {
      "cell_type": "code",
      "metadata": {
        "id": "AebWxgYsLinv",
        "colab_type": "code",
        "colab": {}
      },
      "source": [
        "from sklearn.model_selection import train_test_split\n",
        "\n",
        "X = df5.drop(['Bengaluru_RetailPrice'], axis=1)\n",
        "#print('X columns: %s' % list(X.columns))\n",
        "\n",
        "y = df5['Bengaluru_RetailPrice']\n",
        "\n",
        "X_train, X_test, y_train, y_test = train_test_split(X, y, test_size=0.25)"
      ],
      "execution_count": null,
      "outputs": []
    },
    {
      "cell_type": "markdown",
      "metadata": {
        "id": "UV0mRqKz9Ss6",
        "colab_type": "text"
      },
      "source": [
        "# Ridge"
      ]
    },
    {
      "cell_type": "code",
      "metadata": {
        "id": "YA7km6Gf9VPk",
        "colab_type": "code",
        "colab": {
          "base_uri": "https://localhost:8080/",
          "height": 70
        },
        "outputId": "76e80581-08d9-4bd8-b081-41207c65c9d7"
      },
      "source": [
        "ridge_regression = Ridge()\n",
        "parameters = {'alpha':[10**-5, 10**-4, 10**-3, 10**-2, 0.1, 1, 10, 10**2, 10**3, 10**4, 10**5]}\n",
        "tscv = TimeSeriesSplit(n_splits=3)\n",
        "clf = GridSearchCV(ridge_regression, parameters, cv=tscv, scoring='neg_mean_squared_error', verbose = 2, return_train_score=True, n_jobs = -1)\n",
        "clf.fit(X_train, np.log1p(y_train))\n",
        "\n",
        "results = pd.DataFrame.from_dict(clf.cv_results_)"
      ],
      "execution_count": null,
      "outputs": [
        {
          "output_type": "stream",
          "text": [
            "Fitting 3 folds for each of 11 candidates, totalling 33 fits\n"
          ],
          "name": "stdout"
        },
        {
          "output_type": "stream",
          "text": [
            "[Parallel(n_jobs=-1)]: Using backend LokyBackend with 2 concurrent workers.\n",
            "[Parallel(n_jobs=-1)]: Done  33 out of  33 | elapsed:    1.2s finished\n"
          ],
          "name": "stderr"
        }
      ]
    },
    {
      "cell_type": "code",
      "metadata": {
        "id": "OcnqMNma9hny",
        "colab_type": "code",
        "colab": {
          "base_uri": "https://localhost:8080/",
          "height": 301
        },
        "outputId": "92221483-5c9b-4bf5-cf60-5e9935bfba93"
      },
      "source": [
        "train_score= results['mean_train_score']\n",
        "train_score_std= results['std_train_score']\n",
        "cv_score = results['mean_test_score'] \n",
        "cv_score_std= results['std_test_score']\n",
        "param_alpha = results['param_alpha']\n",
        "results.head(5)"
      ],
      "execution_count": null,
      "outputs": [
        {
          "output_type": "execute_result",
          "data": {
            "text/html": [
              "<div>\n",
              "<style scoped>\n",
              "    .dataframe tbody tr th:only-of-type {\n",
              "        vertical-align: middle;\n",
              "    }\n",
              "\n",
              "    .dataframe tbody tr th {\n",
              "        vertical-align: top;\n",
              "    }\n",
              "\n",
              "    .dataframe thead th {\n",
              "        text-align: right;\n",
              "    }\n",
              "</style>\n",
              "<table border=\"1\" class=\"dataframe\">\n",
              "  <thead>\n",
              "    <tr style=\"text-align: right;\">\n",
              "      <th></th>\n",
              "      <th>mean_fit_time</th>\n",
              "      <th>std_fit_time</th>\n",
              "      <th>mean_score_time</th>\n",
              "      <th>std_score_time</th>\n",
              "      <th>param_alpha</th>\n",
              "      <th>params</th>\n",
              "      <th>split0_test_score</th>\n",
              "      <th>split1_test_score</th>\n",
              "      <th>split2_test_score</th>\n",
              "      <th>mean_test_score</th>\n",
              "      <th>std_test_score</th>\n",
              "      <th>rank_test_score</th>\n",
              "      <th>split0_train_score</th>\n",
              "      <th>split1_train_score</th>\n",
              "      <th>split2_train_score</th>\n",
              "      <th>mean_train_score</th>\n",
              "      <th>std_train_score</th>\n",
              "    </tr>\n",
              "  </thead>\n",
              "  <tbody>\n",
              "    <tr>\n",
              "      <th>0</th>\n",
              "      <td>0.009893</td>\n",
              "      <td>0.008702</td>\n",
              "      <td>0.001168</td>\n",
              "      <td>0.000098</td>\n",
              "      <td>1e-05</td>\n",
              "      <td>{'alpha': 1e-05}</td>\n",
              "      <td>-0.528991</td>\n",
              "      <td>-0.091365</td>\n",
              "      <td>-0.301394</td>\n",
              "      <td>-0.307250</td>\n",
              "      <td>0.178708</td>\n",
              "      <td>1</td>\n",
              "      <td>-0.097764</td>\n",
              "      <td>-0.188738</td>\n",
              "      <td>-0.154757</td>\n",
              "      <td>-0.147086</td>\n",
              "      <td>0.037534</td>\n",
              "    </tr>\n",
              "    <tr>\n",
              "      <th>1</th>\n",
              "      <td>0.002565</td>\n",
              "      <td>0.000117</td>\n",
              "      <td>0.000974</td>\n",
              "      <td>0.000016</td>\n",
              "      <td>0.0001</td>\n",
              "      <td>{'alpha': 0.0001}</td>\n",
              "      <td>-0.528991</td>\n",
              "      <td>-0.091365</td>\n",
              "      <td>-0.301394</td>\n",
              "      <td>-0.307250</td>\n",
              "      <td>0.178708</td>\n",
              "      <td>2</td>\n",
              "      <td>-0.097764</td>\n",
              "      <td>-0.188738</td>\n",
              "      <td>-0.154757</td>\n",
              "      <td>-0.147086</td>\n",
              "      <td>0.037534</td>\n",
              "    </tr>\n",
              "    <tr>\n",
              "      <th>2</th>\n",
              "      <td>0.002778</td>\n",
              "      <td>0.000094</td>\n",
              "      <td>0.001059</td>\n",
              "      <td>0.000023</td>\n",
              "      <td>0.001</td>\n",
              "      <td>{'alpha': 0.001}</td>\n",
              "      <td>-0.528992</td>\n",
              "      <td>-0.091365</td>\n",
              "      <td>-0.301394</td>\n",
              "      <td>-0.307250</td>\n",
              "      <td>0.178709</td>\n",
              "      <td>3</td>\n",
              "      <td>-0.097764</td>\n",
              "      <td>-0.188738</td>\n",
              "      <td>-0.154757</td>\n",
              "      <td>-0.147086</td>\n",
              "      <td>0.037534</td>\n",
              "    </tr>\n",
              "    <tr>\n",
              "      <th>3</th>\n",
              "      <td>0.004126</td>\n",
              "      <td>0.002099</td>\n",
              "      <td>0.001043</td>\n",
              "      <td>0.000018</td>\n",
              "      <td>0.01</td>\n",
              "      <td>{'alpha': 0.01}</td>\n",
              "      <td>-0.529001</td>\n",
              "      <td>-0.091365</td>\n",
              "      <td>-0.301394</td>\n",
              "      <td>-0.307254</td>\n",
              "      <td>0.178712</td>\n",
              "      <td>4</td>\n",
              "      <td>-0.097764</td>\n",
              "      <td>-0.188738</td>\n",
              "      <td>-0.154757</td>\n",
              "      <td>-0.147086</td>\n",
              "      <td>0.037534</td>\n",
              "    </tr>\n",
              "    <tr>\n",
              "      <th>4</th>\n",
              "      <td>0.002662</td>\n",
              "      <td>0.000153</td>\n",
              "      <td>0.001024</td>\n",
              "      <td>0.000067</td>\n",
              "      <td>0.1</td>\n",
              "      <td>{'alpha': 0.1}</td>\n",
              "      <td>-0.529091</td>\n",
              "      <td>-0.091367</td>\n",
              "      <td>-0.301395</td>\n",
              "      <td>-0.307284</td>\n",
              "      <td>0.178749</td>\n",
              "      <td>5</td>\n",
              "      <td>-0.097764</td>\n",
              "      <td>-0.188738</td>\n",
              "      <td>-0.154757</td>\n",
              "      <td>-0.147086</td>\n",
              "      <td>0.037534</td>\n",
              "    </tr>\n",
              "  </tbody>\n",
              "</table>\n",
              "</div>"
            ],
            "text/plain": [
              "   mean_fit_time  std_fit_time  ...  mean_train_score  std_train_score\n",
              "0       0.009893      0.008702  ...         -0.147086         0.037534\n",
              "1       0.002565      0.000117  ...         -0.147086         0.037534\n",
              "2       0.002778      0.000094  ...         -0.147086         0.037534\n",
              "3       0.004126      0.002099  ...         -0.147086         0.037534\n",
              "4       0.002662      0.000153  ...         -0.147086         0.037534\n",
              "\n",
              "[5 rows x 17 columns]"
            ]
          },
          "metadata": {
            "tags": []
          },
          "execution_count": 11
        }
      ]
    },
    {
      "cell_type": "code",
      "metadata": {
        "id": "D9WDZYAL9m4U",
        "colab_type": "code",
        "colab": {
          "base_uri": "https://localhost:8080/",
          "height": 728
        },
        "outputId": "17879e0d-117f-47fa-fc79-e8750645f805"
      },
      "source": [
        "\n",
        "plt.plot(np.log10(param_alpha.astype(float)), np.abs(train_score), label = 'Train')\n",
        "plt.plot(np.log10(param_alpha.astype(float)), np.abs(cv_score), label = 'Validation')\n",
        "plt.xlabel('Log Alpha')\n",
        "plt.ylabel('MSE')\n",
        "plt.legend()\n",
        "plt.show()"
      ],
      "execution_count": null,
      "outputs": [
        {
          "output_type": "display_data",
          "data": {
            "image/png": "[encoded data removed]",
            "text/plain": [
              "<Figure size 1080x840 with 1 Axes>"
            ]
          },
          "metadata": {
            "tags": [],
            "needs_background": "light"
          }
        }
      ]
    },
    {
      "cell_type": "code",
      "metadata": {
        "id": "vOWWAOQM_Fxs",
        "colab_type": "code",
        "colab": {}
      },
      "source": [
        "import sklearn"
      ],
      "execution_count": null,
      "outputs": []
    },
    {
      "cell_type": "code",
      "metadata": {
        "id": "wEyAVoOE_Deu",
        "colab_type": "code",
        "colab": {}
      },
      "source": [
        "import sklearn.metrics as metrics"
      ],
      "execution_count": null,
      "outputs": []
    },
    {
      "cell_type": "code",
      "metadata": {
        "id": "QRHAFvcO_RMZ",
        "colab_type": "code",
        "colab": {}
      },
      "source": [
        "import math"
      ],
      "execution_count": null,
      "outputs": []
    },
    {
      "cell_type": "code",
      "metadata": {
        "id": "IHculRAc_OD_",
        "colab_type": "code",
        "colab": {}
      },
      "source": [
        "from math import *"
      ],
      "execution_count": null,
      "outputs": []
    },
    {
      "cell_type": "code",
      "metadata": {
        "id": "cutzlrZk9sHB",
        "colab_type": "code",
        "colab": {
          "base_uri": "https://localhost:8080/",
          "height": 34
        },
        "outputId": "a45758fa-0a47-4cca-d739-519ad875e6ad"
      },
      "source": [
        "ridge_regression = Ridge(alpha = 100)\n",
        "ridge_regression.fit(X_train, np.log1p(y_train))\n",
        "\n",
        "y_train_pred = ridge_regression.predict(X_train) \n",
        "mse = sklearn.metrics.mean_squared_error(y_train, y_train_pred)\n",
        "rmse = math.sqrt(mse)\n",
        "\n",
        "print(rmse)"
      ],
      "execution_count": null,
      "outputs": [
        {
          "output_type": "stream",
          "text": [
            "3103.5371249256104\n"
          ],
          "name": "stdout"
        }
      ]
    },
    {
      "cell_type": "code",
      "metadata": {
        "id": "W_KTJTrCEQlK",
        "colab_type": "code",
        "colab": {
          "base_uri": "https://localhost:8080/",
          "height": 34
        },
        "outputId": "0756cdc2-e201-4fef-e944-9c5a0589aea6"
      },
      "source": [
        "y_test_pred = ridge_regression.predict(X_test) \n",
        "mse1 = sklearn.metrics.mean_squared_error(y_test, y_test_pred)\n",
        "rmse1 = math.sqrt(mse1)\n",
        "\n",
        "print(rmse1)"
      ],
      "execution_count": null,
      "outputs": [
        {
          "output_type": "stream",
          "text": [
            "2804.0798598154825\n"
          ],
          "name": "stdout"
        }
      ]
    },
    {
      "cell_type": "markdown",
      "metadata": {
        "id": "gU67co1HMDf8",
        "colab_type": "text"
      },
      "source": [
        "# 5. Lasso Regression"
      ]
    },
    {
      "cell_type": "code",
      "metadata": {
        "id": "6rrME61kLxsT",
        "colab_type": "code",
        "colab": {
          "base_uri": "https://localhost:8080/",
          "height": 87
        },
        "outputId": "1b84cb3f-9cc8-48ef-e0fa-dfb9c108ba93"
      },
      "source": [
        "lasso_regression = Lasso()\n",
        "parameters2 = {'alpha':[10**-5, 10**-4, 10**-3, 10**-2, 0.1, 1, 10, 10**2, 10**3, 10**4, 10**5]}\n",
        "tscv = TimeSeriesSplit(n_splits=3)\n",
        "clf2 = GridSearchCV(lasso_regression, parameters2, cv=tscv, scoring='neg_mean_squared_error', verbose = 2, return_train_score=True, n_jobs = -1)\n",
        "clf2.fit(X_train, np.log1p(y_train))\n",
        "\n",
        "results1 = pd.DataFrame.from_dict(clf2.cv_results_)"
      ],
      "execution_count": null,
      "outputs": [
        {
          "output_type": "stream",
          "text": [
            "Fitting 3 folds for each of 11 candidates, totalling 33 fits\n"
          ],
          "name": "stdout"
        },
        {
          "output_type": "stream",
          "text": [
            "[Parallel(n_jobs=-1)]: Using backend LokyBackend with 2 concurrent workers.\n",
            "[Parallel(n_jobs=-1)]: Done  30 out of  33 | elapsed:    0.1s remaining:    0.0s\n",
            "[Parallel(n_jobs=-1)]: Done  33 out of  33 | elapsed:    0.1s finished\n"
          ],
          "name": "stderr"
        }
      ]
    },
    {
      "cell_type": "code",
      "metadata": {
        "id": "C3QeHstQ_9-_",
        "colab_type": "code",
        "colab": {
          "base_uri": "https://localhost:8080/",
          "height": 301
        },
        "outputId": "4ca0b746-d7c9-4b28-8ade-ce8b185fc376"
      },
      "source": [
        "train_score1= results['mean_train_score']\n",
        "train_score_std1= results['std_train_score']\n",
        "cv_score1 = results['mean_test_score'] \n",
        "cv_score_std1= results['std_test_score']\n",
        "param_alpha1 = results['param_alpha']\n",
        "results1.head(5)"
      ],
      "execution_count": null,
      "outputs": [
        {
          "output_type": "execute_result",
          "data": {
            "text/html": [
              "<div>\n",
              "<style scoped>\n",
              "    .dataframe tbody tr th:only-of-type {\n",
              "        vertical-align: middle;\n",
              "    }\n",
              "\n",
              "    .dataframe tbody tr th {\n",
              "        vertical-align: top;\n",
              "    }\n",
              "\n",
              "    .dataframe thead th {\n",
              "        text-align: right;\n",
              "    }\n",
              "</style>\n",
              "<table border=\"1\" class=\"dataframe\">\n",
              "  <thead>\n",
              "    <tr style=\"text-align: right;\">\n",
              "      <th></th>\n",
              "      <th>mean_fit_time</th>\n",
              "      <th>std_fit_time</th>\n",
              "      <th>mean_score_time</th>\n",
              "      <th>std_score_time</th>\n",
              "      <th>param_alpha</th>\n",
              "      <th>params</th>\n",
              "      <th>split0_test_score</th>\n",
              "      <th>split1_test_score</th>\n",
              "      <th>split2_test_score</th>\n",
              "      <th>mean_test_score</th>\n",
              "      <th>std_test_score</th>\n",
              "      <th>rank_test_score</th>\n",
              "      <th>split0_train_score</th>\n",
              "      <th>split1_train_score</th>\n",
              "      <th>split2_train_score</th>\n",
              "      <th>mean_train_score</th>\n",
              "      <th>std_train_score</th>\n",
              "    </tr>\n",
              "  </thead>\n",
              "  <tbody>\n",
              "    <tr>\n",
              "      <th>0</th>\n",
              "      <td>0.003136</td>\n",
              "      <td>0.000604</td>\n",
              "      <td>0.001176</td>\n",
              "      <td>0.000378</td>\n",
              "      <td>1e-05</td>\n",
              "      <td>{'alpha': 1e-05}</td>\n",
              "      <td>-0.529008</td>\n",
              "      <td>-0.091365</td>\n",
              "      <td>-0.301394</td>\n",
              "      <td>-0.307256</td>\n",
              "      <td>0.178715</td>\n",
              "      <td>4</td>\n",
              "      <td>-0.097764</td>\n",
              "      <td>-0.188738</td>\n",
              "      <td>-0.154757</td>\n",
              "      <td>-0.147086</td>\n",
              "      <td>0.037534</td>\n",
              "    </tr>\n",
              "    <tr>\n",
              "      <th>1</th>\n",
              "      <td>0.002420</td>\n",
              "      <td>0.000394</td>\n",
              "      <td>0.003374</td>\n",
              "      <td>0.003249</td>\n",
              "      <td>0.0001</td>\n",
              "      <td>{'alpha': 0.0001}</td>\n",
              "      <td>-0.529154</td>\n",
              "      <td>-0.091369</td>\n",
              "      <td>-0.301395</td>\n",
              "      <td>-0.307306</td>\n",
              "      <td>0.178774</td>\n",
              "      <td>5</td>\n",
              "      <td>-0.097764</td>\n",
              "      <td>-0.188738</td>\n",
              "      <td>-0.154757</td>\n",
              "      <td>-0.147086</td>\n",
              "      <td>0.037534</td>\n",
              "    </tr>\n",
              "    <tr>\n",
              "      <th>2</th>\n",
              "      <td>0.003235</td>\n",
              "      <td>0.000841</td>\n",
              "      <td>0.001176</td>\n",
              "      <td>0.000143</td>\n",
              "      <td>0.001</td>\n",
              "      <td>{'alpha': 0.001}</td>\n",
              "      <td>-0.530618</td>\n",
              "      <td>-0.091412</td>\n",
              "      <td>-0.301400</td>\n",
              "      <td>-0.307810</td>\n",
              "      <td>0.179362</td>\n",
              "      <td>6</td>\n",
              "      <td>-0.097764</td>\n",
              "      <td>-0.188738</td>\n",
              "      <td>-0.154757</td>\n",
              "      <td>-0.147086</td>\n",
              "      <td>0.037534</td>\n",
              "    </tr>\n",
              "    <tr>\n",
              "      <th>3</th>\n",
              "      <td>0.002810</td>\n",
              "      <td>0.000145</td>\n",
              "      <td>0.001098</td>\n",
              "      <td>0.000019</td>\n",
              "      <td>0.01</td>\n",
              "      <td>{'alpha': 0.01}</td>\n",
              "      <td>-0.545547</td>\n",
              "      <td>-0.091842</td>\n",
              "      <td>-0.301451</td>\n",
              "      <td>-0.312947</td>\n",
              "      <td>0.185403</td>\n",
              "      <td>7</td>\n",
              "      <td>-0.097771</td>\n",
              "      <td>-0.188740</td>\n",
              "      <td>-0.154759</td>\n",
              "      <td>-0.147090</td>\n",
              "      <td>0.037532</td>\n",
              "    </tr>\n",
              "    <tr>\n",
              "      <th>4</th>\n",
              "      <td>0.002673</td>\n",
              "      <td>0.000046</td>\n",
              "      <td>0.001106</td>\n",
              "      <td>0.000018</td>\n",
              "      <td>0.1</td>\n",
              "      <td>{'alpha': 0.1}</td>\n",
              "      <td>-0.722892</td>\n",
              "      <td>-0.096444</td>\n",
              "      <td>-0.302081</td>\n",
              "      <td>-0.373805</td>\n",
              "      <td>0.260727</td>\n",
              "      <td>8</td>\n",
              "      <td>-0.098462</td>\n",
              "      <td>-0.188933</td>\n",
              "      <td>-0.154918</td>\n",
              "      <td>-0.147438</td>\n",
              "      <td>0.037312</td>\n",
              "    </tr>\n",
              "  </tbody>\n",
              "</table>\n",
              "</div>"
            ],
            "text/plain": [
              "   mean_fit_time  std_fit_time  ...  mean_train_score  std_train_score\n",
              "0       0.003136      0.000604  ...         -0.147086         0.037534\n",
              "1       0.002420      0.000394  ...         -0.147086         0.037534\n",
              "2       0.003235      0.000841  ...         -0.147086         0.037534\n",
              "3       0.002810      0.000145  ...         -0.147090         0.037532\n",
              "4       0.002673      0.000046  ...         -0.147438         0.037312\n",
              "\n",
              "[5 rows x 17 columns]"
            ]
          },
          "metadata": {
            "tags": []
          },
          "execution_count": 20
        }
      ]
    },
    {
      "cell_type": "code",
      "metadata": {
        "id": "o5Z10QGOAA65",
        "colab_type": "code",
        "colab": {
          "base_uri": "https://localhost:8080/",
          "height": 728
        },
        "outputId": "a75ed500-0801-465b-af48-67f38d9645ff"
      },
      "source": [
        "plt.plot(np.log10(param_alpha1.astype(float)), np.abs(train_score1), label = 'Train')\n",
        "plt.plot(np.log10(param_alpha1.astype(float)), np.abs(cv_score1), label = 'Validation')\n",
        "plt.xlabel('Log Alpha')\n",
        "plt.ylabel('MSE')\n",
        "plt.legend()\n",
        "plt.show()"
      ],
      "execution_count": null,
      "outputs": [
        {
          "output_type": "display_data",
          "data": {
            "image/png": "[encoded data removed]",
            "text/plain": [
              "<Figure size 1080x840 with 1 Axes>"
            ]
          },
          "metadata": {
            "tags": [],
            "needs_background": "light"
          }
        }
      ]
    },
    {
      "cell_type": "code",
      "metadata": {
        "id": "9Q9xgeR2AESb",
        "colab_type": "code",
        "colab": {
          "base_uri": "https://localhost:8080/",
          "height": 34
        },
        "outputId": "b616bf66-e47a-4eb4-cbaf-11ece8d75ef6"
      },
      "source": [
        "lasso_regression = Lasso(alpha = 0.1)\n",
        "lasso_regression.fit(X_train, np.log1p(y_train))\n",
        "\n",
        "y_train_pred2 = lasso_regression.predict(X_train)  \n",
        "\n",
        "mse2 = sklearn.metrics.mean_squared_error(y_train, y_train_pred2)\n",
        "rmse2 = math.sqrt(mse2)\n",
        "print(rmse2)"
      ],
      "execution_count": null,
      "outputs": [
        {
          "output_type": "stream",
          "text": [
            "3103.5377352702753\n"
          ],
          "name": "stdout"
        }
      ]
    },
    {
      "cell_type": "code",
      "metadata": {
        "id": "Jj9N7zmkEkWw",
        "colab_type": "code",
        "colab": {
          "base_uri": "https://localhost:8080/",
          "height": 34
        },
        "outputId": "7e221c84-5301-4ede-d455-f80c06c96d71"
      },
      "source": [
        "y_test_pred3 = lasso_regression.predict(X_test)  \n",
        "\n",
        "mse3 = sklearn.metrics.mean_squared_error(y_test, y_test_pred3)\n",
        "rmse3 = math.sqrt(mse3)\n",
        "print(rmse3)"
      ],
      "execution_count": null,
      "outputs": [
        {
          "output_type": "stream",
          "text": [
            "2804.082644338316\n"
          ],
          "name": "stdout"
        }
      ]
    },
    {
      "cell_type": "markdown",
      "metadata": {
        "id": "q-2PEFbMAmAY",
        "colab_type": "text"
      },
      "source": [
        "# 7 Linear SVR"
      ]
    },
    {
      "cell_type": "code",
      "metadata": {
        "id": "PtXNBSCGApZb",
        "colab_type": "code",
        "colab": {
          "base_uri": "https://localhost:8080/",
          "height": 70
        },
        "outputId": "1010e7a7-1916-4d0c-9f80-69b531cceee6"
      },
      "source": [
        "svr_regression = LinearSVR()\n",
        "parameters3 = {'C':[10**-4, 10**-3, 10**-2, 0.1, 1, 10, 10**2, 10**3, 10**4]}\n",
        "tscv = TimeSeriesSplit(n_splits=3)\n",
        "clf3 = GridSearchCV(svr_regression, parameters3, cv=tscv, scoring='neg_mean_squared_error', verbose = 2, return_train_score=True, n_jobs = -1)\n",
        "clf3.fit(X_train, np.log1p(y_train))\n",
        "\n",
        "results3 = pd.DataFrame.from_dict(clf3.cv_results_)"
      ],
      "execution_count": null,
      "outputs": [
        {
          "output_type": "stream",
          "text": [
            "Fitting 3 folds for each of 9 candidates, totalling 27 fits\n"
          ],
          "name": "stdout"
        },
        {
          "output_type": "stream",
          "text": [
            "[Parallel(n_jobs=-1)]: Using backend LokyBackend with 2 concurrent workers.\n",
            "[Parallel(n_jobs=-1)]: Done  27 out of  27 | elapsed:    0.1s finished\n"
          ],
          "name": "stderr"
        }
      ]
    },
    {
      "cell_type": "code",
      "metadata": {
        "id": "p1uPYr-ABnnL",
        "colab_type": "code",
        "colab": {
          "base_uri": "https://localhost:8080/",
          "height": 301
        },
        "outputId": "cc6dd04f-6cc1-4243-8a0f-afb717eb72dd"
      },
      "source": [
        "train_score_std3= results3['std_train_score']\n",
        "cv_score3 = results3['mean_test_score'] \n",
        "cv_score_std3= results3['std_test_score']\n",
        "param_C3 = results3['param_C']\n",
        "results.head(5)"
      ],
      "execution_count": null,
      "outputs": [
        {
          "output_type": "execute_result",
          "data": {
            "text/html": [
              "<div>\n",
              "<style scoped>\n",
              "    .dataframe tbody tr th:only-of-type {\n",
              "        vertical-align: middle;\n",
              "    }\n",
              "\n",
              "    .dataframe tbody tr th {\n",
              "        vertical-align: top;\n",
              "    }\n",
              "\n",
              "    .dataframe thead th {\n",
              "        text-align: right;\n",
              "    }\n",
              "</style>\n",
              "<table border=\"1\" class=\"dataframe\">\n",
              "  <thead>\n",
              "    <tr style=\"text-align: right;\">\n",
              "      <th></th>\n",
              "      <th>mean_fit_time</th>\n",
              "      <th>std_fit_time</th>\n",
              "      <th>mean_score_time</th>\n",
              "      <th>std_score_time</th>\n",
              "      <th>param_alpha</th>\n",
              "      <th>params</th>\n",
              "      <th>split0_test_score</th>\n",
              "      <th>split1_test_score</th>\n",
              "      <th>split2_test_score</th>\n",
              "      <th>mean_test_score</th>\n",
              "      <th>std_test_score</th>\n",
              "      <th>rank_test_score</th>\n",
              "      <th>split0_train_score</th>\n",
              "      <th>split1_train_score</th>\n",
              "      <th>split2_train_score</th>\n",
              "      <th>mean_train_score</th>\n",
              "      <th>std_train_score</th>\n",
              "    </tr>\n",
              "  </thead>\n",
              "  <tbody>\n",
              "    <tr>\n",
              "      <th>0</th>\n",
              "      <td>0.009893</td>\n",
              "      <td>0.008702</td>\n",
              "      <td>0.001168</td>\n",
              "      <td>0.000098</td>\n",
              "      <td>1e-05</td>\n",
              "      <td>{'alpha': 1e-05}</td>\n",
              "      <td>-0.528991</td>\n",
              "      <td>-0.091365</td>\n",
              "      <td>-0.301394</td>\n",
              "      <td>-0.307250</td>\n",
              "      <td>0.178708</td>\n",
              "      <td>1</td>\n",
              "      <td>-0.097764</td>\n",
              "      <td>-0.188738</td>\n",
              "      <td>-0.154757</td>\n",
              "      <td>-0.147086</td>\n",
              "      <td>0.037534</td>\n",
              "    </tr>\n",
              "    <tr>\n",
              "      <th>1</th>\n",
              "      <td>0.002565</td>\n",
              "      <td>0.000117</td>\n",
              "      <td>0.000974</td>\n",
              "      <td>0.000016</td>\n",
              "      <td>0.0001</td>\n",
              "      <td>{'alpha': 0.0001}</td>\n",
              "      <td>-0.528991</td>\n",
              "      <td>-0.091365</td>\n",
              "      <td>-0.301394</td>\n",
              "      <td>-0.307250</td>\n",
              "      <td>0.178708</td>\n",
              "      <td>2</td>\n",
              "      <td>-0.097764</td>\n",
              "      <td>-0.188738</td>\n",
              "      <td>-0.154757</td>\n",
              "      <td>-0.147086</td>\n",
              "      <td>0.037534</td>\n",
              "    </tr>\n",
              "    <tr>\n",
              "      <th>2</th>\n",
              "      <td>0.002778</td>\n",
              "      <td>0.000094</td>\n",
              "      <td>0.001059</td>\n",
              "      <td>0.000023</td>\n",
              "      <td>0.001</td>\n",
              "      <td>{'alpha': 0.001}</td>\n",
              "      <td>-0.528992</td>\n",
              "      <td>-0.091365</td>\n",
              "      <td>-0.301394</td>\n",
              "      <td>-0.307250</td>\n",
              "      <td>0.178709</td>\n",
              "      <td>3</td>\n",
              "      <td>-0.097764</td>\n",
              "      <td>-0.188738</td>\n",
              "      <td>-0.154757</td>\n",
              "      <td>-0.147086</td>\n",
              "      <td>0.037534</td>\n",
              "    </tr>\n",
              "    <tr>\n",
              "      <th>3</th>\n",
              "      <td>0.004126</td>\n",
              "      <td>0.002099</td>\n",
              "      <td>0.001043</td>\n",
              "      <td>0.000018</td>\n",
              "      <td>0.01</td>\n",
              "      <td>{'alpha': 0.01}</td>\n",
              "      <td>-0.529001</td>\n",
              "      <td>-0.091365</td>\n",
              "      <td>-0.301394</td>\n",
              "      <td>-0.307254</td>\n",
              "      <td>0.178712</td>\n",
              "      <td>4</td>\n",
              "      <td>-0.097764</td>\n",
              "      <td>-0.188738</td>\n",
              "      <td>-0.154757</td>\n",
              "      <td>-0.147086</td>\n",
              "      <td>0.037534</td>\n",
              "    </tr>\n",
              "    <tr>\n",
              "      <th>4</th>\n",
              "      <td>0.002662</td>\n",
              "      <td>0.000153</td>\n",
              "      <td>0.001024</td>\n",
              "      <td>0.000067</td>\n",
              "      <td>0.1</td>\n",
              "      <td>{'alpha': 0.1}</td>\n",
              "      <td>-0.529091</td>\n",
              "      <td>-0.091367</td>\n",
              "      <td>-0.301395</td>\n",
              "      <td>-0.307284</td>\n",
              "      <td>0.178749</td>\n",
              "      <td>5</td>\n",
              "      <td>-0.097764</td>\n",
              "      <td>-0.188738</td>\n",
              "      <td>-0.154757</td>\n",
              "      <td>-0.147086</td>\n",
              "      <td>0.037534</td>\n",
              "    </tr>\n",
              "  </tbody>\n",
              "</table>\n",
              "</div>"
            ],
            "text/plain": [
              "   mean_fit_time  std_fit_time  ...  mean_train_score  std_train_score\n",
              "0       0.009893      0.008702  ...         -0.147086         0.037534\n",
              "1       0.002565      0.000117  ...         -0.147086         0.037534\n",
              "2       0.002778      0.000094  ...         -0.147086         0.037534\n",
              "3       0.004126      0.002099  ...         -0.147086         0.037534\n",
              "4       0.002662      0.000153  ...         -0.147086         0.037534\n",
              "\n",
              "[5 rows x 17 columns]"
            ]
          },
          "metadata": {
            "tags": []
          },
          "execution_count": 25
        }
      ]
    },
    {
      "cell_type": "code",
      "metadata": {
        "id": "6Qovyst0BwsE",
        "colab_type": "code",
        "colab": {
          "base_uri": "https://localhost:8080/",
          "height": 733
        },
        "outputId": "ea7b0ac8-0f11-4d87-bf2e-c9a76b60cd55"
      },
      "source": [
        "plt.plot(np.log10(param_C3.astype(float)), np.abs(train_score_std3), label = 'Train')\n",
        "plt.plot(np.log10(param_C3.astype(float)), np.abs(cv_score_std3), label = 'Validation')\n",
        "plt.xlabel('Log C')\n",
        "plt.ylabel('MSE')\n",
        "plt.legend()\n",
        "plt.show()"
      ],
      "execution_count": null,
      "outputs": [
        {
          "output_type": "display_data",
          "data": {
            "image/png": "[encoded data removed]",
            "text/plain": [
              "<Figure size 1080x840 with 1 Axes>"
            ]
          },
          "metadata": {
            "tags": [],
            "needs_background": "light"
          }
        }
      ]
    },
    {
      "cell_type": "code",
      "metadata": {
        "id": "4Epw-E-iCS9M",
        "colab_type": "code",
        "colab": {
          "base_uri": "https://localhost:8080/",
          "height": 34
        },
        "outputId": "5c39338c-4dc3-43c1-9130-aa684a7d1581"
      },
      "source": [
        "svr_regression = LinearSVR(C = 0.01)\n",
        "svr_regression.fit(X_train, np.log1p(y_train))\n",
        "\n",
        "y_train_pred4 = svr_regression.predict(X_train) \n",
        "\n",
        "mse4 = sklearn.metrics.mean_squared_error(y_train, y_train_pred4)\n",
        "rmse4 = math.sqrt(mse4)\n",
        "print(rmse4)"
      ],
      "execution_count": null,
      "outputs": [
        {
          "output_type": "stream",
          "text": [
            "3103.8069732254057\n"
          ],
          "name": "stdout"
        }
      ]
    },
    {
      "cell_type": "code",
      "metadata": {
        "id": "FzcZHA7pFIeQ",
        "colab_type": "code",
        "colab": {
          "base_uri": "https://localhost:8080/",
          "height": 34
        },
        "outputId": "bac96f74-c1cc-494e-c1b0-f1e202b6ada1"
      },
      "source": [
        "y_test_pred5 = svr_regression.predict(X_test) \n",
        "\n",
        "mse5 = sklearn.metrics.mean_squared_error(y_test, y_test_pred5)\n",
        "rmse5 = math.sqrt(mse5)\n",
        "print(rmse5)"
      ],
      "execution_count": null,
      "outputs": [
        {
          "output_type": "stream",
          "text": [
            "2805.7701496889663\n"
          ],
          "name": "stdout"
        }
      ]
    },
    {
      "cell_type": "markdown",
      "metadata": {
        "id": "F3yFwEDfNeV1",
        "colab_type": "text"
      },
      "source": [
        "# 9. Random forest regressor"
      ]
    },
    {
      "cell_type": "code",
      "metadata": {
        "id": "jXvwT2QMNFTw",
        "colab_type": "code",
        "colab": {
          "base_uri": "https://localhost:8080/",
          "height": 34
        },
        "outputId": "836962f7-fa97-4451-b4ef-d51919930e08"
      },
      "source": [
        "from sklearn.ensemble import RandomForestRegressor\n",
        "RForest = RandomForestRegressor()\n",
        "RForest.fit(X_train,y_train)\n",
        "print(RForest.score(X_train,y_train))  "
      ],
      "execution_count": null,
      "outputs": [
        {
          "output_type": "stream",
          "text": [
            "0.7925266178136585\n"
          ],
          "name": "stdout"
        }
      ]
    },
    {
      "cell_type": "code",
      "metadata": {
        "id": "5S06kgvWC_tW",
        "colab_type": "code",
        "colab": {
          "base_uri": "https://localhost:8080/",
          "height": 34
        },
        "outputId": "8b8765e1-ce73-4050-b00c-692ace856968"
      },
      "source": [
        "y_train_pred6 = RForest.predict(X_train) \n",
        "\n",
        "mse6 = sklearn.metrics.mean_squared_error(y_train, y_train_pred6)\n",
        "rmse6 = math.sqrt(mse6)\n",
        "print(rmse6)"
      ],
      "execution_count": null,
      "outputs": [
        {
          "output_type": "stream",
          "text": [
            "762.9707402980993\n"
          ],
          "name": "stdout"
        }
      ]
    },
    {
      "cell_type": "code",
      "metadata": {
        "id": "3GNQUspCFfDx",
        "colab_type": "code",
        "colab": {
          "base_uri": "https://localhost:8080/",
          "height": 34
        },
        "outputId": "138e26ce-a6c6-486b-cd88-42af2802b05e"
      },
      "source": [
        "y_test_pred7 = RForest.predict(X_test) \n",
        "\n",
        "mse7 = sklearn.metrics.mean_squared_error(y_test, y_test_pred7)\n",
        "rmse7 = math.sqrt(mse7)\n",
        "print(rmse7)"
      ],
      "execution_count": null,
      "outputs": [
        {
          "output_type": "stream",
          "text": [
            "1213.8483856016096\n"
          ],
          "name": "stdout"
        }
      ]
    },
    {
      "cell_type": "markdown",
      "metadata": {
        "id": "rWFxMoHtMyj_",
        "colab_type": "text"
      },
      "source": [
        "# XGBoost regressor"
      ]
    },
    {
      "cell_type": "code",
      "metadata": {
        "id": "NH_5dN_AM1XV",
        "colab_type": "code",
        "colab": {
          "base_uri": "https://localhost:8080/",
          "height": 905
        },
        "outputId": "7313e414-b683-4d49-e1c1-1e062e9f3ecf"
      },
      "source": [
        "#from sklearn.preprocessing import StandardScaler\n",
        "from sklearn.preprocessing import MinMaxScaler\n",
        "scaler = MinMaxScaler(feature_range = (0,1))\n",
        "# prepare the model XGB\n",
        "X_train_scaled = scaler.fit_transform(X_train)\n",
        "print(X_train_scaled)"
      ],
      "execution_count": null,
      "outputs": [
        {
          "output_type": "stream",
          "text": [
            "[[0.16625855 0.26162199]\n",
            " [0.19099087 0.42925008]\n",
            " [0.23491606 0.64200882]\n",
            " [0.19074537 0.70410587]\n",
            " [0.24719094 0.37597557]\n",
            " [0.08172553 0.31523583]\n",
            " [0.23188825 0.69528334]\n",
            " [0.04466169 0.10553105]\n",
            " [0.18443797 0.35595521]\n",
            " [0.05183148 0.0844927 ]\n",
            " [0.2479989  0.58296573]\n",
            " [0.25375643 0.7804547 ]\n",
            " [0.24212991 0.69460468]\n",
            " [0.06800914 0.3413641 ]\n",
            " [0.19802847 0.66677978]\n",
            " [0.22266636 0.6935867 ]\n",
            " [0.78231284 0.69799796]\n",
            " [0.5272345  0.4414659 ]\n",
            " [0.         0.85748219]\n",
            " [0.13030889 0.46759416]\n",
            " [1.         0.05293519]\n",
            " [0.39398594 0.18357652]\n",
            " [0.23905804 0.6128266 ]\n",
            " [0.09052568 0.31252121]\n",
            " [0.03974544 0.0458093 ]\n",
            " [0.34204745 0.7502545 ]\n",
            " [0.2944272  0.81099423]\n",
            " [0.62700096 0.        ]\n",
            " [0.77022051 1.        ]\n",
            " [0.04860853 0.28775025]\n",
            " [0.04821825 0.11129963]\n",
            " [0.29230585 0.64913471]\n",
            " [0.17145177 0.14455378]\n",
            " [0.19532799 0.19239905]\n",
            " [0.04002241 0.31421785]\n",
            " [0.25684089 0.77706142]\n",
            " [0.18598649 0.77434679]\n",
            " [0.24420091 0.60807601]\n",
            " [0.2431182  0.38853071]\n",
            " [0.21612605 0.42416016]\n",
            " [0.22218795 0.63318629]\n",
            " [0.18007566 0.16491347]\n",
            " [0.18388402 0.6851035 ]\n",
            " [0.31596175 0.88802172]\n",
            " [0.37800971 0.20495419]\n",
            " [0.5539245  0.71632168]\n",
            " [0.7197613  0.95486936]\n",
            " [0.17925104 0.30505599]\n",
            " [0.13717023 0.56633865]\n",
            " [0.30379388 0.68171021]]\n"
          ],
          "name": "stdout"
        }
      ]
    },
    {
      "cell_type": "code",
      "metadata": {
        "id": "X6I05JElM88B",
        "colab_type": "code",
        "colab": {
          "base_uri": "https://localhost:8080/",
          "height": 141
        },
        "outputId": "d3dd6396-c71b-49a5-f6c5-ce3f9c726307"
      },
      "source": [
        "xg_reg = xgb.XGBRegressor(objective ='reg:squarederror', colsample_bytree = 0.3, learning_rate = 0.1,\n",
        "max_depth = 5, alpha = 10, n_estimators = 100)\n",
        "xg_reg.fit(X_train_scaled, y_train)"
      ],
      "execution_count": null,
      "outputs": [
        {
          "output_type": "execute_result",
          "data": {
            "text/plain": [
              "XGBRegressor(alpha=10, base_score=0.5, booster='gbtree', colsample_bylevel=1,\n",
              "             colsample_bynode=1, colsample_bytree=0.3, gamma=0,\n",
              "             importance_type='gain', learning_rate=0.1, max_delta_step=0,\n",
              "             max_depth=5, min_child_weight=1, missing=None, n_estimators=100,\n",
              "             n_jobs=1, nthread=None, objective='reg:squarederror',\n",
              "             random_state=0, reg_alpha=0, reg_lambda=1, scale_pos_weight=1,\n",
              "             seed=None, silent=None, subsample=1, verbosity=1)"
            ]
          },
          "metadata": {
            "tags": []
          },
          "execution_count": 33
        }
      ]
    },
    {
      "cell_type": "code",
      "metadata": {
        "id": "NT_yd5T1NJKD",
        "colab_type": "code",
        "colab": {
          "base_uri": "https://localhost:8080/",
          "height": 34
        },
        "outputId": "46f105d6-b167-4b0a-d601-40b1da831f2e"
      },
      "source": [
        "train_pred=xg_reg.predict(X_train_scaled)\n",
        "rmseXG=np.sqrt(mean_squared_error(y_train,train_pred))\n",
        "print(\"RMSE_train_XG:%f\" % (rmseXG))"
      ],
      "execution_count": null,
      "outputs": [
        {
          "output_type": "stream",
          "text": [
            "RMSE_train_XG:89.719534\n"
          ],
          "name": "stdout"
        }
      ]
    },
    {
      "cell_type": "code",
      "metadata": {
        "id": "WV_MMChiN6ES",
        "colab_type": "code",
        "colab": {
          "base_uri": "https://localhost:8080/",
          "height": 34
        },
        "outputId": "34f2ee33-c81d-4d22-ee77-3d7e750a9687"
      },
      "source": [
        "X_test_scaled =scaler.transform(X_test)\n",
        "test_pred = xg_reg.predict(X_test_scaled)\n",
        "rmsetestXG=np.sqrt(mean_squared_error(y_test,test_pred))\n",
        "print(\"RMSE_train_XG:%f\" % (rmsetestXG))"
      ],
      "execution_count": null,
      "outputs": [
        {
          "output_type": "stream",
          "text": [
            "RMSE_train_XG:1232.725171\n"
          ],
          "name": "stdout"
        }
      ]
    },
    {
      "cell_type": "code",
      "metadata": {
        "id": "YoVdB1UzzN56",
        "colab_type": "code",
        "colab": {}
      },
      "source": [
        ""
      ],
      "execution_count": null,
      "outputs": []
    }
  ]
}