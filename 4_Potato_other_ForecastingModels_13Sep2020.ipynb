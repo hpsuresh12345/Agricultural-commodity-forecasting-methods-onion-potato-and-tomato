{
  "nbformat": 4,
  "nbformat_minor": 0,
  "metadata": {
    "colab": {
      "name": "4.Potato_other_ForecastingModels_13Sep2020.ipynb",
      "provenance": [],
      "collapsed_sections": []
    },
    "kernelspec": {
      "name": "python3",
      "display_name": "Python 3"
    },
    "accelerator": "GPU"
  },
  "cells": [
    {
      "cell_type": "code",
      "metadata": {
        "id": "sOW7YHZe2bzB",
        "colab_type": "code",
        "colab": {
          "base_uri": "https://localhost:8080/",
          "height": 492
        },
        "outputId": "d2589806-49f8-4210-8be1-bb4ada400f93"
      },
      "source": [
        "pip install pmdarima"
      ],
      "execution_count": 1,
      "outputs": [
        {
          "output_type": "stream",
          "text": [
            "Collecting pmdarima\n",
            "\u001b[?25l  Downloading https://files.pythonhosted.org/packages/be/62/725b3b6ae0e56c77534de5a8139322e7b863ca53fd5bd6bd3b7de87d0c20/pmdarima-1.7.1-cp36-cp36m-manylinux1_x86_64.whl (1.5MB)\n",
            "\u001b[K     |████████████████████████████████| 1.5MB 2.9MB/s \n",
            "\u001b[?25hRequirement already satisfied: scipy>=1.3.2 in /usr/local/lib/python3.6/dist-packages (from pmdarima) (1.4.1)\n",
            "Requirement already satisfied: scikit-learn>=0.22 in /usr/local/lib/python3.6/dist-packages (from pmdarima) (0.22.2.post1)\n",
            "Requirement already satisfied: urllib3 in /usr/local/lib/python3.6/dist-packages (from pmdarima) (1.24.3)\n",
            "Collecting statsmodels<0.12,>=0.11\n",
            "\u001b[?25l  Downloading https://files.pythonhosted.org/packages/cb/83/540fd83238a18abe6c2d280fa8e489ac5fcefa1f370f0ca1acd16ae1b860/statsmodels-0.11.1-cp36-cp36m-manylinux1_x86_64.whl (8.7MB)\n",
            "\u001b[K     |████████████████████████████████| 8.7MB 13.6MB/s \n",
            "\u001b[?25hRequirement already satisfied: joblib>=0.11 in /usr/local/lib/python3.6/dist-packages (from pmdarima) (0.16.0)\n",
            "Requirement already satisfied: pandas>=0.19 in /usr/local/lib/python3.6/dist-packages (from pmdarima) (1.0.5)\n",
            "Collecting Cython<0.29.18,>=0.29\n",
            "\u001b[?25l  Downloading https://files.pythonhosted.org/packages/e7/d7/510ddef0248f3e1e91f9cc7e31c0f35f8954d0af92c5c3fd4c853e859ebe/Cython-0.29.17-cp36-cp36m-manylinux1_x86_64.whl (2.1MB)\n",
            "\u001b[K     |████████████████████████████████| 2.1MB 51.5MB/s \n",
            "\u001b[?25hRequirement already satisfied: setuptools<50.0.0 in /usr/local/lib/python3.6/dist-packages (from pmdarima) (49.6.0)\n",
            "Requirement already satisfied: numpy>=1.17.3 in /usr/local/lib/python3.6/dist-packages (from pmdarima) (1.18.5)\n",
            "Requirement already satisfied: patsy>=0.5 in /usr/local/lib/python3.6/dist-packages (from statsmodels<0.12,>=0.11->pmdarima) (0.5.1)\n",
            "Requirement already satisfied: python-dateutil>=2.6.1 in /usr/local/lib/python3.6/dist-packages (from pandas>=0.19->pmdarima) (2.8.1)\n",
            "Requirement already satisfied: pytz>=2017.2 in /usr/local/lib/python3.6/dist-packages (from pandas>=0.19->pmdarima) (2018.9)\n",
            "Requirement already satisfied: six in /usr/local/lib/python3.6/dist-packages (from patsy>=0.5->statsmodels<0.12,>=0.11->pmdarima) (1.15.0)\n",
            "Installing collected packages: statsmodels, Cython, pmdarima\n",
            "  Found existing installation: statsmodels 0.10.2\n",
            "    Uninstalling statsmodels-0.10.2:\n",
            "      Successfully uninstalled statsmodels-0.10.2\n",
            "  Found existing installation: Cython 0.29.21\n",
            "    Uninstalling Cython-0.29.21:\n",
            "      Successfully uninstalled Cython-0.29.21\n",
            "Successfully installed Cython-0.29.17 pmdarima-1.7.1 statsmodels-0.11.1\n"
          ],
          "name": "stdout"
        }
      ]
    },
    {
      "cell_type": "code",
      "metadata": {
        "id": "A228EnGckVr4",
        "colab_type": "code",
        "colab": {
          "base_uri": "https://localhost:8080/",
          "height": 33
        },
        "outputId": "cbd9cdf8-9dea-46fa-8ad7-98d7c647ba54"
      },
      "source": [
        "import plotly.express as px \n",
        "import pandas as pd \n",
        "import numpy as np \n",
        "from dateutil.parser import parse \n",
        "import matplotlib as mpl\n",
        "import matplotlib.pyplot as plt\n",
        "import seaborn as sns\n",
        "import datetime\n",
        "import warnings\n",
        "warnings.filterwarnings('ignore')\n",
        "import datetime\n",
        "import seaborn as sns\n",
        "from sklearn import metrics\n",
        "from sklearn.metrics import mean_squared_error\n",
        "import matplotlib.pyplot as plt\n",
        "import matplotlib\n",
        "import warnings\n",
        "warnings.filterwarnings(\"ignore\") # Don't want to see the warnings in the notebook\n",
        "from sklearn import svm\n",
        "import itertools \n",
        "\n",
        "import os\n",
        "import datetime\n",
        "\n",
        "import IPython\n",
        "import IPython.display\n",
        "import matplotlib as mpl\n",
        "import matplotlib.pyplot as plt\n",
        "import numpy as np\n",
        "import pandas as pd\n",
        "import seaborn as sns\n",
        "import tensorflow as tf\n",
        "import pmdarima as pm\n",
        "\n",
        "mpl.rcParams['figure.figsize'] = (8, 6)\n",
        "mpl.rcParams['axes.grid'] = False\n",
        "\n",
        "from __future__ import absolute_import,division,print_function,unicode_literals\n",
        "\n",
        "import seaborn as sns\n",
        "import matplotlib as mpl\n",
        "import matplotlib.pyplot as plt\n",
        "import numpy as np\n",
        "import os\n",
        "from datetime import datetime\n",
        "\n",
        "import pandas as pd\n",
        "\n",
        "\n",
        "mpl.rcParams['figure.figsize'] = (8,6)\n",
        "mpl.rcParams['axes.grid'] = False\n",
        "\n",
        "import cufflinks as cf\n",
        "cf.go_offline()\n",
        "cf.set_config_file(offline=False, world_readable=True)\n",
        "\n",
        "from statsmodels.tsa import stattools\n",
        "from statsmodels.tsa import seasonal\n",
        "from sklearn.linear_model import Ridge\n",
        "\n",
        "from statsmodels.tsa.arima_model import ARIMA\n",
        "from pandas.plotting import autocorrelation_plot\n",
        "from statsmodels.tsa.seasonal import seasonal_decompose\n",
        "\n",
        "from statsmodels.graphics.tsaplots import plot_acf, plot_pacf\n",
        "from sklearn.model_selection import TimeSeriesSplit\n",
        "from sklearn.model_selection import GridSearchCV, RandomizedSearchCV\n",
        "from sklearn.metrics import mean_squared_error\n",
        "from sklearn.linear_model import LinearRegression, Lasso, Ridge\n",
        "from sklearn.svm import LinearSVR\n",
        "from sklearn.ensemble import RandomForestRegressor\n",
        "import xgboost as xgb\n",
        "from sklearn.ensemble import StackingRegressor\n",
        "import pickle\n",
        "from sklearn.experimental import enable_iterative_imputer\n",
        "from sklearn.impute import IterativeImputer\n",
        "warnings.filterwarnings(\"ignore\")\n",
        "import matplotlib.pyplot as plt\n",
        "plt.rcParams.update({'figure.figsize':(9,7), 'figure.dpi':120})\n",
        "\n",
        "print(\"Import Succesfull\")"
      ],
      "execution_count": 2,
      "outputs": [
        {
          "output_type": "display_data",
          "data": {
            "text/html": [
              "        <script type=\"text/javascript\">\n",
              "        window.PlotlyConfig = {MathJaxConfig: 'local'};\n",
              "        if (window.MathJax) {MathJax.Hub.Config({SVG: {font: \"STIX-Web\"}});}\n",
              "        if (typeof require !== 'undefined') {\n",
              "        require.undef(\"plotly\");\n",
              "        requirejs.config({\n",
              "            paths: {\n",
              "                'plotly': ['https://cdn.plot.ly/plotly-latest.min']\n",
              "            }\n",
              "        });\n",
              "        require(['plotly'], function(Plotly) {\n",
              "            window._Plotly = Plotly;\n",
              "        });\n",
              "        }\n",
              "        </script>\n",
              "        "
            ]
          },
          "metadata": {
            "tags": []
          }
        },
        {
          "output_type": "stream",
          "text": [
            "Import Succesfull\n"
          ],
          "name": "stdout"
        }
      ]
    },
    {
      "cell_type": "code",
      "metadata": {
        "id": "e5uGHBaFkws4",
        "colab_type": "code",
        "colab": {}
      },
      "source": [
        "# Get some data\n",
        "df = pd.read_excel(\"/content/drive/My Drive/Capstone_Commodity_SureshaHP/Potato/Potato_Clean04Sep2020.xlsx\",index_col=False)"
      ],
      "execution_count": 5,
      "outputs": []
    },
    {
      "cell_type": "code",
      "metadata": {
        "id": "dSWbvPzLlSLG",
        "colab_type": "code",
        "colab": {
          "base_uri": "https://localhost:8080/",
          "height": 292
        },
        "outputId": "60cb592f-4cda-496d-e9f0-ee4d93d21be2"
      },
      "source": [
        "df.head()"
      ],
      "execution_count": 6,
      "outputs": [
        {
          "output_type": "execute_result",
          "data": {
            "text/html": [
              "<div>\n",
              "<style scoped>\n",
              "    .dataframe tbody tr th:only-of-type {\n",
              "        vertical-align: middle;\n",
              "    }\n",
              "\n",
              "    .dataframe tbody tr th {\n",
              "        vertical-align: top;\n",
              "    }\n",
              "\n",
              "    .dataframe thead th {\n",
              "        text-align: right;\n",
              "    }\n",
              "</style>\n",
              "<table border=\"1\" class=\"dataframe\">\n",
              "  <thead>\n",
              "    <tr style=\"text-align: right;\">\n",
              "      <th></th>\n",
              "      <th>AHMEDABAD_WholesalePrice</th>\n",
              "      <th>AHMEDABAD_RetailPrice</th>\n",
              "      <th>AHMEDABAD_Volume</th>\n",
              "      <th>Bengaluru_WholesalePrice</th>\n",
              "      <th>Bengaluru_RetailPrice</th>\n",
              "      <th>Bengaluru_Volume</th>\n",
              "      <th>BHUBANESHWAR_WholesalePrice</th>\n",
              "      <th>BHUBANESHWAR_RetailPrice</th>\n",
              "      <th>BHUBANESHWAR_Volume</th>\n",
              "      <th>DELHI_WholesalePrice</th>\n",
              "      <th>DELHI_RetailPrice</th>\n",
              "      <th>DELHI_Volume</th>\n",
              "      <th>HYDERABAD_WholesalePrice</th>\n",
              "      <th>HYDERABAD_RetailPrice</th>\n",
              "      <th>HYDERABAD_Volume</th>\n",
              "      <th>JAIPUR_WholesalePrice</th>\n",
              "      <th>JAIPUR_RetailPrice</th>\n",
              "      <th>JAIPUR_Volume</th>\n",
              "      <th>KOLKATA_WholesalePrice</th>\n",
              "      <th>KOLKATA_RetailPrice</th>\n",
              "      <th>KOLKATA_Volume</th>\n",
              "      <th>MUMBAI_WholesalePrice</th>\n",
              "      <th>MUMBAI_RetailPrice</th>\n",
              "      <th>MUMBAI_Volume</th>\n",
              "      <th>PUNE_WholesalePrice</th>\n",
              "      <th>PUNE_RetailPrice</th>\n",
              "      <th>PUNE_Volume</th>\n",
              "      <th>RANCHI_WholesalePrice</th>\n",
              "      <th>RANCHI_RetailPrice</th>\n",
              "      <th>RANCHI_Volume</th>\n",
              "      <th>DieselPrice</th>\n",
              "      <th>Date</th>\n",
              "    </tr>\n",
              "  </thead>\n",
              "  <tbody>\n",
              "    <tr>\n",
              "      <th>0</th>\n",
              "      <td>815.0</td>\n",
              "      <td>2450.0</td>\n",
              "      <td>22231.0</td>\n",
              "      <td>1758.0</td>\n",
              "      <td>2770.0</td>\n",
              "      <td>32806.0</td>\n",
              "      <td>776.0</td>\n",
              "      <td>1131.0</td>\n",
              "      <td>7020.0</td>\n",
              "      <td>607.0</td>\n",
              "      <td>1215.0</td>\n",
              "      <td>34213.0</td>\n",
              "      <td>1900.0</td>\n",
              "      <td>2544.0</td>\n",
              "      <td>11910.0</td>\n",
              "      <td>786.0</td>\n",
              "      <td>1271.0</td>\n",
              "      <td>5305.0</td>\n",
              "      <td>841.0</td>\n",
              "      <td>1142.0</td>\n",
              "      <td>9288.0</td>\n",
              "      <td>1245.0</td>\n",
              "      <td>2000.0</td>\n",
              "      <td>31379.0</td>\n",
              "      <td>1394.0</td>\n",
              "      <td>1902.0</td>\n",
              "      <td>16924.0</td>\n",
              "      <td>802</td>\n",
              "      <td>1255.0</td>\n",
              "      <td>5655.0</td>\n",
              "      <td>53.74</td>\n",
              "      <td>2015-01-01</td>\n",
              "    </tr>\n",
              "    <tr>\n",
              "      <th>1</th>\n",
              "      <td>576.0</td>\n",
              "      <td>2000.0</td>\n",
              "      <td>17116.0</td>\n",
              "      <td>1569.0</td>\n",
              "      <td>2592.0</td>\n",
              "      <td>21241.0</td>\n",
              "      <td>583.0</td>\n",
              "      <td>853.0</td>\n",
              "      <td>9880.0</td>\n",
              "      <td>525.0</td>\n",
              "      <td>1035.0</td>\n",
              "      <td>31006.0</td>\n",
              "      <td>1382.0</td>\n",
              "      <td>1935.0</td>\n",
              "      <td>4426.0</td>\n",
              "      <td>718.0</td>\n",
              "      <td>1162.0</td>\n",
              "      <td>4294.0</td>\n",
              "      <td>583.0</td>\n",
              "      <td>818.0</td>\n",
              "      <td>14427.0</td>\n",
              "      <td>1084.0</td>\n",
              "      <td>1855.0</td>\n",
              "      <td>32856.0</td>\n",
              "      <td>1258.0</td>\n",
              "      <td>1755.0</td>\n",
              "      <td>7364.0</td>\n",
              "      <td>699</td>\n",
              "      <td>1208.0</td>\n",
              "      <td>6115.0</td>\n",
              "      <td>51.96</td>\n",
              "      <td>2015-02-01</td>\n",
              "    </tr>\n",
              "    <tr>\n",
              "      <th>2</th>\n",
              "      <td>348.0</td>\n",
              "      <td>1550.0</td>\n",
              "      <td>22966.0</td>\n",
              "      <td>1246.0</td>\n",
              "      <td>2274.0</td>\n",
              "      <td>22587.0</td>\n",
              "      <td>509.0</td>\n",
              "      <td>731.0</td>\n",
              "      <td>9425.0</td>\n",
              "      <td>523.0</td>\n",
              "      <td>992.0</td>\n",
              "      <td>31200.0</td>\n",
              "      <td>1120.0</td>\n",
              "      <td>1680.0</td>\n",
              "      <td>5052.0</td>\n",
              "      <td>657.0</td>\n",
              "      <td>1077.0</td>\n",
              "      <td>14936.0</td>\n",
              "      <td>463.0</td>\n",
              "      <td>754.0</td>\n",
              "      <td>13086.0</td>\n",
              "      <td>1019.0</td>\n",
              "      <td>1982.0</td>\n",
              "      <td>31267.0</td>\n",
              "      <td>1020.0</td>\n",
              "      <td>1465.0</td>\n",
              "      <td>6916.0</td>\n",
              "      <td>440</td>\n",
              "      <td>933.0</td>\n",
              "      <td>6340.0</td>\n",
              "      <td>55.41</td>\n",
              "      <td>2015-03-01</td>\n",
              "    </tr>\n",
              "    <tr>\n",
              "      <th>3</th>\n",
              "      <td>318.0</td>\n",
              "      <td>1473.0</td>\n",
              "      <td>7729.0</td>\n",
              "      <td>1153.0</td>\n",
              "      <td>2105.0</td>\n",
              "      <td>22022.0</td>\n",
              "      <td>556.0</td>\n",
              "      <td>770.0</td>\n",
              "      <td>8875.0</td>\n",
              "      <td>430.0</td>\n",
              "      <td>804.0</td>\n",
              "      <td>26756.0</td>\n",
              "      <td>1071.0</td>\n",
              "      <td>1588.0</td>\n",
              "      <td>6342.0</td>\n",
              "      <td>492.0</td>\n",
              "      <td>867.0</td>\n",
              "      <td>21141.0</td>\n",
              "      <td>569.0</td>\n",
              "      <td>812.0</td>\n",
              "      <td>11835.0</td>\n",
              "      <td>716.0</td>\n",
              "      <td>1052.0</td>\n",
              "      <td>30272.0</td>\n",
              "      <td>802.0</td>\n",
              "      <td>1160.0</td>\n",
              "      <td>8707.0</td>\n",
              "      <td>429</td>\n",
              "      <td>817.0</td>\n",
              "      <td>6180.0</td>\n",
              "      <td>52.56</td>\n",
              "      <td>2015-04-01</td>\n",
              "    </tr>\n",
              "    <tr>\n",
              "      <th>4</th>\n",
              "      <td>381.0</td>\n",
              "      <td>1463.0</td>\n",
              "      <td>8255.0</td>\n",
              "      <td>1004.0</td>\n",
              "      <td>2050.0</td>\n",
              "      <td>23161.0</td>\n",
              "      <td>650.0</td>\n",
              "      <td>885.0</td>\n",
              "      <td>10550.0</td>\n",
              "      <td>450.0</td>\n",
              "      <td>1032.0</td>\n",
              "      <td>27740.0</td>\n",
              "      <td>1410.0</td>\n",
              "      <td>2081.0</td>\n",
              "      <td>7208.0</td>\n",
              "      <td>481.0</td>\n",
              "      <td>813.0</td>\n",
              "      <td>15074.0</td>\n",
              "      <td>627.0</td>\n",
              "      <td>908.0</td>\n",
              "      <td>6183.0</td>\n",
              "      <td>769.0</td>\n",
              "      <td>1313.0</td>\n",
              "      <td>27165.0</td>\n",
              "      <td>1056.0</td>\n",
              "      <td>1537.0</td>\n",
              "      <td>11301.0</td>\n",
              "      <td>437</td>\n",
              "      <td>835.0</td>\n",
              "      <td>6395.0</td>\n",
              "      <td>58.19</td>\n",
              "      <td>2015-05-01</td>\n",
              "    </tr>\n",
              "  </tbody>\n",
              "</table>\n",
              "</div>"
            ],
            "text/plain": [
              "   AHMEDABAD_WholesalePrice  AHMEDABAD_RetailPrice  ...  DieselPrice       Date\n",
              "0                     815.0                 2450.0  ...        53.74 2015-01-01\n",
              "1                     576.0                 2000.0  ...        51.96 2015-02-01\n",
              "2                     348.0                 1550.0  ...        55.41 2015-03-01\n",
              "3                     318.0                 1473.0  ...        52.56 2015-04-01\n",
              "4                     381.0                 1463.0  ...        58.19 2015-05-01\n",
              "\n",
              "[5 rows x 32 columns]"
            ]
          },
          "metadata": {
            "tags": []
          },
          "execution_count": 6
        }
      ]
    },
    {
      "cell_type": "code",
      "metadata": {
        "id": "QWtUD0salUY5",
        "colab_type": "code",
        "colab": {
          "base_uri": "https://localhost:8080/",
          "height": 651
        },
        "outputId": "a01bd20a-34e8-4478-931d-8624af4efb57"
      },
      "source": [
        "df.info()"
      ],
      "execution_count": 7,
      "outputs": [
        {
          "output_type": "stream",
          "text": [
            "<class 'pandas.core.frame.DataFrame'>\n",
            "RangeIndex: 67 entries, 0 to 66\n",
            "Data columns (total 32 columns):\n",
            " #   Column                       Non-Null Count  Dtype         \n",
            "---  ------                       --------------  -----         \n",
            " 0   AHMEDABAD_WholesalePrice     67 non-null     float64       \n",
            " 1   AHMEDABAD_RetailPrice        67 non-null     float64       \n",
            " 2   AHMEDABAD_Volume             67 non-null     float64       \n",
            " 3   Bengaluru_WholesalePrice     67 non-null     float64       \n",
            " 4   Bengaluru_RetailPrice        67 non-null     float64       \n",
            " 5   Bengaluru_Volume             67 non-null     float64       \n",
            " 6   BHUBANESHWAR_WholesalePrice  67 non-null     float64       \n",
            " 7   BHUBANESHWAR_RetailPrice     67 non-null     float64       \n",
            " 8   BHUBANESHWAR_Volume          67 non-null     float64       \n",
            " 9   DELHI_WholesalePrice         67 non-null     float64       \n",
            " 10  DELHI_RetailPrice            67 non-null     float64       \n",
            " 11  DELHI_Volume                 67 non-null     float64       \n",
            " 12  HYDERABAD_WholesalePrice     67 non-null     float64       \n",
            " 13  HYDERABAD_RetailPrice        67 non-null     float64       \n",
            " 14  HYDERABAD_Volume             67 non-null     float64       \n",
            " 15  JAIPUR_WholesalePrice        67 non-null     float64       \n",
            " 16  JAIPUR_RetailPrice           67 non-null     float64       \n",
            " 17  JAIPUR_Volume                67 non-null     float64       \n",
            " 18  KOLKATA_WholesalePrice       67 non-null     float64       \n",
            " 19  KOLKATA_RetailPrice          67 non-null     float64       \n",
            " 20  KOLKATA_Volume               67 non-null     float64       \n",
            " 21  MUMBAI_WholesalePrice        67 non-null     float64       \n",
            " 22  MUMBAI_RetailPrice           67 non-null     float64       \n",
            " 23  MUMBAI_Volume                67 non-null     float64       \n",
            " 24  PUNE_WholesalePrice          67 non-null     float64       \n",
            " 25  PUNE_RetailPrice             67 non-null     float64       \n",
            " 26  PUNE_Volume                  67 non-null     float64       \n",
            " 27  RANCHI_WholesalePrice        67 non-null     int64         \n",
            " 28  RANCHI_RetailPrice           67 non-null     float64       \n",
            " 29  RANCHI_Volume                67 non-null     float64       \n",
            " 30  DieselPrice                  67 non-null     float64       \n",
            " 31  Date                         67 non-null     datetime64[ns]\n",
            "dtypes: datetime64[ns](1), float64(30), int64(1)\n",
            "memory usage: 16.9 KB\n"
          ],
          "name": "stdout"
        }
      ]
    },
    {
      "cell_type": "markdown",
      "metadata": {
        "id": "wMq1XeYesFH8",
        "colab_type": "text"
      },
      "source": [
        "#  Prediction Models"
      ]
    },
    {
      "cell_type": "code",
      "metadata": {
        "id": "RJDm4d1wv6FN",
        "colab_type": "code",
        "colab": {
          "base_uri": "https://localhost:8080/",
          "height": 33
        },
        "outputId": "87c3e0bb-b43e-41b5-8c66-e4372a661013"
      },
      "source": [
        "print(df.index)"
      ],
      "execution_count": 8,
      "outputs": [
        {
          "output_type": "stream",
          "text": [
            "RangeIndex(start=0, stop=67, step=1)\n"
          ],
          "name": "stdout"
        }
      ]
    },
    {
      "cell_type": "code",
      "metadata": {
        "id": "0XOa-SlywFqb",
        "colab_type": "code",
        "colab": {
          "base_uri": "https://localhost:8080/",
          "height": 310
        },
        "outputId": "eb28bfce-6c3f-48ec-e775-a61a293e5186"
      },
      "source": [
        "datetime_series = pd.to_datetime(df['Date'])\n",
        "\n",
        "# create datetime index passing the datetime series\n",
        "datetime_index = pd.DatetimeIndex(datetime_series.values)\n",
        "\n",
        "df5=df.set_index(datetime_index)\n",
        "\n",
        "# we don't need the column anymore\n",
        "df5.drop('Date',axis=1,inplace=True)\n",
        "\n",
        "print(df5.index)"
      ],
      "execution_count": 9,
      "outputs": [
        {
          "output_type": "stream",
          "text": [
            "DatetimeIndex(['2015-01-01', '2015-02-01', '2015-03-01', '2015-04-01',\n",
            "               '2015-05-01', '2015-06-01', '2015-07-01', '2015-08-01',\n",
            "               '2015-09-01', '2015-10-01', '2015-11-01', '2015-12-01',\n",
            "               '2016-01-01', '2016-02-01', '2016-03-01', '2016-04-01',\n",
            "               '2016-05-01', '2016-06-01', '2016-07-01', '2016-08-01',\n",
            "               '2016-09-01', '2016-10-01', '2016-11-01', '2016-12-01',\n",
            "               '2017-01-01', '2017-02-01', '2017-03-01', '2017-04-01',\n",
            "               '2017-05-01', '2017-06-01', '2017-07-01', '2017-08-01',\n",
            "               '2017-09-01', '2017-10-01', '2017-11-01', '2017-12-01',\n",
            "               '2018-01-01', '2018-02-01', '2018-03-01', '2018-04-01',\n",
            "               '2018-05-01', '2018-06-01', '2018-07-01', '2018-08-01',\n",
            "               '2018-09-01', '2018-10-01', '2018-11-01', '2018-12-01',\n",
            "               '2019-01-01', '2019-02-01', '2019-03-01', '2019-04-01',\n",
            "               '2019-05-01', '2019-06-01', '2019-07-01', '2019-08-01',\n",
            "               '2019-09-01', '2019-10-01', '2019-11-01', '2019-12-01',\n",
            "               '2020-01-01', '2020-02-01', '2020-03-01', '2020-04-01',\n",
            "               '2020-05-01', '2020-06-01', '2020-07-01'],\n",
            "              dtype='datetime64[ns]', freq=None)\n"
          ],
          "name": "stdout"
        }
      ]
    },
    {
      "cell_type": "code",
      "metadata": {
        "id": "-YqFbE49Jod-",
        "colab_type": "code",
        "colab": {
          "base_uri": "https://localhost:8080/",
          "height": 191
        },
        "outputId": "9f855b92-a41d-4535-c3ca-64e10701e796"
      },
      "source": [
        "col = ['MUMBAI_RetailPrice','MUMBAI_Volume','DieselPrice']\n",
        "df5 = df5[col]\n",
        "df5.head()"
      ],
      "execution_count": 10,
      "outputs": [
        {
          "output_type": "execute_result",
          "data": {
            "text/html": [
              "<div>\n",
              "<style scoped>\n",
              "    .dataframe tbody tr th:only-of-type {\n",
              "        vertical-align: middle;\n",
              "    }\n",
              "\n",
              "    .dataframe tbody tr th {\n",
              "        vertical-align: top;\n",
              "    }\n",
              "\n",
              "    .dataframe thead th {\n",
              "        text-align: right;\n",
              "    }\n",
              "</style>\n",
              "<table border=\"1\" class=\"dataframe\">\n",
              "  <thead>\n",
              "    <tr style=\"text-align: right;\">\n",
              "      <th></th>\n",
              "      <th>MUMBAI_RetailPrice</th>\n",
              "      <th>MUMBAI_Volume</th>\n",
              "      <th>DieselPrice</th>\n",
              "    </tr>\n",
              "  </thead>\n",
              "  <tbody>\n",
              "    <tr>\n",
              "      <th>2015-01-01</th>\n",
              "      <td>2000.0</td>\n",
              "      <td>31379.0</td>\n",
              "      <td>53.74</td>\n",
              "    </tr>\n",
              "    <tr>\n",
              "      <th>2015-02-01</th>\n",
              "      <td>1855.0</td>\n",
              "      <td>32856.0</td>\n",
              "      <td>51.96</td>\n",
              "    </tr>\n",
              "    <tr>\n",
              "      <th>2015-03-01</th>\n",
              "      <td>1982.0</td>\n",
              "      <td>31267.0</td>\n",
              "      <td>55.41</td>\n",
              "    </tr>\n",
              "    <tr>\n",
              "      <th>2015-04-01</th>\n",
              "      <td>1052.0</td>\n",
              "      <td>30272.0</td>\n",
              "      <td>52.56</td>\n",
              "    </tr>\n",
              "    <tr>\n",
              "      <th>2015-05-01</th>\n",
              "      <td>1313.0</td>\n",
              "      <td>27165.0</td>\n",
              "      <td>58.19</td>\n",
              "    </tr>\n",
              "  </tbody>\n",
              "</table>\n",
              "</div>"
            ],
            "text/plain": [
              "            MUMBAI_RetailPrice  MUMBAI_Volume  DieselPrice\n",
              "2015-01-01              2000.0        31379.0        53.74\n",
              "2015-02-01              1855.0        32856.0        51.96\n",
              "2015-03-01              1982.0        31267.0        55.41\n",
              "2015-04-01              1052.0        30272.0        52.56\n",
              "2015-05-01              1313.0        27165.0        58.19"
            ]
          },
          "metadata": {
            "tags": []
          },
          "execution_count": 10
        }
      ]
    },
    {
      "cell_type": "code",
      "metadata": {
        "id": "AebWxgYsLinv",
        "colab_type": "code",
        "colab": {}
      },
      "source": [
        "from sklearn.model_selection import train_test_split\n",
        "\n",
        "from sklearn.model_selection import train_test_split\n",
        "\n",
        "X = df5.drop(['MUMBAI_RetailPrice'], axis=1)\n",
        "#print('X columns: %s' % list(X.columns))\n",
        "\n",
        "y = df5['MUMBAI_RetailPrice']\n",
        "\n",
        "X_train, X_test, y_train, y_test = train_test_split(X, y, test_size=0.25)"
      ],
      "execution_count": 11,
      "outputs": []
    },
    {
      "cell_type": "markdown",
      "metadata": {
        "id": "gU67co1HMDf8",
        "colab_type": "text"
      },
      "source": [
        "# 5. RIDGE Regression"
      ]
    },
    {
      "cell_type": "code",
      "metadata": {
        "id": "6rrME61kLxsT",
        "colab_type": "code",
        "colab": {
          "base_uri": "https://localhost:8080/",
          "height": 66
        },
        "outputId": "538f98f4-332b-4737-dbe1-0a7d856861c3"
      },
      "source": [
        "ridge_regression = Ridge()\n",
        "parameters = {'alpha':[10**-5, 10**-4, 10**-3, 10**-2, 0.1, 1, 10, 10**2, 10**3, 10**4, 10**5]}\n",
        "tscv = TimeSeriesSplit(n_splits=3)\n",
        "clf = GridSearchCV(ridge_regression, parameters, cv=tscv, scoring='neg_mean_squared_error', verbose = 2, return_train_score=True, n_jobs = -1)\n",
        "clf.fit(X_train, np.log1p(y_train))\n",
        "\n",
        "results = pd.DataFrame.from_dict(clf.cv_results_)"
      ],
      "execution_count": 12,
      "outputs": [
        {
          "output_type": "stream",
          "text": [
            "Fitting 3 folds for each of 11 candidates, totalling 33 fits\n"
          ],
          "name": "stdout"
        },
        {
          "output_type": "stream",
          "text": [
            "[Parallel(n_jobs=-1)]: Using backend LokyBackend with 2 concurrent workers.\n",
            "[Parallel(n_jobs=-1)]: Done  33 out of  33 | elapsed:    1.2s finished\n"
          ],
          "name": "stderr"
        }
      ]
    },
    {
      "cell_type": "code",
      "metadata": {
        "id": "m3ZZyRztAydI",
        "colab_type": "code",
        "colab": {
          "base_uri": "https://localhost:8080/",
          "height": 292
        },
        "outputId": "05290841-76a0-433d-e50b-d6b1a9c574ee"
      },
      "source": [
        "train_score= results['mean_train_score']\n",
        "train_score_std= results['std_train_score']\n",
        "cv_score = results['mean_test_score'] \n",
        "cv_score_std= results['std_test_score']\n",
        "param_alpha = results['param_alpha']\n",
        "results.head(5)"
      ],
      "execution_count": 13,
      "outputs": [
        {
          "output_type": "execute_result",
          "data": {
            "text/html": [
              "<div>\n",
              "<style scoped>\n",
              "    .dataframe tbody tr th:only-of-type {\n",
              "        vertical-align: middle;\n",
              "    }\n",
              "\n",
              "    .dataframe tbody tr th {\n",
              "        vertical-align: top;\n",
              "    }\n",
              "\n",
              "    .dataframe thead th {\n",
              "        text-align: right;\n",
              "    }\n",
              "</style>\n",
              "<table border=\"1\" class=\"dataframe\">\n",
              "  <thead>\n",
              "    <tr style=\"text-align: right;\">\n",
              "      <th></th>\n",
              "      <th>mean_fit_time</th>\n",
              "      <th>std_fit_time</th>\n",
              "      <th>mean_score_time</th>\n",
              "      <th>std_score_time</th>\n",
              "      <th>param_alpha</th>\n",
              "      <th>params</th>\n",
              "      <th>split0_test_score</th>\n",
              "      <th>split1_test_score</th>\n",
              "      <th>split2_test_score</th>\n",
              "      <th>mean_test_score</th>\n",
              "      <th>std_test_score</th>\n",
              "      <th>rank_test_score</th>\n",
              "      <th>split0_train_score</th>\n",
              "      <th>split1_train_score</th>\n",
              "      <th>split2_train_score</th>\n",
              "      <th>mean_train_score</th>\n",
              "      <th>std_train_score</th>\n",
              "    </tr>\n",
              "  </thead>\n",
              "  <tbody>\n",
              "    <tr>\n",
              "      <th>0</th>\n",
              "      <td>0.015228</td>\n",
              "      <td>0.008888</td>\n",
              "      <td>0.000997</td>\n",
              "      <td>0.000117</td>\n",
              "      <td>1e-05</td>\n",
              "      <td>{'alpha': 1e-05}</td>\n",
              "      <td>-0.060292</td>\n",
              "      <td>-0.045350</td>\n",
              "      <td>-0.065949</td>\n",
              "      <td>-0.057197</td>\n",
              "      <td>0.008689</td>\n",
              "      <td>1</td>\n",
              "      <td>-0.047103</td>\n",
              "      <td>-0.038709</td>\n",
              "      <td>-0.039034</td>\n",
              "      <td>-0.041615</td>\n",
              "      <td>0.003883</td>\n",
              "    </tr>\n",
              "    <tr>\n",
              "      <th>1</th>\n",
              "      <td>0.003908</td>\n",
              "      <td>0.001493</td>\n",
              "      <td>0.002064</td>\n",
              "      <td>0.001495</td>\n",
              "      <td>0.0001</td>\n",
              "      <td>{'alpha': 0.0001}</td>\n",
              "      <td>-0.060292</td>\n",
              "      <td>-0.045350</td>\n",
              "      <td>-0.065949</td>\n",
              "      <td>-0.057197</td>\n",
              "      <td>0.008689</td>\n",
              "      <td>2</td>\n",
              "      <td>-0.047103</td>\n",
              "      <td>-0.038709</td>\n",
              "      <td>-0.039034</td>\n",
              "      <td>-0.041615</td>\n",
              "      <td>0.003883</td>\n",
              "    </tr>\n",
              "    <tr>\n",
              "      <th>2</th>\n",
              "      <td>0.002906</td>\n",
              "      <td>0.000027</td>\n",
              "      <td>0.001047</td>\n",
              "      <td>0.000004</td>\n",
              "      <td>0.001</td>\n",
              "      <td>{'alpha': 0.001}</td>\n",
              "      <td>-0.060292</td>\n",
              "      <td>-0.045350</td>\n",
              "      <td>-0.065949</td>\n",
              "      <td>-0.057197</td>\n",
              "      <td>0.008689</td>\n",
              "      <td>3</td>\n",
              "      <td>-0.047103</td>\n",
              "      <td>-0.038709</td>\n",
              "      <td>-0.039034</td>\n",
              "      <td>-0.041615</td>\n",
              "      <td>0.003883</td>\n",
              "    </tr>\n",
              "    <tr>\n",
              "      <th>3</th>\n",
              "      <td>0.003922</td>\n",
              "      <td>0.001254</td>\n",
              "      <td>0.001085</td>\n",
              "      <td>0.000044</td>\n",
              "      <td>0.01</td>\n",
              "      <td>{'alpha': 0.01}</td>\n",
              "      <td>-0.060292</td>\n",
              "      <td>-0.045350</td>\n",
              "      <td>-0.065949</td>\n",
              "      <td>-0.057197</td>\n",
              "      <td>0.008689</td>\n",
              "      <td>4</td>\n",
              "      <td>-0.047103</td>\n",
              "      <td>-0.038709</td>\n",
              "      <td>-0.039034</td>\n",
              "      <td>-0.041615</td>\n",
              "      <td>0.003883</td>\n",
              "    </tr>\n",
              "    <tr>\n",
              "      <th>4</th>\n",
              "      <td>0.002661</td>\n",
              "      <td>0.000140</td>\n",
              "      <td>0.001049</td>\n",
              "      <td>0.000030</td>\n",
              "      <td>0.1</td>\n",
              "      <td>{'alpha': 0.1}</td>\n",
              "      <td>-0.060292</td>\n",
              "      <td>-0.045351</td>\n",
              "      <td>-0.065948</td>\n",
              "      <td>-0.057197</td>\n",
              "      <td>0.008689</td>\n",
              "      <td>5</td>\n",
              "      <td>-0.047103</td>\n",
              "      <td>-0.038709</td>\n",
              "      <td>-0.039034</td>\n",
              "      <td>-0.041615</td>\n",
              "      <td>0.003883</td>\n",
              "    </tr>\n",
              "  </tbody>\n",
              "</table>\n",
              "</div>"
            ],
            "text/plain": [
              "   mean_fit_time  std_fit_time  ...  mean_train_score  std_train_score\n",
              "0       0.015228      0.008888  ...         -0.041615         0.003883\n",
              "1       0.003908      0.001493  ...         -0.041615         0.003883\n",
              "2       0.002906      0.000027  ...         -0.041615         0.003883\n",
              "3       0.003922      0.001254  ...         -0.041615         0.003883\n",
              "4       0.002661      0.000140  ...         -0.041615         0.003883\n",
              "\n",
              "[5 rows x 17 columns]"
            ]
          },
          "metadata": {
            "tags": []
          },
          "execution_count": 13
        }
      ]
    },
    {
      "cell_type": "code",
      "metadata": {
        "id": "R8cGp6xWAzEA",
        "colab_type": "code",
        "colab": {
          "base_uri": "https://localhost:8080/",
          "height": 520
        },
        "outputId": "68d06d69-f8e2-4af5-bf9c-ebf9e729d26c"
      },
      "source": [
        "plt.plot(np.log10(param_alpha.astype(float)), np.abs(train_score), label = 'Train')\n",
        "plt.plot(np.log10(param_alpha.astype(float)), np.abs(cv_score), label = 'Validation')\n",
        "plt.xlabel('Log Alpha')\n",
        "plt.ylabel('MSE')\n",
        "plt.legend()\n",
        "plt.show()"
      ],
      "execution_count": 14,
      "outputs": [
        {
          "output_type": "display_data",
          "data": {
            "image/png": "[encoded data removed]",
            "text/plain": [
              "<Figure size 1080x840 with 1 Axes>"
            ]
          },
          "metadata": {
            "tags": [],
            "needs_background": "light"
          }
        }
      ]
    },
    {
      "cell_type": "code",
      "metadata": {
        "id": "vOWWAOQM_Fxs",
        "colab_type": "code",
        "colab": {}
      },
      "source": [
        "import sklearn"
      ],
      "execution_count": 15,
      "outputs": []
    },
    {
      "cell_type": "code",
      "metadata": {
        "id": "wEyAVoOE_Deu",
        "colab_type": "code",
        "colab": {}
      },
      "source": [
        "import sklearn.metrics as metrics"
      ],
      "execution_count": 16,
      "outputs": []
    },
    {
      "cell_type": "code",
      "metadata": {
        "id": "QRHAFvcO_RMZ",
        "colab_type": "code",
        "colab": {}
      },
      "source": [
        "import math"
      ],
      "execution_count": 17,
      "outputs": []
    },
    {
      "cell_type": "code",
      "metadata": {
        "id": "IHculRAc_OD_",
        "colab_type": "code",
        "colab": {}
      },
      "source": [
        "from math import *"
      ],
      "execution_count": 18,
      "outputs": []
    },
    {
      "cell_type": "code",
      "metadata": {
        "id": "cutzlrZk9sHB",
        "colab_type": "code",
        "colab": {
          "base_uri": "https://localhost:8080/",
          "height": 33
        },
        "outputId": "60eae77e-fe5c-4ee9-94a2-7439443ccd75"
      },
      "source": [
        "ridge_regression = Ridge(alpha = 100)\n",
        "ridge_regression.fit(X_train, np.log1p(y_train))\n",
        "\n",
        "y_train_pred = ridge_regression.predict(X_train) \n",
        "mse = sklearn.metrics.mean_squared_error(y_train, y_train_pred)\n",
        "rmse = math.sqrt(mse)\n",
        "\n",
        "print(rmse)"
      ],
      "execution_count": 19,
      "outputs": [
        {
          "output_type": "stream",
          "text": [
            "1959.2376743206114\n"
          ],
          "name": "stdout"
        }
      ]
    },
    {
      "cell_type": "code",
      "metadata": {
        "id": "R1KGK5mcA6Rt",
        "colab_type": "code",
        "colab": {
          "base_uri": "https://localhost:8080/",
          "height": 33
        },
        "outputId": "506f8c73-650c-4718-c8a9-a62726fadb69"
      },
      "source": [
        "y_test_pred = ridge_regression.predict(X_test) \n",
        "mse1 = sklearn.metrics.mean_squared_error(y_test, y_test_pred)\n",
        "rmse1 = math.sqrt(mse1)\n",
        "\n",
        "print(rmse1)"
      ],
      "execution_count": 20,
      "outputs": [
        {
          "output_type": "stream",
          "text": [
            "2076.344547932401\n"
          ],
          "name": "stdout"
        }
      ]
    },
    {
      "cell_type": "markdown",
      "metadata": {
        "colab_type": "text",
        "id": "RA0GlEyVBBP-"
      },
      "source": [
        "# 5. Lasso Regression"
      ]
    },
    {
      "cell_type": "code",
      "metadata": {
        "colab_type": "code",
        "id": "hW-rG9rGBBP_",
        "colab": {
          "base_uri": "https://localhost:8080/",
          "height": 66
        },
        "outputId": "1131a71d-2859-4f40-b0f5-12734f033e2d"
      },
      "source": [
        "lasso_regression = Lasso()\n",
        "parameters2 = {'alpha':[10**-5, 10**-4, 10**-3, 10**-2, 0.1, 1, 10, 10**2, 10**3, 10**4, 10**5]}\n",
        "tscv = TimeSeriesSplit(n_splits=3)\n",
        "clf2 = GridSearchCV(lasso_regression, parameters2, cv=tscv, scoring='neg_mean_squared_error', verbose = 2, return_train_score=True, n_jobs = -1)\n",
        "clf2.fit(X_train, np.log1p(y_train))\n",
        "\n",
        "results1 = pd.DataFrame.from_dict(clf2.cv_results_)"
      ],
      "execution_count": 21,
      "outputs": [
        {
          "output_type": "stream",
          "text": [
            "Fitting 3 folds for each of 11 candidates, totalling 33 fits\n"
          ],
          "name": "stdout"
        },
        {
          "output_type": "stream",
          "text": [
            "[Parallel(n_jobs=-1)]: Using backend LokyBackend with 2 concurrent workers.\n",
            "[Parallel(n_jobs=-1)]: Done  33 out of  33 | elapsed:    0.1s finished\n"
          ],
          "name": "stderr"
        }
      ]
    },
    {
      "cell_type": "code",
      "metadata": {
        "id": "C3QeHstQ_9-_",
        "colab_type": "code",
        "colab": {
          "base_uri": "https://localhost:8080/",
          "height": 292
        },
        "outputId": "91d8d211-4170-46b2-d306-7c68de268e22"
      },
      "source": [
        "train_score1= results['mean_train_score']\n",
        "train_score_std1= results['std_train_score']\n",
        "cv_score1 = results['mean_test_score'] \n",
        "cv_score_std1= results['std_test_score']\n",
        "param_alpha1 = results['param_alpha']\n",
        "results1.head(5)"
      ],
      "execution_count": 22,
      "outputs": [
        {
          "output_type": "execute_result",
          "data": {
            "text/html": [
              "<div>\n",
              "<style scoped>\n",
              "    .dataframe tbody tr th:only-of-type {\n",
              "        vertical-align: middle;\n",
              "    }\n",
              "\n",
              "    .dataframe tbody tr th {\n",
              "        vertical-align: top;\n",
              "    }\n",
              "\n",
              "    .dataframe thead th {\n",
              "        text-align: right;\n",
              "    }\n",
              "</style>\n",
              "<table border=\"1\" class=\"dataframe\">\n",
              "  <thead>\n",
              "    <tr style=\"text-align: right;\">\n",
              "      <th></th>\n",
              "      <th>mean_fit_time</th>\n",
              "      <th>std_fit_time</th>\n",
              "      <th>mean_score_time</th>\n",
              "      <th>std_score_time</th>\n",
              "      <th>param_alpha</th>\n",
              "      <th>params</th>\n",
              "      <th>split0_test_score</th>\n",
              "      <th>split1_test_score</th>\n",
              "      <th>split2_test_score</th>\n",
              "      <th>mean_test_score</th>\n",
              "      <th>std_test_score</th>\n",
              "      <th>rank_test_score</th>\n",
              "      <th>split0_train_score</th>\n",
              "      <th>split1_train_score</th>\n",
              "      <th>split2_train_score</th>\n",
              "      <th>mean_train_score</th>\n",
              "      <th>std_train_score</th>\n",
              "    </tr>\n",
              "  </thead>\n",
              "  <tbody>\n",
              "    <tr>\n",
              "      <th>0</th>\n",
              "      <td>0.005246</td>\n",
              "      <td>0.002256</td>\n",
              "      <td>0.001397</td>\n",
              "      <td>0.000614</td>\n",
              "      <td>1e-05</td>\n",
              "      <td>{'alpha': 1e-05}</td>\n",
              "      <td>-0.060293</td>\n",
              "      <td>-0.045351</td>\n",
              "      <td>-0.065949</td>\n",
              "      <td>-0.057197</td>\n",
              "      <td>0.008689</td>\n",
              "      <td>1</td>\n",
              "      <td>-0.047103</td>\n",
              "      <td>-0.038709</td>\n",
              "      <td>-0.039034</td>\n",
              "      <td>-0.041615</td>\n",
              "      <td>0.003883</td>\n",
              "    </tr>\n",
              "    <tr>\n",
              "      <th>1</th>\n",
              "      <td>0.002486</td>\n",
              "      <td>0.000388</td>\n",
              "      <td>0.000937</td>\n",
              "      <td>0.000185</td>\n",
              "      <td>0.0001</td>\n",
              "      <td>{'alpha': 0.0001}</td>\n",
              "      <td>-0.060306</td>\n",
              "      <td>-0.045352</td>\n",
              "      <td>-0.065946</td>\n",
              "      <td>-0.057201</td>\n",
              "      <td>0.008690</td>\n",
              "      <td>2</td>\n",
              "      <td>-0.047103</td>\n",
              "      <td>-0.038709</td>\n",
              "      <td>-0.039034</td>\n",
              "      <td>-0.041615</td>\n",
              "      <td>0.003883</td>\n",
              "    </tr>\n",
              "    <tr>\n",
              "      <th>2</th>\n",
              "      <td>0.003294</td>\n",
              "      <td>0.000850</td>\n",
              "      <td>0.001067</td>\n",
              "      <td>0.000015</td>\n",
              "      <td>0.001</td>\n",
              "      <td>{'alpha': 0.001}</td>\n",
              "      <td>-0.060435</td>\n",
              "      <td>-0.045364</td>\n",
              "      <td>-0.065922</td>\n",
              "      <td>-0.057240</td>\n",
              "      <td>0.008692</td>\n",
              "      <td>3</td>\n",
              "      <td>-0.047103</td>\n",
              "      <td>-0.038709</td>\n",
              "      <td>-0.039034</td>\n",
              "      <td>-0.041615</td>\n",
              "      <td>0.003883</td>\n",
              "    </tr>\n",
              "    <tr>\n",
              "      <th>3</th>\n",
              "      <td>0.002648</td>\n",
              "      <td>0.000037</td>\n",
              "      <td>0.001070</td>\n",
              "      <td>0.000010</td>\n",
              "      <td>0.01</td>\n",
              "      <td>{'alpha': 0.01}</td>\n",
              "      <td>-0.061740</td>\n",
              "      <td>-0.045484</td>\n",
              "      <td>-0.065684</td>\n",
              "      <td>-0.057636</td>\n",
              "      <td>0.008743</td>\n",
              "      <td>4</td>\n",
              "      <td>-0.047107</td>\n",
              "      <td>-0.038711</td>\n",
              "      <td>-0.039036</td>\n",
              "      <td>-0.041618</td>\n",
              "      <td>0.003883</td>\n",
              "    </tr>\n",
              "    <tr>\n",
              "      <th>4</th>\n",
              "      <td>0.003045</td>\n",
              "      <td>0.000453</td>\n",
              "      <td>0.001078</td>\n",
              "      <td>0.000016</td>\n",
              "      <td>0.1</td>\n",
              "      <td>{'alpha': 0.1}</td>\n",
              "      <td>-0.063440</td>\n",
              "      <td>-0.046823</td>\n",
              "      <td>-0.063572</td>\n",
              "      <td>-0.057945</td>\n",
              "      <td>0.007864</td>\n",
              "      <td>5</td>\n",
              "      <td>-0.047121</td>\n",
              "      <td>-0.038919</td>\n",
              "      <td>-0.039264</td>\n",
              "      <td>-0.041768</td>\n",
              "      <td>0.003788</td>\n",
              "    </tr>\n",
              "  </tbody>\n",
              "</table>\n",
              "</div>"
            ],
            "text/plain": [
              "   mean_fit_time  std_fit_time  ...  mean_train_score  std_train_score\n",
              "0       0.005246      0.002256  ...         -0.041615         0.003883\n",
              "1       0.002486      0.000388  ...         -0.041615         0.003883\n",
              "2       0.003294      0.000850  ...         -0.041615         0.003883\n",
              "3       0.002648      0.000037  ...         -0.041618         0.003883\n",
              "4       0.003045      0.000453  ...         -0.041768         0.003788\n",
              "\n",
              "[5 rows x 17 columns]"
            ]
          },
          "metadata": {
            "tags": []
          },
          "execution_count": 22
        }
      ]
    },
    {
      "cell_type": "code",
      "metadata": {
        "id": "o5Z10QGOAA65",
        "colab_type": "code",
        "colab": {
          "base_uri": "https://localhost:8080/",
          "height": 520
        },
        "outputId": "cb56f48d-e17b-452d-c81c-986c91049d88"
      },
      "source": [
        "plt.plot(np.log10(param_alpha1.astype(float)), np.abs(train_score1), label = 'Train')\n",
        "plt.plot(np.log10(param_alpha1.astype(float)), np.abs(cv_score1), label = 'Validation')\n",
        "plt.xlabel('Log Alpha')\n",
        "plt.ylabel('MSE')\n",
        "plt.legend()\n",
        "plt.show()"
      ],
      "execution_count": 23,
      "outputs": [
        {
          "output_type": "display_data",
          "data": {
            "image/png": "[encoded data removed]",
            "text/plain": [
              "<Figure size 1080x840 with 1 Axes>"
            ]
          },
          "metadata": {
            "tags": [],
            "needs_background": "light"
          }
        }
      ]
    },
    {
      "cell_type": "code",
      "metadata": {
        "id": "9Q9xgeR2AESb",
        "colab_type": "code",
        "colab": {
          "base_uri": "https://localhost:8080/",
          "height": 33
        },
        "outputId": "d2b7fa3d-fdf5-4979-e9e4-7f0ab0356e34"
      },
      "source": [
        "lasso_regression = Lasso(alpha = 0.1)\n",
        "lasso_regression.fit(X_train, np.log1p(y_train))\n",
        "\n",
        "y_train_pred2 = lasso_regression.predict(X_train)  \n",
        "\n",
        "mse2 = sklearn.metrics.mean_squared_error(y_train, y_train_pred2)\n",
        "rmse2 = math.sqrt(mse2)\n",
        "print(rmse2)"
      ],
      "execution_count": 24,
      "outputs": [
        {
          "output_type": "stream",
          "text": [
            "1959.2386400042158\n"
          ],
          "name": "stdout"
        }
      ]
    },
    {
      "cell_type": "code",
      "metadata": {
        "id": "Jj9N7zmkEkWw",
        "colab_type": "code",
        "colab": {
          "base_uri": "https://localhost:8080/",
          "height": 33
        },
        "outputId": "8169b328-1ad3-4567-c90c-4a2aa456a336"
      },
      "source": [
        "y_test_pred3 = lasso_regression.predict(X_test)  \n",
        "\n",
        "mse3 = sklearn.metrics.mean_squared_error(y_test, y_test_pred3)\n",
        "rmse3 = math.sqrt(mse3)\n",
        "print(rmse3)"
      ],
      "execution_count": 25,
      "outputs": [
        {
          "output_type": "stream",
          "text": [
            "2076.34585988022\n"
          ],
          "name": "stdout"
        }
      ]
    },
    {
      "cell_type": "markdown",
      "metadata": {
        "id": "q-2PEFbMAmAY",
        "colab_type": "text"
      },
      "source": [
        "# 7 Linear SVR"
      ]
    },
    {
      "cell_type": "code",
      "metadata": {
        "id": "PtXNBSCGApZb",
        "colab_type": "code",
        "colab": {
          "base_uri": "https://localhost:8080/",
          "height": 66
        },
        "outputId": "f3f5ec2d-d28a-4ddb-82c2-2389cee6dc54"
      },
      "source": [
        "svr_regression = LinearSVR()\n",
        "parameters3 = {'C':[10**-4, 10**-3, 10**-2, 0.1, 1, 10, 10**2, 10**3, 10**4]}\n",
        "tscv = TimeSeriesSplit(n_splits=3)\n",
        "clf3 = GridSearchCV(svr_regression, parameters3, cv=tscv, scoring='neg_mean_squared_error', verbose = 2, return_train_score=True, n_jobs = -1)\n",
        "clf3.fit(X_train, np.log1p(y_train))\n",
        "\n",
        "results3 = pd.DataFrame.from_dict(clf3.cv_results_)"
      ],
      "execution_count": 26,
      "outputs": [
        {
          "output_type": "stream",
          "text": [
            "Fitting 3 folds for each of 9 candidates, totalling 27 fits\n"
          ],
          "name": "stdout"
        },
        {
          "output_type": "stream",
          "text": [
            "[Parallel(n_jobs=-1)]: Using backend LokyBackend with 2 concurrent workers.\n",
            "[Parallel(n_jobs=-1)]: Done  27 out of  27 | elapsed:    0.2s finished\n"
          ],
          "name": "stderr"
        }
      ]
    },
    {
      "cell_type": "code",
      "metadata": {
        "id": "p1uPYr-ABnnL",
        "colab_type": "code",
        "colab": {
          "base_uri": "https://localhost:8080/",
          "height": 292
        },
        "outputId": "4a428197-1993-4ce9-a898-2c81d14d1b75"
      },
      "source": [
        "train_score_std3= results3['std_train_score']\n",
        "cv_score3 = results3['mean_test_score'] \n",
        "cv_score_std3= results3['std_test_score']\n",
        "param_C3 = results3['param_C']\n",
        "results.head(5)"
      ],
      "execution_count": 27,
      "outputs": [
        {
          "output_type": "execute_result",
          "data": {
            "text/html": [
              "<div>\n",
              "<style scoped>\n",
              "    .dataframe tbody tr th:only-of-type {\n",
              "        vertical-align: middle;\n",
              "    }\n",
              "\n",
              "    .dataframe tbody tr th {\n",
              "        vertical-align: top;\n",
              "    }\n",
              "\n",
              "    .dataframe thead th {\n",
              "        text-align: right;\n",
              "    }\n",
              "</style>\n",
              "<table border=\"1\" class=\"dataframe\">\n",
              "  <thead>\n",
              "    <tr style=\"text-align: right;\">\n",
              "      <th></th>\n",
              "      <th>mean_fit_time</th>\n",
              "      <th>std_fit_time</th>\n",
              "      <th>mean_score_time</th>\n",
              "      <th>std_score_time</th>\n",
              "      <th>param_alpha</th>\n",
              "      <th>params</th>\n",
              "      <th>split0_test_score</th>\n",
              "      <th>split1_test_score</th>\n",
              "      <th>split2_test_score</th>\n",
              "      <th>mean_test_score</th>\n",
              "      <th>std_test_score</th>\n",
              "      <th>rank_test_score</th>\n",
              "      <th>split0_train_score</th>\n",
              "      <th>split1_train_score</th>\n",
              "      <th>split2_train_score</th>\n",
              "      <th>mean_train_score</th>\n",
              "      <th>std_train_score</th>\n",
              "    </tr>\n",
              "  </thead>\n",
              "  <tbody>\n",
              "    <tr>\n",
              "      <th>0</th>\n",
              "      <td>0.015228</td>\n",
              "      <td>0.008888</td>\n",
              "      <td>0.000997</td>\n",
              "      <td>0.000117</td>\n",
              "      <td>1e-05</td>\n",
              "      <td>{'alpha': 1e-05}</td>\n",
              "      <td>-0.060292</td>\n",
              "      <td>-0.045350</td>\n",
              "      <td>-0.065949</td>\n",
              "      <td>-0.057197</td>\n",
              "      <td>0.008689</td>\n",
              "      <td>1</td>\n",
              "      <td>-0.047103</td>\n",
              "      <td>-0.038709</td>\n",
              "      <td>-0.039034</td>\n",
              "      <td>-0.041615</td>\n",
              "      <td>0.003883</td>\n",
              "    </tr>\n",
              "    <tr>\n",
              "      <th>1</th>\n",
              "      <td>0.003908</td>\n",
              "      <td>0.001493</td>\n",
              "      <td>0.002064</td>\n",
              "      <td>0.001495</td>\n",
              "      <td>0.0001</td>\n",
              "      <td>{'alpha': 0.0001}</td>\n",
              "      <td>-0.060292</td>\n",
              "      <td>-0.045350</td>\n",
              "      <td>-0.065949</td>\n",
              "      <td>-0.057197</td>\n",
              "      <td>0.008689</td>\n",
              "      <td>2</td>\n",
              "      <td>-0.047103</td>\n",
              "      <td>-0.038709</td>\n",
              "      <td>-0.039034</td>\n",
              "      <td>-0.041615</td>\n",
              "      <td>0.003883</td>\n",
              "    </tr>\n",
              "    <tr>\n",
              "      <th>2</th>\n",
              "      <td>0.002906</td>\n",
              "      <td>0.000027</td>\n",
              "      <td>0.001047</td>\n",
              "      <td>0.000004</td>\n",
              "      <td>0.001</td>\n",
              "      <td>{'alpha': 0.001}</td>\n",
              "      <td>-0.060292</td>\n",
              "      <td>-0.045350</td>\n",
              "      <td>-0.065949</td>\n",
              "      <td>-0.057197</td>\n",
              "      <td>0.008689</td>\n",
              "      <td>3</td>\n",
              "      <td>-0.047103</td>\n",
              "      <td>-0.038709</td>\n",
              "      <td>-0.039034</td>\n",
              "      <td>-0.041615</td>\n",
              "      <td>0.003883</td>\n",
              "    </tr>\n",
              "    <tr>\n",
              "      <th>3</th>\n",
              "      <td>0.003922</td>\n",
              "      <td>0.001254</td>\n",
              "      <td>0.001085</td>\n",
              "      <td>0.000044</td>\n",
              "      <td>0.01</td>\n",
              "      <td>{'alpha': 0.01}</td>\n",
              "      <td>-0.060292</td>\n",
              "      <td>-0.045350</td>\n",
              "      <td>-0.065949</td>\n",
              "      <td>-0.057197</td>\n",
              "      <td>0.008689</td>\n",
              "      <td>4</td>\n",
              "      <td>-0.047103</td>\n",
              "      <td>-0.038709</td>\n",
              "      <td>-0.039034</td>\n",
              "      <td>-0.041615</td>\n",
              "      <td>0.003883</td>\n",
              "    </tr>\n",
              "    <tr>\n",
              "      <th>4</th>\n",
              "      <td>0.002661</td>\n",
              "      <td>0.000140</td>\n",
              "      <td>0.001049</td>\n",
              "      <td>0.000030</td>\n",
              "      <td>0.1</td>\n",
              "      <td>{'alpha': 0.1}</td>\n",
              "      <td>-0.060292</td>\n",
              "      <td>-0.045351</td>\n",
              "      <td>-0.065948</td>\n",
              "      <td>-0.057197</td>\n",
              "      <td>0.008689</td>\n",
              "      <td>5</td>\n",
              "      <td>-0.047103</td>\n",
              "      <td>-0.038709</td>\n",
              "      <td>-0.039034</td>\n",
              "      <td>-0.041615</td>\n",
              "      <td>0.003883</td>\n",
              "    </tr>\n",
              "  </tbody>\n",
              "</table>\n",
              "</div>"
            ],
            "text/plain": [
              "   mean_fit_time  std_fit_time  ...  mean_train_score  std_train_score\n",
              "0       0.015228      0.008888  ...         -0.041615         0.003883\n",
              "1       0.003908      0.001493  ...         -0.041615         0.003883\n",
              "2       0.002906      0.000027  ...         -0.041615         0.003883\n",
              "3       0.003922      0.001254  ...         -0.041615         0.003883\n",
              "4       0.002661      0.000140  ...         -0.041615         0.003883\n",
              "\n",
              "[5 rows x 17 columns]"
            ]
          },
          "metadata": {
            "tags": []
          },
          "execution_count": 27
        }
      ]
    },
    {
      "cell_type": "code",
      "metadata": {
        "id": "6Qovyst0BwsE",
        "colab_type": "code",
        "colab": {
          "base_uri": "https://localhost:8080/",
          "height": 530
        },
        "outputId": "b5e974ba-35fe-4eb3-e21e-8996a32cc4aa"
      },
      "source": [
        "plt.plot(np.log10(param_C3.astype(float)), np.abs(train_score_std3), label = 'Train')\n",
        "plt.plot(np.log10(param_C3.astype(float)), np.abs(cv_score_std3), label = 'Validation')\n",
        "plt.xlabel('Log C')\n",
        "plt.ylabel('MSE')\n",
        "plt.legend()\n",
        "plt.show()"
      ],
      "execution_count": 28,
      "outputs": [
        {
          "output_type": "display_data",
          "data": {
            "image/png": "[encoded data removed]",
            "text/plain": [
              "<Figure size 1080x840 with 1 Axes>"
            ]
          },
          "metadata": {
            "tags": [],
            "needs_background": "light"
          }
        }
      ]
    },
    {
      "cell_type": "code",
      "metadata": {
        "id": "4Epw-E-iCS9M",
        "colab_type": "code",
        "colab": {
          "base_uri": "https://localhost:8080/",
          "height": 33
        },
        "outputId": "9eb8df9c-a7df-4d9b-8cfa-9ea4b8bb9c1c"
      },
      "source": [
        "svr_regression = LinearSVR(C = 0.01)\n",
        "svr_regression.fit(X_train, np.log1p(y_train))\n",
        "\n",
        "y_train_pred4 = svr_regression.predict(X_train) \n",
        "\n",
        "mse4 = sklearn.metrics.mean_squared_error(y_train, y_train_pred4)\n",
        "rmse4 = math.sqrt(mse4)\n",
        "print(rmse4)"
      ],
      "execution_count": 29,
      "outputs": [
        {
          "output_type": "stream",
          "text": [
            "1958.3118256095536\n"
          ],
          "name": "stdout"
        }
      ]
    },
    {
      "cell_type": "code",
      "metadata": {
        "id": "FzcZHA7pFIeQ",
        "colab_type": "code",
        "colab": {
          "base_uri": "https://localhost:8080/",
          "height": 33
        },
        "outputId": "23dcafe8-40e4-41c9-e94d-0ff1c06815c2"
      },
      "source": [
        "y_test_pred5 = svr_regression.predict(X_test) \n",
        "\n",
        "mse5 = sklearn.metrics.mean_squared_error(y_test, y_test_pred5)\n",
        "rmse5 = math.sqrt(mse5)\n",
        "print(rmse5)"
      ],
      "execution_count": 30,
      "outputs": [
        {
          "output_type": "stream",
          "text": [
            "2075.3651518939555\n"
          ],
          "name": "stdout"
        }
      ]
    },
    {
      "cell_type": "markdown",
      "metadata": {
        "id": "F3yFwEDfNeV1",
        "colab_type": "text"
      },
      "source": [
        "# 9. Random forest regressor"
      ]
    },
    {
      "cell_type": "code",
      "metadata": {
        "id": "jXvwT2QMNFTw",
        "colab_type": "code",
        "colab": {
          "base_uri": "https://localhost:8080/",
          "height": 33
        },
        "outputId": "d3c47ca5-587a-4a50-f689-c3697a30faf5"
      },
      "source": [
        "from sklearn.ensemble import RandomForestRegressor\n",
        "RForest = RandomForestRegressor()\n",
        "RForest.fit(X_train,y_train)\n",
        "print(RForest.score(X_train,y_train))  "
      ],
      "execution_count": 31,
      "outputs": [
        {
          "output_type": "stream",
          "text": [
            "0.9004887901744789\n"
          ],
          "name": "stdout"
        }
      ]
    },
    {
      "cell_type": "code",
      "metadata": {
        "id": "5S06kgvWC_tW",
        "colab_type": "code",
        "colab": {
          "base_uri": "https://localhost:8080/",
          "height": 33
        },
        "outputId": "123407e0-db9b-41c1-dd7b-751c98d3b454"
      },
      "source": [
        "y_train_pred6 = RForest.predict(X_train) \n",
        "\n",
        "mse6 = sklearn.metrics.mean_squared_error(y_train, y_train_pred6)\n",
        "rmse6 = math.sqrt(mse6)\n",
        "print(rmse6)"
      ],
      "execution_count": 32,
      "outputs": [
        {
          "output_type": "stream",
          "text": [
            "157.38565819984996\n"
          ],
          "name": "stdout"
        }
      ]
    },
    {
      "cell_type": "code",
      "metadata": {
        "id": "3GNQUspCFfDx",
        "colab_type": "code",
        "colab": {
          "base_uri": "https://localhost:8080/",
          "height": 33
        },
        "outputId": "b7f37f1d-f140-4950-f95b-5d8be0032181"
      },
      "source": [
        "y_test_pred7 = RForest.predict(X_test) \n",
        "\n",
        "mse7 = sklearn.metrics.mean_squared_error(y_test, y_test_pred7)\n",
        "rmse7 = math.sqrt(mse7)\n",
        "print(rmse7)"
      ],
      "execution_count": 33,
      "outputs": [
        {
          "output_type": "stream",
          "text": [
            "486.7512791884004\n"
          ],
          "name": "stdout"
        }
      ]
    },
    {
      "cell_type": "markdown",
      "metadata": {
        "id": "rWFxMoHtMyj_",
        "colab_type": "text"
      },
      "source": [
        "# XGBoost regressor"
      ]
    },
    {
      "cell_type": "code",
      "metadata": {
        "id": "NH_5dN_AM1XV",
        "colab_type": "code",
        "colab": {
          "base_uri": "https://localhost:8080/",
          "height": 830
        },
        "outputId": "8afa01d5-dfed-4cc8-959b-4ccd4a3ec38a"
      },
      "source": [
        "#from sklearn.preprocessing import StandardScaler\n",
        "from sklearn.preprocessing import MinMaxScaler\n",
        "scaler = MinMaxScaler(feature_range = (0,1))\n",
        "# prepare the model XGB\n",
        "X_train_scaled = scaler.fit_transform(X_train)\n",
        "print(X_train_scaled)"
      ],
      "execution_count": 34,
      "outputs": [
        {
          "output_type": "stream",
          "text": [
            "[[0.22826474 0.31437885]\n",
            " [0.17441953 0.23940601]\n",
            " [0.62415118 0.78160087]\n",
            " [0.18320006 0.36073886]\n",
            " [0.27288639 0.09960159]\n",
            " [0.21299141 0.26005071]\n",
            " [0.22453174 0.13509598]\n",
            " [0.56314501 0.92864904]\n",
            " [0.20576508 0.15682724]\n",
            " [0.50325003 0.81021369]\n",
            " [0.78334822 0.66606302]\n",
            " [0.0289053  0.38210793]\n",
            " [0.28315576 0.03549439]\n",
            " [0.23318881 0.31618979]\n",
            " [0.77789398 0.68236146]\n",
            " [0.33509441 0.31727635]\n",
            " [0.54048558 0.72292648]\n",
            " [0.08728239 0.60304238]\n",
            " [0.1580786  0.69250272]\n",
            " [0.34388595 1.        ]\n",
            " [0.23552738 0.03730532]\n",
            " [0.00755314 0.45201014]\n",
            " [0.58769273 0.73632742]\n",
            " [0.59892077 0.81383557]\n",
            " [0.19977341 0.84643245]\n",
            " [0.26116449 0.70843897]\n",
            " [0.77768336 0.71206085]\n",
            " [0.24910125 0.17674756]\n",
            " [0.19449347 0.58529518]\n",
            " [0.70934193 0.73234335]\n",
            " [0.23782237 0.43897139]\n",
            " [1.         0.89605216]\n",
            " [0.28256023 0.        ]\n",
            " [0.         0.39550887]\n",
            " [0.29272792 0.74393336]\n",
            " [0.15110646 0.30641072]\n",
            " [0.32362319 0.75986961]\n",
            " [0.21883783 0.18616443]\n",
            " [0.43031135 0.7222021 ]\n",
            " [0.33509441 0.29735603]\n",
            " [0.63838595 0.72582398]\n",
            " [0.20676733 0.47989859]\n",
            " [0.19568454 0.47989859]\n",
            " [0.18087602 0.80731619]\n",
            " [0.21883783 0.22745382]\n",
            " [0.28376582 0.07098877]\n",
            " [0.36252188 0.03114813]\n",
            " [0.32254831 0.02969938]\n",
            " [0.22822116 0.43498732]\n",
            " [0.1699748  0.28793915]]\n"
          ],
          "name": "stdout"
        }
      ]
    },
    {
      "cell_type": "code",
      "metadata": {
        "id": "X6I05JElM88B",
        "colab_type": "code",
        "colab": {
          "base_uri": "https://localhost:8080/",
          "height": 131
        },
        "outputId": "0e5b9ec8-13b6-4224-8cc6-6832965c6b71"
      },
      "source": [
        "xg_reg = xgb.XGBRegressor(objective ='reg:squarederror', colsample_bytree = 0.3, learning_rate = 0.1,\n",
        "max_depth = 5, alpha = 10, n_estimators = 100)\n",
        "xg_reg.fit(X_train_scaled, y_train)"
      ],
      "execution_count": 35,
      "outputs": [
        {
          "output_type": "execute_result",
          "data": {
            "text/plain": [
              "XGBRegressor(alpha=10, base_score=0.5, booster='gbtree', colsample_bylevel=1,\n",
              "             colsample_bynode=1, colsample_bytree=0.3, gamma=0,\n",
              "             importance_type='gain', learning_rate=0.1, max_delta_step=0,\n",
              "             max_depth=5, min_child_weight=1, missing=None, n_estimators=100,\n",
              "             n_jobs=1, nthread=None, objective='reg:squarederror',\n",
              "             random_state=0, reg_alpha=0, reg_lambda=1, scale_pos_weight=1,\n",
              "             seed=None, silent=None, subsample=1, verbosity=1)"
            ]
          },
          "metadata": {
            "tags": []
          },
          "execution_count": 35
        }
      ]
    },
    {
      "cell_type": "code",
      "metadata": {
        "id": "NT_yd5T1NJKD",
        "colab_type": "code",
        "colab": {
          "base_uri": "https://localhost:8080/",
          "height": 33
        },
        "outputId": "121914c3-029e-4185-cb65-a2d180e295c8"
      },
      "source": [
        "train_pred=xg_reg.predict(X_train_scaled)\n",
        "rmseXG=np.sqrt(mean_squared_error(y_train,train_pred))\n",
        "print(\"RMSE_train_XG:%f\" % (rmseXG))"
      ],
      "execution_count": 36,
      "outputs": [
        {
          "output_type": "stream",
          "text": [
            "RMSE_train_XG:33.274930\n"
          ],
          "name": "stdout"
        }
      ]
    },
    {
      "cell_type": "code",
      "metadata": {
        "id": "WV_MMChiN6ES",
        "colab_type": "code",
        "colab": {
          "base_uri": "https://localhost:8080/",
          "height": 33
        },
        "outputId": "6605ac0e-ad33-4b5c-81d6-ac7dbba7bed0"
      },
      "source": [
        "X_test_scaled =scaler.transform(X_test)\n",
        "test_pred = xg_reg.predict(X_test_scaled)\n",
        "rmsetestXG=np.sqrt(mean_squared_error(y_test,test_pred))\n",
        "print(\"RMSE_train_XG:%f\" % (rmsetestXG))"
      ],
      "execution_count": 37,
      "outputs": [
        {
          "output_type": "stream",
          "text": [
            "RMSE_train_XG:465.749165\n"
          ],
          "name": "stdout"
        }
      ]
    },
    {
      "cell_type": "code",
      "metadata": {
        "id": "Z71qtvNuJ-ES",
        "colab_type": "code",
        "colab": {}
      },
      "source": [
        ""
      ],
      "execution_count": 37,
      "outputs": []
    }
  ]
}