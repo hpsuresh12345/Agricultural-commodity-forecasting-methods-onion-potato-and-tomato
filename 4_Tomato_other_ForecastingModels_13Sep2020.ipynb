{
  "nbformat": 4,
  "nbformat_minor": 0,
  "metadata": {
    "colab": {
      "name": "4.Tomato_other_ForecastingModels_13Sep2020.ipynb",
      "provenance": [],
      "collapsed_sections": []
    },
    "kernelspec": {
      "name": "python3",
      "display_name": "Python 3"
    },
    "accelerator": "GPU"
  },
  "cells": [
    {
      "cell_type": "code",
      "metadata": {
        "id": "sOW7YHZe2bzB",
        "colab_type": "code",
        "colab": {
          "base_uri": "https://localhost:8080/",
          "height": 534
        },
        "outputId": "b4c475f7-9c1a-4281-bb97-369d6ea53738"
      },
      "source": [
        "pip install pmdarima"
      ],
      "execution_count": 1,
      "outputs": [
        {
          "output_type": "stream",
          "text": [
            "Collecting pmdarima\n",
            "\u001b[?25l  Downloading https://files.pythonhosted.org/packages/be/62/725b3b6ae0e56c77534de5a8139322e7b863ca53fd5bd6bd3b7de87d0c20/pmdarima-1.7.1-cp36-cp36m-manylinux1_x86_64.whl (1.5MB)\n",
            "\u001b[K     |████████████████████████████████| 1.5MB 4.6MB/s \n",
            "\u001b[?25hCollecting statsmodels<0.12,>=0.11\n",
            "\u001b[?25l  Downloading https://files.pythonhosted.org/packages/cb/83/540fd83238a18abe6c2d280fa8e489ac5fcefa1f370f0ca1acd16ae1b860/statsmodels-0.11.1-cp36-cp36m-manylinux1_x86_64.whl (8.7MB)\n",
            "\u001b[K     |████████████████████████████████| 8.7MB 22.0MB/s \n",
            "\u001b[?25hCollecting Cython<0.29.18,>=0.29\n",
            "\u001b[?25l  Downloading https://files.pythonhosted.org/packages/e7/d7/510ddef0248f3e1e91f9cc7e31c0f35f8954d0af92c5c3fd4c853e859ebe/Cython-0.29.17-cp36-cp36m-manylinux1_x86_64.whl (2.1MB)\n",
            "\u001b[K     |████████████████████████████████| 2.1MB 57.8MB/s \n",
            "\u001b[?25hRequirement already satisfied: pandas>=0.19 in /usr/local/lib/python3.6/dist-packages (from pmdarima) (1.0.5)\n",
            "Requirement already satisfied: setuptools<50.0.0 in /usr/local/lib/python3.6/dist-packages (from pmdarima) (49.6.0)\n",
            "Requirement already satisfied: scikit-learn>=0.22 in /usr/local/lib/python3.6/dist-packages (from pmdarima) (0.22.2.post1)\n",
            "Requirement already satisfied: urllib3 in /usr/local/lib/python3.6/dist-packages (from pmdarima) (1.24.3)\n",
            "Requirement already satisfied: scipy>=1.3.2 in /usr/local/lib/python3.6/dist-packages (from pmdarima) (1.4.1)\n",
            "Requirement already satisfied: joblib>=0.11 in /usr/local/lib/python3.6/dist-packages (from pmdarima) (0.16.0)\n",
            "Requirement already satisfied: numpy>=1.17.3 in /usr/local/lib/python3.6/dist-packages (from pmdarima) (1.18.5)\n",
            "Requirement already satisfied: patsy>=0.5 in /usr/local/lib/python3.6/dist-packages (from statsmodels<0.12,>=0.11->pmdarima) (0.5.1)\n",
            "Requirement already satisfied: pytz>=2017.2 in /usr/local/lib/python3.6/dist-packages (from pandas>=0.19->pmdarima) (2018.9)\n",
            "Requirement already satisfied: python-dateutil>=2.6.1 in /usr/local/lib/python3.6/dist-packages (from pandas>=0.19->pmdarima) (2.8.1)\n",
            "Requirement already satisfied: six in /usr/local/lib/python3.6/dist-packages (from patsy>=0.5->statsmodels<0.12,>=0.11->pmdarima) (1.15.0)\n",
            "Installing collected packages: statsmodels, Cython, pmdarima\n",
            "  Found existing installation: statsmodels 0.10.2\n",
            "    Uninstalling statsmodels-0.10.2:\n",
            "      Successfully uninstalled statsmodels-0.10.2\n",
            "  Found existing installation: Cython 0.29.21\n",
            "    Uninstalling Cython-0.29.21:\n",
            "      Successfully uninstalled Cython-0.29.21\n",
            "Successfully installed Cython-0.29.17 pmdarima-1.7.1 statsmodels-0.11.1\n"
          ],
          "name": "stdout"
        }
      ]
    },
    {
      "cell_type": "code",
      "metadata": {
        "id": "A228EnGckVr4",
        "colab_type": "code",
        "colab": {
          "base_uri": "https://localhost:8080/",
          "height": 34
        },
        "outputId": "5873dba5-790b-43b9-9e40-904b5674bc81"
      },
      "source": [
        "import plotly.express as px \n",
        "import pandas as pd \n",
        "import numpy as np \n",
        "from dateutil.parser import parse \n",
        "import matplotlib as mpl\n",
        "import matplotlib.pyplot as plt\n",
        "import seaborn as sns\n",
        "import datetime\n",
        "import warnings\n",
        "warnings.filterwarnings('ignore')\n",
        "import datetime\n",
        "import seaborn as sns\n",
        "from sklearn import metrics\n",
        "from sklearn.metrics import mean_squared_error\n",
        "import matplotlib.pyplot as plt\n",
        "import matplotlib\n",
        "import warnings\n",
        "warnings.filterwarnings(\"ignore\") # Don't want to see the warnings in the notebook\n",
        "from sklearn import svm\n",
        "import itertools \n",
        "\n",
        "import os\n",
        "import datetime\n",
        "\n",
        "import IPython\n",
        "import IPython.display\n",
        "import matplotlib as mpl\n",
        "import matplotlib.pyplot as plt\n",
        "import numpy as np\n",
        "import pandas as pd\n",
        "import seaborn as sns\n",
        "import tensorflow as tf\n",
        "import pmdarima as pm\n",
        "\n",
        "mpl.rcParams['figure.figsize'] = (8, 6)\n",
        "mpl.rcParams['axes.grid'] = False\n",
        "\n",
        "from __future__ import absolute_import,division,print_function,unicode_literals\n",
        "\n",
        "import seaborn as sns\n",
        "import matplotlib as mpl\n",
        "import matplotlib.pyplot as plt\n",
        "import numpy as np\n",
        "import os\n",
        "from datetime import datetime\n",
        "\n",
        "import pandas as pd\n",
        "\n",
        "\n",
        "mpl.rcParams['figure.figsize'] = (8,6)\n",
        "mpl.rcParams['axes.grid'] = False\n",
        "\n",
        "import cufflinks as cf\n",
        "cf.go_offline()\n",
        "cf.set_config_file(offline=False, world_readable=True)\n",
        "\n",
        "from statsmodels.tsa import stattools\n",
        "from statsmodels.tsa import seasonal\n",
        "from sklearn.linear_model import Ridge\n",
        "\n",
        "from statsmodels.tsa.arima_model import ARIMA\n",
        "from pandas.plotting import autocorrelation_plot\n",
        "from statsmodels.tsa.seasonal import seasonal_decompose\n",
        "\n",
        "from statsmodels.graphics.tsaplots import plot_acf, plot_pacf\n",
        "from sklearn.model_selection import TimeSeriesSplit\n",
        "from sklearn.model_selection import GridSearchCV, RandomizedSearchCV\n",
        "from sklearn.metrics import mean_squared_error\n",
        "from sklearn.linear_model import LinearRegression, Lasso, Ridge\n",
        "from sklearn.svm import LinearSVR\n",
        "from sklearn.ensemble import RandomForestRegressor\n",
        "import xgboost as xgb\n",
        "from sklearn.ensemble import StackingRegressor\n",
        "import pickle\n",
        "from sklearn.experimental import enable_iterative_imputer\n",
        "from sklearn.impute import IterativeImputer\n",
        "warnings.filterwarnings(\"ignore\")\n",
        "import matplotlib.pyplot as plt\n",
        "plt.rcParams.update({'figure.figsize':(9,7), 'figure.dpi':120})\n",
        "\n",
        "print(\"Import Succesfull\")"
      ],
      "execution_count": 2,
      "outputs": [
        {
          "output_type": "display_data",
          "data": {
            "text/html": [
              "        <script type=\"text/javascript\">\n",
              "        window.PlotlyConfig = {MathJaxConfig: 'local'};\n",
              "        if (window.MathJax) {MathJax.Hub.Config({SVG: {font: \"STIX-Web\"}});}\n",
              "        if (typeof require !== 'undefined') {\n",
              "        require.undef(\"plotly\");\n",
              "        requirejs.config({\n",
              "            paths: {\n",
              "                'plotly': ['https://cdn.plot.ly/plotly-latest.min']\n",
              "            }\n",
              "        });\n",
              "        require(['plotly'], function(Plotly) {\n",
              "            window._Plotly = Plotly;\n",
              "        });\n",
              "        }\n",
              "        </script>\n",
              "        "
            ]
          },
          "metadata": {
            "tags": []
          }
        },
        {
          "output_type": "stream",
          "text": [
            "Import Succesfull\n"
          ],
          "name": "stdout"
        }
      ]
    },
    {
      "cell_type": "code",
      "metadata": {
        "id": "e5uGHBaFkws4",
        "colab_type": "code",
        "colab": {}
      },
      "source": [
        "# Get some data\n",
        "df = pd.read_excel(\"/content/drive/My Drive/Capstone_Commodity_SureshaHP/Tomato/DelhiTomato_31Aug.xlsx\")"
      ],
      "execution_count": 3,
      "outputs": []
    },
    {
      "cell_type": "code",
      "metadata": {
        "id": "dSWbvPzLlSLG",
        "colab_type": "code",
        "colab": {
          "base_uri": "https://localhost:8080/",
          "height": 197
        },
        "outputId": "5e31f9d7-ea57-415c-a167-1b7e38bbc578"
      },
      "source": [
        "df.head()"
      ],
      "execution_count": 4,
      "outputs": [
        {
          "output_type": "execute_result",
          "data": {
            "text/html": [
              "<div>\n",
              "<style scoped>\n",
              "    .dataframe tbody tr th:only-of-type {\n",
              "        vertical-align: middle;\n",
              "    }\n",
              "\n",
              "    .dataframe tbody tr th {\n",
              "        vertical-align: top;\n",
              "    }\n",
              "\n",
              "    .dataframe thead th {\n",
              "        text-align: right;\n",
              "    }\n",
              "</style>\n",
              "<table border=\"1\" class=\"dataframe\">\n",
              "  <thead>\n",
              "    <tr style=\"text-align: right;\">\n",
              "      <th></th>\n",
              "      <th>Unnamed: 0</th>\n",
              "      <th>Date</th>\n",
              "      <th>DELHI_RetailPrice</th>\n",
              "      <th>DELHI_Volume</th>\n",
              "      <th>DieselPrice</th>\n",
              "    </tr>\n",
              "  </thead>\n",
              "  <tbody>\n",
              "    <tr>\n",
              "      <th>0</th>\n",
              "      <td>0</td>\n",
              "      <td>2015-01-01</td>\n",
              "      <td>3285.0</td>\n",
              "      <td>15850.0</td>\n",
              "      <td>53.74</td>\n",
              "    </tr>\n",
              "    <tr>\n",
              "      <th>1</th>\n",
              "      <td>1</td>\n",
              "      <td>2015-02-01</td>\n",
              "      <td>3135.0</td>\n",
              "      <td>15178.0</td>\n",
              "      <td>51.96</td>\n",
              "    </tr>\n",
              "    <tr>\n",
              "      <th>2</th>\n",
              "      <td>2</td>\n",
              "      <td>2015-03-01</td>\n",
              "      <td>2913.0</td>\n",
              "      <td>14104.0</td>\n",
              "      <td>55.41</td>\n",
              "    </tr>\n",
              "    <tr>\n",
              "      <th>3</th>\n",
              "      <td>3</td>\n",
              "      <td>2015-04-01</td>\n",
              "      <td>3283.0</td>\n",
              "      <td>13692.0</td>\n",
              "      <td>52.56</td>\n",
              "    </tr>\n",
              "    <tr>\n",
              "      <th>4</th>\n",
              "      <td>4</td>\n",
              "      <td>2015-05-01</td>\n",
              "      <td>3772.0</td>\n",
              "      <td>9535.0</td>\n",
              "      <td>58.19</td>\n",
              "    </tr>\n",
              "  </tbody>\n",
              "</table>\n",
              "</div>"
            ],
            "text/plain": [
              "   Unnamed: 0       Date  DELHI_RetailPrice  DELHI_Volume  DieselPrice\n",
              "0           0 2015-01-01             3285.0       15850.0        53.74\n",
              "1           1 2015-02-01             3135.0       15178.0        51.96\n",
              "2           2 2015-03-01             2913.0       14104.0        55.41\n",
              "3           3 2015-04-01             3283.0       13692.0        52.56\n",
              "4           4 2015-05-01             3772.0        9535.0        58.19"
            ]
          },
          "metadata": {
            "tags": []
          },
          "execution_count": 4
        }
      ]
    },
    {
      "cell_type": "code",
      "metadata": {
        "id": "QWtUD0salUY5",
        "colab_type": "code",
        "colab": {
          "base_uri": "https://localhost:8080/",
          "height": 230
        },
        "outputId": "e17de3bf-16ec-4ae5-8054-8e09c3a2ae3c"
      },
      "source": [
        "df.info()"
      ],
      "execution_count": 5,
      "outputs": [
        {
          "output_type": "stream",
          "text": [
            "<class 'pandas.core.frame.DataFrame'>\n",
            "RangeIndex: 67 entries, 0 to 66\n",
            "Data columns (total 5 columns):\n",
            " #   Column             Non-Null Count  Dtype         \n",
            "---  ------             --------------  -----         \n",
            " 0   Unnamed: 0         67 non-null     int64         \n",
            " 1   Date               67 non-null     datetime64[ns]\n",
            " 2   DELHI_RetailPrice  67 non-null     float64       \n",
            " 3   DELHI_Volume       67 non-null     float64       \n",
            " 4   DieselPrice        67 non-null     float64       \n",
            "dtypes: datetime64[ns](1), float64(3), int64(1)\n",
            "memory usage: 2.7 KB\n"
          ],
          "name": "stdout"
        }
      ]
    },
    {
      "cell_type": "markdown",
      "metadata": {
        "id": "wMq1XeYesFH8",
        "colab_type": "text"
      },
      "source": [
        "#  Prediction Models"
      ]
    },
    {
      "cell_type": "code",
      "metadata": {
        "id": "RJDm4d1wv6FN",
        "colab_type": "code",
        "colab": {
          "base_uri": "https://localhost:8080/",
          "height": 34
        },
        "outputId": "050d1dad-d5e8-42e6-a314-99f578806c15"
      },
      "source": [
        "print(df.index)"
      ],
      "execution_count": 6,
      "outputs": [
        {
          "output_type": "stream",
          "text": [
            "RangeIndex(start=0, stop=67, step=1)\n"
          ],
          "name": "stdout"
        }
      ]
    },
    {
      "cell_type": "code",
      "metadata": {
        "id": "0XOa-SlywFqb",
        "colab_type": "code",
        "colab": {
          "base_uri": "https://localhost:8080/",
          "height": 336
        },
        "outputId": "e0de83af-2d6e-46c4-d079-f83bf17cdf10"
      },
      "source": [
        "datetime_series = pd.to_datetime(df['Date'])\n",
        "\n",
        "# create datetime index passing the datetime series\n",
        "datetime_index = pd.DatetimeIndex(datetime_series.values)\n",
        "\n",
        "df5=df.set_index(datetime_index)\n",
        "\n",
        "# we don't need the column anymore\n",
        "df5.drop('Date',axis=1,inplace=True)\n",
        "\n",
        "print(df5.index)"
      ],
      "execution_count": 7,
      "outputs": [
        {
          "output_type": "stream",
          "text": [
            "DatetimeIndex(['2015-01-01', '2015-02-01', '2015-03-01', '2015-04-01',\n",
            "               '2015-05-01', '2015-06-01', '2015-07-01', '2015-08-01',\n",
            "               '2015-09-01', '2015-10-01', '2015-11-01', '2015-12-01',\n",
            "               '2016-01-01', '2016-02-01', '2016-03-01', '2016-04-01',\n",
            "               '2016-05-01', '2016-06-01', '2016-07-01', '2016-08-01',\n",
            "               '2016-09-01', '2016-10-01', '2016-11-01', '2016-12-01',\n",
            "               '2017-01-01', '2017-02-01', '2017-03-01', '2017-04-01',\n",
            "               '2017-05-01', '2017-06-01', '2017-07-01', '2017-08-01',\n",
            "               '2017-09-01', '2017-10-01', '2017-11-01', '2017-12-01',\n",
            "               '2018-01-01', '2018-02-01', '2018-03-01', '2018-04-01',\n",
            "               '2018-05-01', '2018-06-01', '2018-07-01', '2018-08-01',\n",
            "               '2018-09-01', '2018-10-01', '2018-11-01', '2018-12-01',\n",
            "               '2019-01-01', '2019-02-01', '2019-03-01', '2019-04-01',\n",
            "               '2019-05-01', '2019-06-01', '2019-07-01', '2019-08-01',\n",
            "               '2019-09-01', '2019-10-01', '2019-11-01', '2019-12-01',\n",
            "               '2020-01-01', '2020-02-01', '2020-03-01', '2020-04-01',\n",
            "               '2020-05-01', '2020-06-01', '2020-07-01'],\n",
            "              dtype='datetime64[ns]', freq=None)\n"
          ],
          "name": "stdout"
        }
      ]
    },
    {
      "cell_type": "code",
      "metadata": {
        "id": "-YqFbE49Jod-",
        "colab_type": "code",
        "colab": {
          "base_uri": "https://localhost:8080/",
          "height": 197
        },
        "outputId": "aa253d46-4f92-422f-ca42-6d005ae32cc8"
      },
      "source": [
        "col = ['DELHI_RetailPrice','DELHI_Volume','DieselPrice']\n",
        "df5 = df5[col]\n",
        "df5.head()"
      ],
      "execution_count": 8,
      "outputs": [
        {
          "output_type": "execute_result",
          "data": {
            "text/html": [
              "<div>\n",
              "<style scoped>\n",
              "    .dataframe tbody tr th:only-of-type {\n",
              "        vertical-align: middle;\n",
              "    }\n",
              "\n",
              "    .dataframe tbody tr th {\n",
              "        vertical-align: top;\n",
              "    }\n",
              "\n",
              "    .dataframe thead th {\n",
              "        text-align: right;\n",
              "    }\n",
              "</style>\n",
              "<table border=\"1\" class=\"dataframe\">\n",
              "  <thead>\n",
              "    <tr style=\"text-align: right;\">\n",
              "      <th></th>\n",
              "      <th>DELHI_RetailPrice</th>\n",
              "      <th>DELHI_Volume</th>\n",
              "      <th>DieselPrice</th>\n",
              "    </tr>\n",
              "  </thead>\n",
              "  <tbody>\n",
              "    <tr>\n",
              "      <th>2015-01-01</th>\n",
              "      <td>3285.0</td>\n",
              "      <td>15850.0</td>\n",
              "      <td>53.74</td>\n",
              "    </tr>\n",
              "    <tr>\n",
              "      <th>2015-02-01</th>\n",
              "      <td>3135.0</td>\n",
              "      <td>15178.0</td>\n",
              "      <td>51.96</td>\n",
              "    </tr>\n",
              "    <tr>\n",
              "      <th>2015-03-01</th>\n",
              "      <td>2913.0</td>\n",
              "      <td>14104.0</td>\n",
              "      <td>55.41</td>\n",
              "    </tr>\n",
              "    <tr>\n",
              "      <th>2015-04-01</th>\n",
              "      <td>3283.0</td>\n",
              "      <td>13692.0</td>\n",
              "      <td>52.56</td>\n",
              "    </tr>\n",
              "    <tr>\n",
              "      <th>2015-05-01</th>\n",
              "      <td>3772.0</td>\n",
              "      <td>9535.0</td>\n",
              "      <td>58.19</td>\n",
              "    </tr>\n",
              "  </tbody>\n",
              "</table>\n",
              "</div>"
            ],
            "text/plain": [
              "            DELHI_RetailPrice  DELHI_Volume  DieselPrice\n",
              "2015-01-01             3285.0       15850.0        53.74\n",
              "2015-02-01             3135.0       15178.0        51.96\n",
              "2015-03-01             2913.0       14104.0        55.41\n",
              "2015-04-01             3283.0       13692.0        52.56\n",
              "2015-05-01             3772.0        9535.0        58.19"
            ]
          },
          "metadata": {
            "tags": []
          },
          "execution_count": 8
        }
      ]
    },
    {
      "cell_type": "code",
      "metadata": {
        "id": "AebWxgYsLinv",
        "colab_type": "code",
        "colab": {}
      },
      "source": [
        "from sklearn.model_selection import train_test_split\n",
        "\n",
        "from sklearn.model_selection import train_test_split\n",
        "\n",
        "X = df5.drop(['DELHI_RetailPrice'], axis=1)\n",
        "#print('X columns: %s' % list(X.columns))\n",
        "\n",
        "y = df5['DELHI_RetailPrice']\n",
        "\n",
        "X_train, X_test, y_train, y_test = train_test_split(X, y, test_size=0.25)"
      ],
      "execution_count": 11,
      "outputs": []
    },
    {
      "cell_type": "markdown",
      "metadata": {
        "id": "gU67co1HMDf8",
        "colab_type": "text"
      },
      "source": [
        "# 5. RIDGE Regression"
      ]
    },
    {
      "cell_type": "code",
      "metadata": {
        "id": "6rrME61kLxsT",
        "colab_type": "code",
        "colab": {
          "base_uri": "https://localhost:8080/",
          "height": 70
        },
        "outputId": "a6b3e049-72f0-4f8e-eecd-b6ce7a01ac4b"
      },
      "source": [
        "ridge_regression = Ridge()\n",
        "parameters = {'alpha':[10**-5, 10**-4, 10**-3, 10**-2, 0.1, 1, 10, 10**2, 10**3, 10**4, 10**5]}\n",
        "tscv = TimeSeriesSplit(n_splits=3)\n",
        "clf = GridSearchCV(ridge_regression, parameters, cv=tscv, scoring='neg_mean_squared_error', verbose = 2, return_train_score=True, n_jobs = -1)\n",
        "clf.fit(X_train, np.log1p(y_train))\n",
        "\n",
        "results = pd.DataFrame.from_dict(clf.cv_results_)"
      ],
      "execution_count": 12,
      "outputs": [
        {
          "output_type": "stream",
          "text": [
            "Fitting 3 folds for each of 11 candidates, totalling 33 fits\n"
          ],
          "name": "stdout"
        },
        {
          "output_type": "stream",
          "text": [
            "[Parallel(n_jobs=-1)]: Using backend LokyBackend with 2 concurrent workers.\n",
            "[Parallel(n_jobs=-1)]: Done  33 out of  33 | elapsed:    1.2s finished\n"
          ],
          "name": "stderr"
        }
      ]
    },
    {
      "cell_type": "code",
      "metadata": {
        "id": "m3ZZyRztAydI",
        "colab_type": "code",
        "colab": {
          "base_uri": "https://localhost:8080/",
          "height": 301
        },
        "outputId": "87fd86ba-099e-4994-97e9-cf69add425d9"
      },
      "source": [
        "train_score= results['mean_train_score']\n",
        "train_score_std= results['std_train_score']\n",
        "cv_score = results['mean_test_score'] \n",
        "cv_score_std= results['std_test_score']\n",
        "param_alpha = results['param_alpha']\n",
        "results.head(5)"
      ],
      "execution_count": 13,
      "outputs": [
        {
          "output_type": "execute_result",
          "data": {
            "text/html": [
              "<div>\n",
              "<style scoped>\n",
              "    .dataframe tbody tr th:only-of-type {\n",
              "        vertical-align: middle;\n",
              "    }\n",
              "\n",
              "    .dataframe tbody tr th {\n",
              "        vertical-align: top;\n",
              "    }\n",
              "\n",
              "    .dataframe thead th {\n",
              "        text-align: right;\n",
              "    }\n",
              "</style>\n",
              "<table border=\"1\" class=\"dataframe\">\n",
              "  <thead>\n",
              "    <tr style=\"text-align: right;\">\n",
              "      <th></th>\n",
              "      <th>mean_fit_time</th>\n",
              "      <th>std_fit_time</th>\n",
              "      <th>mean_score_time</th>\n",
              "      <th>std_score_time</th>\n",
              "      <th>param_alpha</th>\n",
              "      <th>params</th>\n",
              "      <th>split0_test_score</th>\n",
              "      <th>split1_test_score</th>\n",
              "      <th>split2_test_score</th>\n",
              "      <th>mean_test_score</th>\n",
              "      <th>std_test_score</th>\n",
              "      <th>rank_test_score</th>\n",
              "      <th>split0_train_score</th>\n",
              "      <th>split1_train_score</th>\n",
              "      <th>split2_train_score</th>\n",
              "      <th>mean_train_score</th>\n",
              "      <th>std_train_score</th>\n",
              "    </tr>\n",
              "  </thead>\n",
              "  <tbody>\n",
              "    <tr>\n",
              "      <th>0</th>\n",
              "      <td>0.010203</td>\n",
              "      <td>0.009192</td>\n",
              "      <td>0.001178</td>\n",
              "      <td>0.000131</td>\n",
              "      <td>1e-05</td>\n",
              "      <td>{'alpha': 1e-05}</td>\n",
              "      <td>-0.126002</td>\n",
              "      <td>-0.131556</td>\n",
              "      <td>-0.160228</td>\n",
              "      <td>-0.139262</td>\n",
              "      <td>0.014997</td>\n",
              "      <td>11</td>\n",
              "      <td>-0.037678</td>\n",
              "      <td>-0.058717</td>\n",
              "      <td>-0.076131</td>\n",
              "      <td>-0.057509</td>\n",
              "      <td>0.015722</td>\n",
              "    </tr>\n",
              "    <tr>\n",
              "      <th>1</th>\n",
              "      <td>0.002775</td>\n",
              "      <td>0.000105</td>\n",
              "      <td>0.001347</td>\n",
              "      <td>0.000394</td>\n",
              "      <td>0.0001</td>\n",
              "      <td>{'alpha': 0.0001}</td>\n",
              "      <td>-0.126002</td>\n",
              "      <td>-0.131556</td>\n",
              "      <td>-0.160228</td>\n",
              "      <td>-0.139262</td>\n",
              "      <td>0.014997</td>\n",
              "      <td>10</td>\n",
              "      <td>-0.037678</td>\n",
              "      <td>-0.058717</td>\n",
              "      <td>-0.076131</td>\n",
              "      <td>-0.057509</td>\n",
              "      <td>0.015722</td>\n",
              "    </tr>\n",
              "    <tr>\n",
              "      <th>2</th>\n",
              "      <td>0.002679</td>\n",
              "      <td>0.000092</td>\n",
              "      <td>0.001101</td>\n",
              "      <td>0.000030</td>\n",
              "      <td>0.001</td>\n",
              "      <td>{'alpha': 0.001}</td>\n",
              "      <td>-0.126002</td>\n",
              "      <td>-0.131556</td>\n",
              "      <td>-0.160228</td>\n",
              "      <td>-0.139262</td>\n",
              "      <td>0.014997</td>\n",
              "      <td>9</td>\n",
              "      <td>-0.037678</td>\n",
              "      <td>-0.058717</td>\n",
              "      <td>-0.076131</td>\n",
              "      <td>-0.057509</td>\n",
              "      <td>0.015722</td>\n",
              "    </tr>\n",
              "    <tr>\n",
              "      <th>3</th>\n",
              "      <td>0.002949</td>\n",
              "      <td>0.000385</td>\n",
              "      <td>0.001049</td>\n",
              "      <td>0.000015</td>\n",
              "      <td>0.01</td>\n",
              "      <td>{'alpha': 0.01}</td>\n",
              "      <td>-0.126001</td>\n",
              "      <td>-0.131556</td>\n",
              "      <td>-0.160228</td>\n",
              "      <td>-0.139261</td>\n",
              "      <td>0.014998</td>\n",
              "      <td>8</td>\n",
              "      <td>-0.037678</td>\n",
              "      <td>-0.058717</td>\n",
              "      <td>-0.076131</td>\n",
              "      <td>-0.057509</td>\n",
              "      <td>0.015722</td>\n",
              "    </tr>\n",
              "    <tr>\n",
              "      <th>4</th>\n",
              "      <td>0.005314</td>\n",
              "      <td>0.003137</td>\n",
              "      <td>0.001398</td>\n",
              "      <td>0.000379</td>\n",
              "      <td>0.1</td>\n",
              "      <td>{'alpha': 0.1}</td>\n",
              "      <td>-0.125987</td>\n",
              "      <td>-0.131555</td>\n",
              "      <td>-0.160227</td>\n",
              "      <td>-0.139256</td>\n",
              "      <td>0.015002</td>\n",
              "      <td>7</td>\n",
              "      <td>-0.037678</td>\n",
              "      <td>-0.058717</td>\n",
              "      <td>-0.076131</td>\n",
              "      <td>-0.057509</td>\n",
              "      <td>0.015722</td>\n",
              "    </tr>\n",
              "  </tbody>\n",
              "</table>\n",
              "</div>"
            ],
            "text/plain": [
              "   mean_fit_time  std_fit_time  ...  mean_train_score  std_train_score\n",
              "0       0.010203      0.009192  ...         -0.057509         0.015722\n",
              "1       0.002775      0.000105  ...         -0.057509         0.015722\n",
              "2       0.002679      0.000092  ...         -0.057509         0.015722\n",
              "3       0.002949      0.000385  ...         -0.057509         0.015722\n",
              "4       0.005314      0.003137  ...         -0.057509         0.015722\n",
              "\n",
              "[5 rows x 17 columns]"
            ]
          },
          "metadata": {
            "tags": []
          },
          "execution_count": 13
        }
      ]
    },
    {
      "cell_type": "code",
      "metadata": {
        "id": "R8cGp6xWAzEA",
        "colab_type": "code",
        "colab": {
          "base_uri": "https://localhost:8080/",
          "height": 728
        },
        "outputId": "66961fc8-c9e4-421f-cfd9-ba551ae80596"
      },
      "source": [
        "\n",
        "plt.plot(np.log10(param_alpha.astype(float)), np.abs(train_score), label = 'Train')\n",
        "plt.plot(np.log10(param_alpha.astype(float)), np.abs(cv_score), label = 'Validation')\n",
        "plt.xlabel('Log Alpha')\n",
        "plt.ylabel('MSE')\n",
        "plt.legend()\n",
        "plt.show()"
      ],
      "execution_count": 14,
      "outputs": [
        {
          "output_type": "display_data",
          "data": {
            "image/png": "[encoded data removed]",
            "text/plain": [
              "<Figure size 1080x840 with 1 Axes>"
            ]
          },
          "metadata": {
            "tags": [],
            "needs_background": "light"
          }
        }
      ]
    },
    {
      "cell_type": "code",
      "metadata": {
        "id": "vOWWAOQM_Fxs",
        "colab_type": "code",
        "colab": {}
      },
      "source": [
        "import sklearn"
      ],
      "execution_count": 15,
      "outputs": []
    },
    {
      "cell_type": "code",
      "metadata": {
        "id": "wEyAVoOE_Deu",
        "colab_type": "code",
        "colab": {}
      },
      "source": [
        "import sklearn.metrics as metrics"
      ],
      "execution_count": 16,
      "outputs": []
    },
    {
      "cell_type": "code",
      "metadata": {
        "id": "QRHAFvcO_RMZ",
        "colab_type": "code",
        "colab": {}
      },
      "source": [
        "import math"
      ],
      "execution_count": 17,
      "outputs": []
    },
    {
      "cell_type": "code",
      "metadata": {
        "id": "IHculRAc_OD_",
        "colab_type": "code",
        "colab": {}
      },
      "source": [
        "from math import *"
      ],
      "execution_count": 18,
      "outputs": []
    },
    {
      "cell_type": "code",
      "metadata": {
        "id": "cutzlrZk9sHB",
        "colab_type": "code",
        "colab": {
          "base_uri": "https://localhost:8080/",
          "height": 34
        },
        "outputId": "857e5ea8-5dc9-4e14-a9bb-099b99c16d42"
      },
      "source": [
        "ridge_regression = Ridge(alpha = 100)\n",
        "ridge_regression.fit(X_train, np.log1p(y_train))\n",
        "\n",
        "y_train_pred = ridge_regression.predict(X_train) \n",
        "mse = sklearn.metrics.mean_squared_error(y_train, y_train_pred)\n",
        "rmse = math.sqrt(mse)\n",
        "\n",
        "print(rmse)"
      ],
      "execution_count": 19,
      "outputs": [
        {
          "output_type": "stream",
          "text": [
            "3674.655792027178\n"
          ],
          "name": "stdout"
        }
      ]
    },
    {
      "cell_type": "code",
      "metadata": {
        "id": "R1KGK5mcA6Rt",
        "colab_type": "code",
        "colab": {
          "base_uri": "https://localhost:8080/",
          "height": 34
        },
        "outputId": "8638d85f-7358-49d1-decd-cac1ee895b3f"
      },
      "source": [
        "y_test_pred = ridge_regression.predict(X_test) \n",
        "mse1 = sklearn.metrics.mean_squared_error(y_test, y_test_pred)\n",
        "rmse1 = math.sqrt(mse1)\n",
        "\n",
        "print(rmse1)"
      ],
      "execution_count": 20,
      "outputs": [
        {
          "output_type": "stream",
          "text": [
            "3714.995910663363\n"
          ],
          "name": "stdout"
        }
      ]
    },
    {
      "cell_type": "markdown",
      "metadata": {
        "colab_type": "text",
        "id": "RA0GlEyVBBP-"
      },
      "source": [
        "# 5. Lasso Regression"
      ]
    },
    {
      "cell_type": "code",
      "metadata": {
        "colab_type": "code",
        "id": "hW-rG9rGBBP_",
        "colab": {
          "base_uri": "https://localhost:8080/",
          "height": 70
        },
        "outputId": "458e9f97-c6e5-421e-aeda-9f29dd8ef746"
      },
      "source": [
        "lasso_regression = Lasso()\n",
        "parameters2 = {'alpha':[10**-5, 10**-4, 10**-3, 10**-2, 0.1, 1, 10, 10**2, 10**3, 10**4, 10**5]}\n",
        "tscv = TimeSeriesSplit(n_splits=3)\n",
        "clf2 = GridSearchCV(lasso_regression, parameters2, cv=tscv, scoring='neg_mean_squared_error', verbose = 2, return_train_score=True, n_jobs = -1)\n",
        "clf2.fit(X_train, np.log1p(y_train))\n",
        "\n",
        "results1 = pd.DataFrame.from_dict(clf2.cv_results_)"
      ],
      "execution_count": 21,
      "outputs": [
        {
          "output_type": "stream",
          "text": [
            "Fitting 3 folds for each of 11 candidates, totalling 33 fits\n"
          ],
          "name": "stdout"
        },
        {
          "output_type": "stream",
          "text": [
            "[Parallel(n_jobs=-1)]: Using backend LokyBackend with 2 concurrent workers.\n",
            "[Parallel(n_jobs=-1)]: Done  33 out of  33 | elapsed:    0.1s finished\n"
          ],
          "name": "stderr"
        }
      ]
    },
    {
      "cell_type": "code",
      "metadata": {
        "id": "C3QeHstQ_9-_",
        "colab_type": "code",
        "colab": {
          "base_uri": "https://localhost:8080/",
          "height": 301
        },
        "outputId": "10dbc646-855b-4c04-f98a-4c8fe97e08e5"
      },
      "source": [
        "train_score1= results['mean_train_score']\n",
        "train_score_std1= results['std_train_score']\n",
        "cv_score1 = results['mean_test_score'] \n",
        "cv_score_std1= results['std_test_score']\n",
        "param_alpha1 = results['param_alpha']\n",
        "results1.head(5)"
      ],
      "execution_count": 22,
      "outputs": [
        {
          "output_type": "execute_result",
          "data": {
            "text/html": [
              "<div>\n",
              "<style scoped>\n",
              "    .dataframe tbody tr th:only-of-type {\n",
              "        vertical-align: middle;\n",
              "    }\n",
              "\n",
              "    .dataframe tbody tr th {\n",
              "        vertical-align: top;\n",
              "    }\n",
              "\n",
              "    .dataframe thead th {\n",
              "        text-align: right;\n",
              "    }\n",
              "</style>\n",
              "<table border=\"1\" class=\"dataframe\">\n",
              "  <thead>\n",
              "    <tr style=\"text-align: right;\">\n",
              "      <th></th>\n",
              "      <th>mean_fit_time</th>\n",
              "      <th>std_fit_time</th>\n",
              "      <th>mean_score_time</th>\n",
              "      <th>std_score_time</th>\n",
              "      <th>param_alpha</th>\n",
              "      <th>params</th>\n",
              "      <th>split0_test_score</th>\n",
              "      <th>split1_test_score</th>\n",
              "      <th>split2_test_score</th>\n",
              "      <th>mean_test_score</th>\n",
              "      <th>std_test_score</th>\n",
              "      <th>rank_test_score</th>\n",
              "      <th>split0_train_score</th>\n",
              "      <th>split1_train_score</th>\n",
              "      <th>split2_train_score</th>\n",
              "      <th>mean_train_score</th>\n",
              "      <th>std_train_score</th>\n",
              "    </tr>\n",
              "  </thead>\n",
              "  <tbody>\n",
              "    <tr>\n",
              "      <th>0</th>\n",
              "      <td>0.003724</td>\n",
              "      <td>0.000870</td>\n",
              "      <td>0.000986</td>\n",
              "      <td>0.000183</td>\n",
              "      <td>1e-05</td>\n",
              "      <td>{'alpha': 1e-05}</td>\n",
              "      <td>-0.126001</td>\n",
              "      <td>-0.131555</td>\n",
              "      <td>-0.160227</td>\n",
              "      <td>-0.139261</td>\n",
              "      <td>0.014997</td>\n",
              "      <td>11</td>\n",
              "      <td>-0.037678</td>\n",
              "      <td>-0.058717</td>\n",
              "      <td>-0.076131</td>\n",
              "      <td>-0.057509</td>\n",
              "      <td>0.015722</td>\n",
              "    </tr>\n",
              "    <tr>\n",
              "      <th>1</th>\n",
              "      <td>0.002719</td>\n",
              "      <td>0.000110</td>\n",
              "      <td>0.001235</td>\n",
              "      <td>0.000057</td>\n",
              "      <td>0.0001</td>\n",
              "      <td>{'alpha': 0.0001}</td>\n",
              "      <td>-0.125993</td>\n",
              "      <td>-0.131550</td>\n",
              "      <td>-0.160224</td>\n",
              "      <td>-0.139256</td>\n",
              "      <td>0.014999</td>\n",
              "      <td>10</td>\n",
              "      <td>-0.037678</td>\n",
              "      <td>-0.058717</td>\n",
              "      <td>-0.076131</td>\n",
              "      <td>-0.057509</td>\n",
              "      <td>0.015722</td>\n",
              "    </tr>\n",
              "    <tr>\n",
              "      <th>2</th>\n",
              "      <td>0.002719</td>\n",
              "      <td>0.000011</td>\n",
              "      <td>0.001120</td>\n",
              "      <td>0.000036</td>\n",
              "      <td>0.001</td>\n",
              "      <td>{'alpha': 0.001}</td>\n",
              "      <td>-0.125906</td>\n",
              "      <td>-0.131496</td>\n",
              "      <td>-0.160192</td>\n",
              "      <td>-0.139198</td>\n",
              "      <td>0.015019</td>\n",
              "      <td>9</td>\n",
              "      <td>-0.037678</td>\n",
              "      <td>-0.058717</td>\n",
              "      <td>-0.076131</td>\n",
              "      <td>-0.057509</td>\n",
              "      <td>0.015722</td>\n",
              "    </tr>\n",
              "    <tr>\n",
              "      <th>3</th>\n",
              "      <td>0.003389</td>\n",
              "      <td>0.001004</td>\n",
              "      <td>0.001409</td>\n",
              "      <td>0.000426</td>\n",
              "      <td>0.01</td>\n",
              "      <td>{'alpha': 0.01}</td>\n",
              "      <td>-0.125043</td>\n",
              "      <td>-0.130953</td>\n",
              "      <td>-0.159870</td>\n",
              "      <td>-0.138622</td>\n",
              "      <td>0.015217</td>\n",
              "      <td>8</td>\n",
              "      <td>-0.037680</td>\n",
              "      <td>-0.058719</td>\n",
              "      <td>-0.076133</td>\n",
              "      <td>-0.057511</td>\n",
              "      <td>0.015722</td>\n",
              "    </tr>\n",
              "    <tr>\n",
              "      <th>4</th>\n",
              "      <td>0.002812</td>\n",
              "      <td>0.000064</td>\n",
              "      <td>0.001045</td>\n",
              "      <td>0.000014</td>\n",
              "      <td>0.1</td>\n",
              "      <td>{'alpha': 0.1}</td>\n",
              "      <td>-0.116724</td>\n",
              "      <td>-0.125684</td>\n",
              "      <td>-0.156895</td>\n",
              "      <td>-0.133101</td>\n",
              "      <td>0.017218</td>\n",
              "      <td>7</td>\n",
              "      <td>-0.037908</td>\n",
              "      <td>-0.058905</td>\n",
              "      <td>-0.076323</td>\n",
              "      <td>-0.057712</td>\n",
              "      <td>0.015706</td>\n",
              "    </tr>\n",
              "  </tbody>\n",
              "</table>\n",
              "</div>"
            ],
            "text/plain": [
              "   mean_fit_time  std_fit_time  ...  mean_train_score  std_train_score\n",
              "0       0.003724      0.000870  ...         -0.057509         0.015722\n",
              "1       0.002719      0.000110  ...         -0.057509         0.015722\n",
              "2       0.002719      0.000011  ...         -0.057509         0.015722\n",
              "3       0.003389      0.001004  ...         -0.057511         0.015722\n",
              "4       0.002812      0.000064  ...         -0.057712         0.015706\n",
              "\n",
              "[5 rows x 17 columns]"
            ]
          },
          "metadata": {
            "tags": []
          },
          "execution_count": 22
        }
      ]
    },
    {
      "cell_type": "code",
      "metadata": {
        "id": "o5Z10QGOAA65",
        "colab_type": "code",
        "colab": {
          "base_uri": "https://localhost:8080/",
          "height": 728
        },
        "outputId": "3809dce9-3a27-428b-fe92-d4c7c3258f63"
      },
      "source": [
        "plt.plot(np.log10(param_alpha1.astype(float)), np.abs(train_score1), label = 'Train')\n",
        "plt.plot(np.log10(param_alpha1.astype(float)), np.abs(cv_score1), label = 'Validation')\n",
        "plt.xlabel('Log Alpha')\n",
        "plt.ylabel('MSE')\n",
        "plt.legend()\n",
        "plt.show()"
      ],
      "execution_count": 23,
      "outputs": [
        {
          "output_type": "display_data",
          "data": {
            "image/png": "[encoded data removed]",
            "text/plain": [
              "<Figure size 1080x840 with 1 Axes>"
            ]
          },
          "metadata": {
            "tags": [],
            "needs_background": "light"
          }
        }
      ]
    },
    {
      "cell_type": "code",
      "metadata": {
        "id": "9Q9xgeR2AESb",
        "colab_type": "code",
        "colab": {
          "base_uri": "https://localhost:8080/",
          "height": 34
        },
        "outputId": "95509282-2b98-48bb-9cc3-1c3553a14fa5"
      },
      "source": [
        "lasso_regression = Lasso(alpha = 0.1)\n",
        "lasso_regression.fit(X_train, np.log1p(y_train))\n",
        "\n",
        "y_train_pred2 = lasso_regression.predict(X_train)  \n",
        "\n",
        "mse2 = sklearn.metrics.mean_squared_error(y_train, y_train_pred2)\n",
        "rmse2 = math.sqrt(mse2)\n",
        "print(rmse2)"
      ],
      "execution_count": 24,
      "outputs": [
        {
          "output_type": "stream",
          "text": [
            "3674.655791460552\n"
          ],
          "name": "stdout"
        }
      ]
    },
    {
      "cell_type": "code",
      "metadata": {
        "id": "Jj9N7zmkEkWw",
        "colab_type": "code",
        "colab": {
          "base_uri": "https://localhost:8080/",
          "height": 34
        },
        "outputId": "27837030-f89b-4859-e9a5-59809d768674"
      },
      "source": [
        "y_test_pred3 = lasso_regression.predict(X_test)  \n",
        "\n",
        "mse3 = sklearn.metrics.mean_squared_error(y_test, y_test_pred3)\n",
        "rmse3 = math.sqrt(mse3)\n",
        "print(rmse3)"
      ],
      "execution_count": 25,
      "outputs": [
        {
          "output_type": "stream",
          "text": [
            "3714.9957792705923\n"
          ],
          "name": "stdout"
        }
      ]
    },
    {
      "cell_type": "markdown",
      "metadata": {
        "id": "q-2PEFbMAmAY",
        "colab_type": "text"
      },
      "source": [
        "# 7 Linear SVR"
      ]
    },
    {
      "cell_type": "code",
      "metadata": {
        "id": "PtXNBSCGApZb",
        "colab_type": "code",
        "colab": {
          "base_uri": "https://localhost:8080/",
          "height": 70
        },
        "outputId": "d1fec6f4-3e73-4ac9-a2fc-ab81f9590eff"
      },
      "source": [
        "svr_regression = LinearSVR()\n",
        "parameters3 = {'C':[10**-4, 10**-3, 10**-2, 0.1, 1, 10, 10**2, 10**3, 10**4]}\n",
        "tscv = TimeSeriesSplit(n_splits=3)\n",
        "clf3 = GridSearchCV(svr_regression, parameters3, cv=tscv, scoring='neg_mean_squared_error', verbose = 2, return_train_score=True, n_jobs = -1)\n",
        "clf3.fit(X_train, np.log1p(y_train))\n",
        "\n",
        "results3 = pd.DataFrame.from_dict(clf3.cv_results_)"
      ],
      "execution_count": 26,
      "outputs": [
        {
          "output_type": "stream",
          "text": [
            "Fitting 3 folds for each of 9 candidates, totalling 27 fits\n"
          ],
          "name": "stdout"
        },
        {
          "output_type": "stream",
          "text": [
            "[Parallel(n_jobs=-1)]: Using backend LokyBackend with 2 concurrent workers.\n",
            "[Parallel(n_jobs=-1)]: Done  27 out of  27 | elapsed:    0.1s finished\n"
          ],
          "name": "stderr"
        }
      ]
    },
    {
      "cell_type": "code",
      "metadata": {
        "id": "p1uPYr-ABnnL",
        "colab_type": "code",
        "colab": {
          "base_uri": "https://localhost:8080/",
          "height": 301
        },
        "outputId": "24e35809-b905-4966-cf90-9649f12f45cd"
      },
      "source": [
        "train_score_std3= results3['std_train_score']\n",
        "cv_score3 = results3['mean_test_score'] \n",
        "cv_score_std3= results3['std_test_score']\n",
        "param_C3 = results3['param_C']\n",
        "results.head(5)"
      ],
      "execution_count": 27,
      "outputs": [
        {
          "output_type": "execute_result",
          "data": {
            "text/html": [
              "<div>\n",
              "<style scoped>\n",
              "    .dataframe tbody tr th:only-of-type {\n",
              "        vertical-align: middle;\n",
              "    }\n",
              "\n",
              "    .dataframe tbody tr th {\n",
              "        vertical-align: top;\n",
              "    }\n",
              "\n",
              "    .dataframe thead th {\n",
              "        text-align: right;\n",
              "    }\n",
              "</style>\n",
              "<table border=\"1\" class=\"dataframe\">\n",
              "  <thead>\n",
              "    <tr style=\"text-align: right;\">\n",
              "      <th></th>\n",
              "      <th>mean_fit_time</th>\n",
              "      <th>std_fit_time</th>\n",
              "      <th>mean_score_time</th>\n",
              "      <th>std_score_time</th>\n",
              "      <th>param_alpha</th>\n",
              "      <th>params</th>\n",
              "      <th>split0_test_score</th>\n",
              "      <th>split1_test_score</th>\n",
              "      <th>split2_test_score</th>\n",
              "      <th>mean_test_score</th>\n",
              "      <th>std_test_score</th>\n",
              "      <th>rank_test_score</th>\n",
              "      <th>split0_train_score</th>\n",
              "      <th>split1_train_score</th>\n",
              "      <th>split2_train_score</th>\n",
              "      <th>mean_train_score</th>\n",
              "      <th>std_train_score</th>\n",
              "    </tr>\n",
              "  </thead>\n",
              "  <tbody>\n",
              "    <tr>\n",
              "      <th>0</th>\n",
              "      <td>0.010203</td>\n",
              "      <td>0.009192</td>\n",
              "      <td>0.001178</td>\n",
              "      <td>0.000131</td>\n",
              "      <td>1e-05</td>\n",
              "      <td>{'alpha': 1e-05}</td>\n",
              "      <td>-0.126002</td>\n",
              "      <td>-0.131556</td>\n",
              "      <td>-0.160228</td>\n",
              "      <td>-0.139262</td>\n",
              "      <td>0.014997</td>\n",
              "      <td>11</td>\n",
              "      <td>-0.037678</td>\n",
              "      <td>-0.058717</td>\n",
              "      <td>-0.076131</td>\n",
              "      <td>-0.057509</td>\n",
              "      <td>0.015722</td>\n",
              "    </tr>\n",
              "    <tr>\n",
              "      <th>1</th>\n",
              "      <td>0.002775</td>\n",
              "      <td>0.000105</td>\n",
              "      <td>0.001347</td>\n",
              "      <td>0.000394</td>\n",
              "      <td>0.0001</td>\n",
              "      <td>{'alpha': 0.0001}</td>\n",
              "      <td>-0.126002</td>\n",
              "      <td>-0.131556</td>\n",
              "      <td>-0.160228</td>\n",
              "      <td>-0.139262</td>\n",
              "      <td>0.014997</td>\n",
              "      <td>10</td>\n",
              "      <td>-0.037678</td>\n",
              "      <td>-0.058717</td>\n",
              "      <td>-0.076131</td>\n",
              "      <td>-0.057509</td>\n",
              "      <td>0.015722</td>\n",
              "    </tr>\n",
              "    <tr>\n",
              "      <th>2</th>\n",
              "      <td>0.002679</td>\n",
              "      <td>0.000092</td>\n",
              "      <td>0.001101</td>\n",
              "      <td>0.000030</td>\n",
              "      <td>0.001</td>\n",
              "      <td>{'alpha': 0.001}</td>\n",
              "      <td>-0.126002</td>\n",
              "      <td>-0.131556</td>\n",
              "      <td>-0.160228</td>\n",
              "      <td>-0.139262</td>\n",
              "      <td>0.014997</td>\n",
              "      <td>9</td>\n",
              "      <td>-0.037678</td>\n",
              "      <td>-0.058717</td>\n",
              "      <td>-0.076131</td>\n",
              "      <td>-0.057509</td>\n",
              "      <td>0.015722</td>\n",
              "    </tr>\n",
              "    <tr>\n",
              "      <th>3</th>\n",
              "      <td>0.002949</td>\n",
              "      <td>0.000385</td>\n",
              "      <td>0.001049</td>\n",
              "      <td>0.000015</td>\n",
              "      <td>0.01</td>\n",
              "      <td>{'alpha': 0.01}</td>\n",
              "      <td>-0.126001</td>\n",
              "      <td>-0.131556</td>\n",
              "      <td>-0.160228</td>\n",
              "      <td>-0.139261</td>\n",
              "      <td>0.014998</td>\n",
              "      <td>8</td>\n",
              "      <td>-0.037678</td>\n",
              "      <td>-0.058717</td>\n",
              "      <td>-0.076131</td>\n",
              "      <td>-0.057509</td>\n",
              "      <td>0.015722</td>\n",
              "    </tr>\n",
              "    <tr>\n",
              "      <th>4</th>\n",
              "      <td>0.005314</td>\n",
              "      <td>0.003137</td>\n",
              "      <td>0.001398</td>\n",
              "      <td>0.000379</td>\n",
              "      <td>0.1</td>\n",
              "      <td>{'alpha': 0.1}</td>\n",
              "      <td>-0.125987</td>\n",
              "      <td>-0.131555</td>\n",
              "      <td>-0.160227</td>\n",
              "      <td>-0.139256</td>\n",
              "      <td>0.015002</td>\n",
              "      <td>7</td>\n",
              "      <td>-0.037678</td>\n",
              "      <td>-0.058717</td>\n",
              "      <td>-0.076131</td>\n",
              "      <td>-0.057509</td>\n",
              "      <td>0.015722</td>\n",
              "    </tr>\n",
              "  </tbody>\n",
              "</table>\n",
              "</div>"
            ],
            "text/plain": [
              "   mean_fit_time  std_fit_time  ...  mean_train_score  std_train_score\n",
              "0       0.010203      0.009192  ...         -0.057509         0.015722\n",
              "1       0.002775      0.000105  ...         -0.057509         0.015722\n",
              "2       0.002679      0.000092  ...         -0.057509         0.015722\n",
              "3       0.002949      0.000385  ...         -0.057509         0.015722\n",
              "4       0.005314      0.003137  ...         -0.057509         0.015722\n",
              "\n",
              "[5 rows x 17 columns]"
            ]
          },
          "metadata": {
            "tags": []
          },
          "execution_count": 27
        }
      ]
    },
    {
      "cell_type": "code",
      "metadata": {
        "id": "6Qovyst0BwsE",
        "colab_type": "code",
        "colab": {
          "base_uri": "https://localhost:8080/",
          "height": 728
        },
        "outputId": "7c5b4e54-dfdd-40ac-ac45-514079052841"
      },
      "source": [
        "plt.plot(np.log10(param_C3.astype(float)), np.abs(train_score_std3), label = 'Train')\n",
        "plt.plot(np.log10(param_C3.astype(float)), np.abs(cv_score_std3), label = 'Validation')\n",
        "plt.xlabel('Log C')\n",
        "plt.ylabel('MSE')\n",
        "plt.legend()\n",
        "plt.show()"
      ],
      "execution_count": 28,
      "outputs": [
        {
          "output_type": "display_data",
          "data": {
            "image/png": "[encoded data removed]",
            "text/plain": [
              "<Figure size 1080x840 with 1 Axes>"
            ]
          },
          "metadata": {
            "tags": [],
            "needs_background": "light"
          }
        }
      ]
    },
    {
      "cell_type": "code",
      "metadata": {
        "id": "4Epw-E-iCS9M",
        "colab_type": "code",
        "colab": {
          "base_uri": "https://localhost:8080/",
          "height": 34
        },
        "outputId": "e56777a8-feea-4396-cf64-0e37d1df78d8"
      },
      "source": [
        "svr_regression = LinearSVR(C = 0.01)\n",
        "svr_regression.fit(X_train, np.log1p(y_train))\n",
        "\n",
        "y_train_pred4 = svr_regression.predict(X_train) \n",
        "\n",
        "mse4 = sklearn.metrics.mean_squared_error(y_train, y_train_pred4)\n",
        "rmse4 = math.sqrt(mse4)\n",
        "print(rmse4)"
      ],
      "execution_count": 29,
      "outputs": [
        {
          "output_type": "stream",
          "text": [
            "3674.790353221843\n"
          ],
          "name": "stdout"
        }
      ]
    },
    {
      "cell_type": "code",
      "metadata": {
        "id": "FzcZHA7pFIeQ",
        "colab_type": "code",
        "colab": {
          "base_uri": "https://localhost:8080/",
          "height": 34
        },
        "outputId": "f5133ab3-a990-4744-ce67-07520a325b75"
      },
      "source": [
        "y_test_pred5 = svr_regression.predict(X_test) \n",
        "\n",
        "mse5 = sklearn.metrics.mean_squared_error(y_test, y_test_pred5)\n",
        "rmse5 = math.sqrt(mse5)\n",
        "print(rmse5)"
      ],
      "execution_count": 30,
      "outputs": [
        {
          "output_type": "stream",
          "text": [
            "3715.3678862080765\n"
          ],
          "name": "stdout"
        }
      ]
    },
    {
      "cell_type": "markdown",
      "metadata": {
        "id": "F3yFwEDfNeV1",
        "colab_type": "text"
      },
      "source": [
        "# 9. Random forest regressor"
      ]
    },
    {
      "cell_type": "code",
      "metadata": {
        "id": "jXvwT2QMNFTw",
        "colab_type": "code",
        "colab": {
          "base_uri": "https://localhost:8080/",
          "height": 34
        },
        "outputId": "8aedb56d-c2d5-4ee7-d55d-ce586bee5981"
      },
      "source": [
        "from sklearn.ensemble import RandomForestRegressor\n",
        "RForest = RandomForestRegressor()\n",
        "RForest.fit(X_train,y_train)\n",
        "print(RForest.score(X_train,y_train))  "
      ],
      "execution_count": 31,
      "outputs": [
        {
          "output_type": "stream",
          "text": [
            "0.8466287830246932\n"
          ],
          "name": "stdout"
        }
      ]
    },
    {
      "cell_type": "code",
      "metadata": {
        "id": "5S06kgvWC_tW",
        "colab_type": "code",
        "colab": {
          "base_uri": "https://localhost:8080/",
          "height": 34
        },
        "outputId": "9f77b90e-e2ee-42ed-c408-f27f59ac4810"
      },
      "source": [
        "y_train_pred6 = RForest.predict(X_train) \n",
        "\n",
        "mse6 = sklearn.metrics.mean_squared_error(y_train, y_train_pred6)\n",
        "rmse6 = math.sqrt(mse6)\n",
        "print(rmse6)"
      ],
      "execution_count": 32,
      "outputs": [
        {
          "output_type": "stream",
          "text": [
            "477.5751611863828\n"
          ],
          "name": "stdout"
        }
      ]
    },
    {
      "cell_type": "code",
      "metadata": {
        "id": "3GNQUspCFfDx",
        "colab_type": "code",
        "colab": {
          "base_uri": "https://localhost:8080/",
          "height": 34
        },
        "outputId": "2753e1e4-9ee0-4433-e81b-0203758e7049"
      },
      "source": [
        "y_test_pred7 = RForest.predict(X_test) \n",
        "\n",
        "mse7 = sklearn.metrics.mean_squared_error(y_test, y_test_pred7)\n",
        "rmse7 = math.sqrt(mse7)\n",
        "print(rmse7)"
      ],
      "execution_count": 33,
      "outputs": [
        {
          "output_type": "stream",
          "text": [
            "1512.2123561924434\n"
          ],
          "name": "stdout"
        }
      ]
    },
    {
      "cell_type": "markdown",
      "metadata": {
        "id": "rWFxMoHtMyj_",
        "colab_type": "text"
      },
      "source": [
        "# XGBoost regressor"
      ]
    },
    {
      "cell_type": "code",
      "metadata": {
        "id": "NH_5dN_AM1XV",
        "colab_type": "code",
        "colab": {
          "base_uri": "https://localhost:8080/",
          "height": 905
        },
        "outputId": "7b64fc35-705f-4398-b70e-b6cd287054e5"
      },
      "source": [
        "#from sklearn.preprocessing import StandardScaler\n",
        "from sklearn.preprocessing import MinMaxScaler\n",
        "scaler = MinMaxScaler(feature_range = (0,1))\n",
        "# prepare the model XGB\n",
        "X_train_scaled = scaler.fit_transform(X_train)\n",
        "print(X_train_scaled)"
      ],
      "execution_count": 34,
      "outputs": [
        {
          "output_type": "stream",
          "text": [
            "[[0.35305286 0.37733241]\n",
            " [0.80333766 0.45784381]\n",
            " [0.79974018 0.24809952]\n",
            " [0.32367343 0.27470629]\n",
            " [0.69191566 0.21700069]\n",
            " [0.71130209 0.29993089]\n",
            " [0.55131408 0.03559088]\n",
            " [0.34315979 0.34416033]\n",
            " [0.47107025 0.80753283]\n",
            " [1.         0.45784381]\n",
            " [0.7891476  0.77021424]\n",
            " [0.07105026 0.88597097]\n",
            " [0.30368742 0.38666206]\n",
            " [0.60427701 0.329302  ]\n",
            " [0.79364445 0.62646856]\n",
            " [0.7465774  0.16862474]\n",
            " [0.29089637 0.29232896]\n",
            " [0.44169082 0.17760885]\n",
            " [0.60347757 0.35107118]\n",
            " [0.64744679 0.95404285]\n",
            " [0.87938443 0.7097443 ]\n",
            " [0.59298491 0.77297858]\n",
            " [0.9311482  0.09502419]\n",
            " [0.53502548 0.68970283]\n",
            " [0.67912461 0.22840359]\n",
            " [0.57776382 0.57532827]\n",
            " [0.48316179 0.69246717]\n",
            " [0.5284301  0.63545266]\n",
            " [0.49795143 0.41879751]\n",
            " [0.57776382 0.45212666]\n",
            " [0.53372639 0.        ]\n",
            " [0.60267813 0.71112647]\n",
            " [0.80663536 0.68901175]\n",
            " [0.51244129 0.72494817]\n",
            " [0.90786449 0.60573601]\n",
            " [0.50364745 0.24257084]\n",
            " [0.6591386  0.55839668]\n",
            " [0.73218747 0.08914997]\n",
            " [0.71350055 0.4398756 ]\n",
            " [0.39612271 0.41361437]\n",
            " [0.66053762 0.02971666]\n",
            " [0.69611272 0.06772633]\n",
            " [0.83641451 0.02833449]\n",
            " [0.56230639 0.60089841]\n",
            " [0.19796143 0.30269523]\n",
            " [0.56820226 0.67588113]\n",
            " [0.29169581 0.70248791]\n",
            " [0.77675627 0.64270905]\n",
            " [0.         1.        ]\n",
            " [0.90706505 0.12888735]]\n"
          ],
          "name": "stdout"
        }
      ]
    },
    {
      "cell_type": "code",
      "metadata": {
        "id": "X6I05JElM88B",
        "colab_type": "code",
        "colab": {
          "base_uri": "https://localhost:8080/",
          "height": 141
        },
        "outputId": "b8ac0cfb-bc08-4d3e-a589-8e5e97fbe050"
      },
      "source": [
        "xg_reg = xgb.XGBRegressor(objective ='reg:squarederror', colsample_bytree = 0.3, learning_rate = 0.1,\n",
        "max_depth = 5, alpha = 10, n_estimators = 100)\n",
        "xg_reg.fit(X_train_scaled, y_train)"
      ],
      "execution_count": 35,
      "outputs": [
        {
          "output_type": "execute_result",
          "data": {
            "text/plain": [
              "XGBRegressor(alpha=10, base_score=0.5, booster='gbtree', colsample_bylevel=1,\n",
              "             colsample_bynode=1, colsample_bytree=0.3, gamma=0,\n",
              "             importance_type='gain', learning_rate=0.1, max_delta_step=0,\n",
              "             max_depth=5, min_child_weight=1, missing=None, n_estimators=100,\n",
              "             n_jobs=1, nthread=None, objective='reg:squarederror',\n",
              "             random_state=0, reg_alpha=0, reg_lambda=1, scale_pos_weight=1,\n",
              "             seed=None, silent=None, subsample=1, verbosity=1)"
            ]
          },
          "metadata": {
            "tags": []
          },
          "execution_count": 35
        }
      ]
    },
    {
      "cell_type": "code",
      "metadata": {
        "id": "NT_yd5T1NJKD",
        "colab_type": "code",
        "colab": {
          "base_uri": "https://localhost:8080/",
          "height": 34
        },
        "outputId": "c714c4fe-c1ea-48af-fe31-f14d2851b37c"
      },
      "source": [
        "train_pred=xg_reg.predict(X_train_scaled)\n",
        "rmseXG=np.sqrt(mean_squared_error(y_train,train_pred))\n",
        "print(\"RMSE_train_XG:%f\" % (rmseXG))"
      ],
      "execution_count": 36,
      "outputs": [
        {
          "output_type": "stream",
          "text": [
            "RMSE_train_XG:83.630602\n"
          ],
          "name": "stdout"
        }
      ]
    },
    {
      "cell_type": "code",
      "metadata": {
        "id": "WV_MMChiN6ES",
        "colab_type": "code",
        "colab": {
          "base_uri": "https://localhost:8080/",
          "height": 34
        },
        "outputId": "f7eca211-dffb-4aa4-d169-576a7f71e271"
      },
      "source": [
        "X_test_scaled =scaler.transform(X_test)\n",
        "test_pred = xg_reg.predict(X_test_scaled)\n",
        "rmsetestXG=np.sqrt(mean_squared_error(y_test,test_pred))\n",
        "print(\"RMSE_train_XG:%f\" % (rmsetestXG))"
      ],
      "execution_count": 37,
      "outputs": [
        {
          "output_type": "stream",
          "text": [
            "RMSE_train_XG:1768.581115\n"
          ],
          "name": "stdout"
        }
      ]
    },
    {
      "cell_type": "code",
      "metadata": {
        "id": "xY5rjomlBPkJ",
        "colab_type": "code",
        "colab": {}
      },
      "source": [
        ""
      ],
      "execution_count": 37,
      "outputs": []
    }
  ]
}