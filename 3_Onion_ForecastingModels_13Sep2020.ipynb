{
  "nbformat": 4,
  "nbformat_minor": 0,
  "metadata": {
    "colab": {
      "name": "3.Onion_ForecastingModels_13Sep2020.ipynb",
      "provenance": [],
      "collapsed_sections": [],
      "toc_visible": true
    },
    "kernelspec": {
      "name": "python3",
      "display_name": "Python 3"
    },
    "accelerator": "GPU"
  },
  "cells": [
    {
      "cell_type": "code",
      "metadata": {
        "id": "A228EnGckVr4",
        "colab_type": "code",
        "colab": {
          "base_uri": "https://localhost:8080/",
          "height": 34
        },
        "outputId": "f30187ba-0b00-4e72-d9c2-e2513f209170"
      },
      "source": [
        "import plotly.express as px \n",
        "import pandas as pd \n",
        "import numpy as np \n",
        "from dateutil.parser import parse \n",
        "import matplotlib as mpl\n",
        "import matplotlib.pyplot as plt\n",
        "import seaborn as sns\n",
        "import datetime\n",
        "import warnings\n",
        "warnings.filterwarnings('ignore')\n",
        "import datetime\n",
        "import seaborn as sns\n",
        "from sklearn import metrics\n",
        "from sklearn.metrics import mean_squared_error\n",
        "import matplotlib.pyplot as plt\n",
        "import matplotlib\n",
        "import warnings\n",
        "warnings.filterwarnings(\"ignore\") # Don't want to see the warnings in the notebook\n",
        "from sklearn import svm\n",
        "\n",
        "import os\n",
        "import datetime\n",
        "\n",
        "import IPython\n",
        "import IPython.display\n",
        "import matplotlib as mpl\n",
        "import matplotlib.pyplot as plt\n",
        "import numpy as np\n",
        "import pandas as pd\n",
        "import seaborn as sns\n",
        "import tensorflow as tf\n",
        "\n",
        "mpl.rcParams['figure.figsize'] = (8, 6)\n",
        "mpl.rcParams['axes.grid'] = False\n",
        "\n",
        "from __future__ import absolute_import,division,print_function,unicode_literals\n",
        "\n",
        "import seaborn as sns\n",
        "import matplotlib as mpl\n",
        "import matplotlib.pyplot as plt\n",
        "import numpy as np\n",
        "import os\n",
        "from datetime import datetime\n",
        "\n",
        "import pandas as pd\n",
        "\n",
        "\n",
        "mpl.rcParams['figure.figsize'] = (8,6)\n",
        "mpl.rcParams['axes.grid'] = False\n",
        "\n",
        "import cufflinks as cf\n",
        "cf.go_offline()\n",
        "cf.set_config_file(offline=False, world_readable=True)\n",
        "\n",
        "from statsmodels.tsa import stattools\n",
        "from statsmodels.tsa import seasonal\n",
        "\n",
        "from statsmodels.graphics.tsaplots import plot_acf, plot_pacf\n",
        "import matplotlib.pyplot as plt\n",
        "plt.rcParams.update({'figure.figsize':(9,7), 'figure.dpi':120})\n",
        "\n",
        "from sklearn.preprocessing import StandardScaler\n",
        "from sklearn import preprocessing\n",
        "\n",
        "print(\"Import Succesfull\")"
      ],
      "execution_count": null,
      "outputs": [
        {
          "output_type": "display_data",
          "data": {
            "text/html": [
              "        <script type=\"text/javascript\">\n",
              "        window.PlotlyConfig = {MathJaxConfig: 'local'};\n",
              "        if (window.MathJax) {MathJax.Hub.Config({SVG: {font: \"STIX-Web\"}});}\n",
              "        if (typeof require !== 'undefined') {\n",
              "        require.undef(\"plotly\");\n",
              "        requirejs.config({\n",
              "            paths: {\n",
              "                'plotly': ['https://cdn.plot.ly/plotly-latest.min']\n",
              "            }\n",
              "        });\n",
              "        require(['plotly'], function(Plotly) {\n",
              "            window._Plotly = Plotly;\n",
              "        });\n",
              "        }\n",
              "        </script>\n",
              "        "
            ]
          },
          "metadata": {
            "tags": []
          }
        },
        {
          "output_type": "stream",
          "text": [
            "Import Succesfull\n"
          ],
          "name": "stdout"
        }
      ]
    },
    {
      "cell_type": "code",
      "metadata": {
        "id": "YwqhVic3xW2G",
        "colab_type": "code",
        "colab": {
          "base_uri": "https://localhost:8080/",
          "height": 285
        },
        "outputId": "48760331-31ee-484c-81a2-4d5416a53ba0"
      },
      "source": [
        "pip install pmdarima"
      ],
      "execution_count": null,
      "outputs": [
        {
          "output_type": "stream",
          "text": [
            "Requirement already satisfied: pmdarima in /usr/local/lib/python3.6/dist-packages (1.7.1)\n",
            "Requirement already satisfied: pandas>=0.19 in /usr/local/lib/python3.6/dist-packages (from pmdarima) (1.0.5)\n",
            "Requirement already satisfied: setuptools<50.0.0 in /usr/local/lib/python3.6/dist-packages (from pmdarima) (49.6.0)\n",
            "Requirement already satisfied: scipy>=1.3.2 in /usr/local/lib/python3.6/dist-packages (from pmdarima) (1.4.1)\n",
            "Requirement already satisfied: scikit-learn>=0.22 in /usr/local/lib/python3.6/dist-packages (from pmdarima) (0.22.2.post1)\n",
            "Requirement already satisfied: joblib>=0.11 in /usr/local/lib/python3.6/dist-packages (from pmdarima) (0.16.0)\n",
            "Requirement already satisfied: statsmodels<0.12,>=0.11 in /usr/local/lib/python3.6/dist-packages (from pmdarima) (0.11.1)\n",
            "Requirement already satisfied: numpy>=1.17.3 in /usr/local/lib/python3.6/dist-packages (from pmdarima) (1.18.5)\n",
            "Requirement already satisfied: Cython<0.29.18,>=0.29 in /usr/local/lib/python3.6/dist-packages (from pmdarima) (0.29.17)\n",
            "Requirement already satisfied: urllib3 in /usr/local/lib/python3.6/dist-packages (from pmdarima) (1.24.3)\n",
            "Requirement already satisfied: python-dateutil>=2.6.1 in /usr/local/lib/python3.6/dist-packages (from pandas>=0.19->pmdarima) (2.8.1)\n",
            "Requirement already satisfied: pytz>=2017.2 in /usr/local/lib/python3.6/dist-packages (from pandas>=0.19->pmdarima) (2018.9)\n",
            "Requirement already satisfied: patsy>=0.5 in /usr/local/lib/python3.6/dist-packages (from statsmodels<0.12,>=0.11->pmdarima) (0.5.1)\n",
            "Requirement already satisfied: six>=1.5 in /usr/local/lib/python3.6/dist-packages (from python-dateutil>=2.6.1->pandas>=0.19->pmdarima) (1.15.0)\n"
          ],
          "name": "stdout"
        }
      ]
    },
    {
      "cell_type": "code",
      "metadata": {
        "id": "e5uGHBaFkws4",
        "colab_type": "code",
        "colab": {}
      },
      "source": [
        "# Get some data\n",
        "df = pd.read_excel(\"/content/drive/My Drive/Capstone_Commodity_SureshaHP/Onion/Onion_24Aug.xlsx\")"
      ],
      "execution_count": null,
      "outputs": []
    },
    {
      "cell_type": "code",
      "metadata": {
        "id": "dSWbvPzLlSLG",
        "colab_type": "code",
        "colab": {
          "base_uri": "https://localhost:8080/",
          "height": 197
        },
        "outputId": "89c8b38c-82ce-46c8-9287-caff4505587b"
      },
      "source": [
        "df.head()"
      ],
      "execution_count": null,
      "outputs": [
        {
          "output_type": "execute_result",
          "data": {
            "text/html": [
              "<div>\n",
              "<style scoped>\n",
              "    .dataframe tbody tr th:only-of-type {\n",
              "        vertical-align: middle;\n",
              "    }\n",
              "\n",
              "    .dataframe tbody tr th {\n",
              "        vertical-align: top;\n",
              "    }\n",
              "\n",
              "    .dataframe thead th {\n",
              "        text-align: right;\n",
              "    }\n",
              "</style>\n",
              "<table border=\"1\" class=\"dataframe\">\n",
              "  <thead>\n",
              "    <tr style=\"text-align: right;\">\n",
              "      <th></th>\n",
              "      <th>Date</th>\n",
              "      <th>Bengaluru_RetailPrice</th>\n",
              "      <th>Bengaluru_Volume</th>\n",
              "      <th>DieselPrice</th>\n",
              "    </tr>\n",
              "  </thead>\n",
              "  <tbody>\n",
              "    <tr>\n",
              "      <th>0</th>\n",
              "      <td>2015-01-01</td>\n",
              "      <td>2791.0</td>\n",
              "      <td>74978.0</td>\n",
              "      <td>53.74</td>\n",
              "    </tr>\n",
              "    <tr>\n",
              "      <th>1</th>\n",
              "      <td>2015-02-01</td>\n",
              "      <td>2750.0</td>\n",
              "      <td>42164.0</td>\n",
              "      <td>51.96</td>\n",
              "    </tr>\n",
              "    <tr>\n",
              "      <th>2</th>\n",
              "      <td>2015-03-01</td>\n",
              "      <td>2396.0</td>\n",
              "      <td>41339.0</td>\n",
              "      <td>55.41</td>\n",
              "    </tr>\n",
              "    <tr>\n",
              "      <th>3</th>\n",
              "      <td>2015-04-01</td>\n",
              "      <td>2260.0</td>\n",
              "      <td>43534.0</td>\n",
              "      <td>52.56</td>\n",
              "    </tr>\n",
              "    <tr>\n",
              "      <th>4</th>\n",
              "      <td>2015-05-01</td>\n",
              "      <td>2458.0</td>\n",
              "      <td>44227.0</td>\n",
              "      <td>58.19</td>\n",
              "    </tr>\n",
              "  </tbody>\n",
              "</table>\n",
              "</div>"
            ],
            "text/plain": [
              "        Date  Bengaluru_RetailPrice  Bengaluru_Volume  DieselPrice\n",
              "0 2015-01-01                 2791.0           74978.0        53.74\n",
              "1 2015-02-01                 2750.0           42164.0        51.96\n",
              "2 2015-03-01                 2396.0           41339.0        55.41\n",
              "3 2015-04-01                 2260.0           43534.0        52.56\n",
              "4 2015-05-01                 2458.0           44227.0        58.19"
            ]
          },
          "metadata": {
            "tags": []
          },
          "execution_count": 13
        }
      ]
    },
    {
      "cell_type": "code",
      "metadata": {
        "id": "QWtUD0salUY5",
        "colab_type": "code",
        "colab": {
          "base_uri": "https://localhost:8080/",
          "height": 212
        },
        "outputId": "76bf59bc-e131-4c0a-a946-ba91b1dd1803"
      },
      "source": [
        "df.info()"
      ],
      "execution_count": null,
      "outputs": [
        {
          "output_type": "stream",
          "text": [
            "<class 'pandas.core.frame.DataFrame'>\n",
            "RangeIndex: 67 entries, 0 to 66\n",
            "Data columns (total 4 columns):\n",
            " #   Column                 Non-Null Count  Dtype         \n",
            "---  ------                 --------------  -----         \n",
            " 0   Date                   67 non-null     datetime64[ns]\n",
            " 1   Bengaluru_RetailPrice  67 non-null     float64       \n",
            " 2   Bengaluru_Volume       67 non-null     float64       \n",
            " 3   DieselPrice            67 non-null     float64       \n",
            "dtypes: datetime64[ns](1), float64(3)\n",
            "memory usage: 2.2 KB\n"
          ],
          "name": "stdout"
        }
      ]
    },
    {
      "cell_type": "code",
      "metadata": {
        "id": "SD3SGSIIiNg9",
        "colab_type": "code",
        "colab": {
          "base_uri": "https://localhost:8080/",
          "height": 287
        },
        "outputId": "a301e7b4-f7f7-433c-f8a7-742db5f7cc37"
      },
      "source": [
        "df.describe()"
      ],
      "execution_count": null,
      "outputs": [
        {
          "output_type": "execute_result",
          "data": {
            "text/html": [
              "<div>\n",
              "<style scoped>\n",
              "    .dataframe tbody tr th:only-of-type {\n",
              "        vertical-align: middle;\n",
              "    }\n",
              "\n",
              "    .dataframe tbody tr th {\n",
              "        vertical-align: top;\n",
              "    }\n",
              "\n",
              "    .dataframe thead th {\n",
              "        text-align: right;\n",
              "    }\n",
              "</style>\n",
              "<table border=\"1\" class=\"dataframe\">\n",
              "  <thead>\n",
              "    <tr style=\"text-align: right;\">\n",
              "      <th></th>\n",
              "      <th>Bengaluru_RetailPrice</th>\n",
              "      <th>Bengaluru_Volume</th>\n",
              "      <th>DieselPrice</th>\n",
              "    </tr>\n",
              "  </thead>\n",
              "  <tbody>\n",
              "    <tr>\n",
              "      <th>count</th>\n",
              "      <td>67.000000</td>\n",
              "      <td>67.000000</td>\n",
              "      <td>67.000000</td>\n",
              "    </tr>\n",
              "    <tr>\n",
              "      <th>mean</th>\n",
              "      <td>2590.338462</td>\n",
              "      <td>54324.353846</td>\n",
              "      <td>61.314545</td>\n",
              "    </tr>\n",
              "    <tr>\n",
              "      <th>std</th>\n",
              "      <td>1597.341544</td>\n",
              "      <td>30058.007039</td>\n",
              "      <td>7.724340</td>\n",
              "    </tr>\n",
              "    <tr>\n",
              "      <th>min</th>\n",
              "      <td>1035.000000</td>\n",
              "      <td>14927.000000</td>\n",
              "      <td>47.700000</td>\n",
              "    </tr>\n",
              "    <tr>\n",
              "      <th>25%</th>\n",
              "      <td>1549.500000</td>\n",
              "      <td>40406.500000</td>\n",
              "      <td>55.330000</td>\n",
              "    </tr>\n",
              "    <tr>\n",
              "      <th>50%</th>\n",
              "      <td>2105.000000</td>\n",
              "      <td>48714.000000</td>\n",
              "      <td>60.710000</td>\n",
              "    </tr>\n",
              "    <tr>\n",
              "      <th>75%</th>\n",
              "      <td>3048.000000</td>\n",
              "      <td>56683.000000</td>\n",
              "      <td>68.155000</td>\n",
              "    </tr>\n",
              "    <tr>\n",
              "      <th>max</th>\n",
              "      <td>10604.000000</td>\n",
              "      <td>173788.000000</td>\n",
              "      <td>77.170000</td>\n",
              "    </tr>\n",
              "  </tbody>\n",
              "</table>\n",
              "</div>"
            ],
            "text/plain": [
              "       Bengaluru_RetailPrice  Bengaluru_Volume  DieselPrice\n",
              "count              67.000000         67.000000    67.000000\n",
              "mean             2590.338462      54324.353846    61.314545\n",
              "std              1597.341544      30058.007039     7.724340\n",
              "min              1035.000000      14927.000000    47.700000\n",
              "25%              1549.500000      40406.500000    55.330000\n",
              "50%              2105.000000      48714.000000    60.710000\n",
              "75%              3048.000000      56683.000000    68.155000\n",
              "max             10604.000000     173788.000000    77.170000"
            ]
          },
          "metadata": {
            "tags": []
          },
          "execution_count": 15
        }
      ]
    },
    {
      "cell_type": "code",
      "metadata": {
        "id": "Hox67uBHiPT0",
        "colab_type": "code",
        "colab": {
          "base_uri": "https://localhost:8080/",
          "height": 34
        },
        "outputId": "c2bb91ae-c73c-45a1-a346-d25be9f3c197"
      },
      "source": [
        "df.shape"
      ],
      "execution_count": null,
      "outputs": [
        {
          "output_type": "execute_result",
          "data": {
            "text/plain": [
              "(67, 4)"
            ]
          },
          "metadata": {
            "tags": []
          },
          "execution_count": 16
        }
      ]
    },
    {
      "cell_type": "markdown",
      "metadata": {
        "id": "wMq1XeYesFH8",
        "colab_type": "text"
      },
      "source": [
        "#  Prediction Models"
      ]
    },
    {
      "cell_type": "markdown",
      "metadata": {
        "id": "pivScJWFb2iN",
        "colab_type": "text"
      },
      "source": [
        "# 1. Auto ARIMA\n",
        "# ARIMA Autoregressive integrated moving average its a kind of Grid Search start_p = is the Autoregressieve Part, start_d = is the integrated mart \\n, start_i = is the movng avaerage part\n",
        "\n",
        "adf stands for Augmented Dickey-Fuller unit root test. It is used to check whther the data is stationary or not."
      ]
    },
    {
      "cell_type": "code",
      "metadata": {
        "id": "3NkzK-Lalddt",
        "colab_type": "code",
        "colab": {
          "base_uri": "https://localhost:8080/",
          "height": 285
        },
        "outputId": "cbc0fd84-06ed-44ad-980c-66a10f247fdd"
      },
      "source": [
        "pip install pmdarima"
      ],
      "execution_count": null,
      "outputs": [
        {
          "output_type": "stream",
          "text": [
            "Requirement already satisfied: pmdarima in /usr/local/lib/python3.6/dist-packages (1.7.1)\n",
            "Requirement already satisfied: joblib>=0.11 in /usr/local/lib/python3.6/dist-packages (from pmdarima) (0.16.0)\n",
            "Requirement already satisfied: scikit-learn>=0.22 in /usr/local/lib/python3.6/dist-packages (from pmdarima) (0.22.2.post1)\n",
            "Requirement already satisfied: setuptools<50.0.0 in /usr/local/lib/python3.6/dist-packages (from pmdarima) (49.6.0)\n",
            "Requirement already satisfied: pandas>=0.19 in /usr/local/lib/python3.6/dist-packages (from pmdarima) (1.0.5)\n",
            "Requirement already satisfied: statsmodels<0.12,>=0.11 in /usr/local/lib/python3.6/dist-packages (from pmdarima) (0.11.1)\n",
            "Requirement already satisfied: urllib3 in /usr/local/lib/python3.6/dist-packages (from pmdarima) (1.24.3)\n",
            "Requirement already satisfied: Cython<0.29.18,>=0.29 in /usr/local/lib/python3.6/dist-packages (from pmdarima) (0.29.17)\n",
            "Requirement already satisfied: numpy>=1.17.3 in /usr/local/lib/python3.6/dist-packages (from pmdarima) (1.18.5)\n",
            "Requirement already satisfied: scipy>=1.3.2 in /usr/local/lib/python3.6/dist-packages (from pmdarima) (1.4.1)\n",
            "Requirement already satisfied: python-dateutil>=2.6.1 in /usr/local/lib/python3.6/dist-packages (from pandas>=0.19->pmdarima) (2.8.1)\n",
            "Requirement already satisfied: pytz>=2017.2 in /usr/local/lib/python3.6/dist-packages (from pandas>=0.19->pmdarima) (2018.9)\n",
            "Requirement already satisfied: patsy>=0.5 in /usr/local/lib/python3.6/dist-packages (from statsmodels<0.12,>=0.11->pmdarima) (0.5.1)\n",
            "Requirement already satisfied: six>=1.5 in /usr/local/lib/python3.6/dist-packages (from python-dateutil>=2.6.1->pandas>=0.19->pmdarima) (1.15.0)\n"
          ],
          "name": "stdout"
        }
      ]
    },
    {
      "cell_type": "code",
      "metadata": {
        "id": "-aR9a7IimEUV",
        "colab_type": "code",
        "colab": {
          "base_uri": "https://localhost:8080/",
          "height": 336
        },
        "outputId": "a6f751af-9cbf-441f-d85d-7d7ddb0cb427"
      },
      "source": [
        "datetime_series = pd.to_datetime(df['Date'])\n",
        "\n",
        "# create datetime index passing the datetime series\n",
        "datetime_index = pd.DatetimeIndex(datetime_series.values)\n",
        "\n",
        "df2=df.set_index(datetime_index)\n",
        "\n",
        "# we don't need the column anymore\n",
        "df2.drop('Date',axis=1,inplace=True)\n",
        "\n",
        "print(df2.index)"
      ],
      "execution_count": null,
      "outputs": [
        {
          "output_type": "stream",
          "text": [
            "DatetimeIndex(['2015-01-01', '2015-02-01', '2015-03-01', '2015-04-01',\n",
            "               '2015-05-01', '2015-06-01', '2015-07-01', '2015-08-01',\n",
            "               '2015-09-01', '2015-10-01', '2015-11-01', '2015-12-01',\n",
            "               '2016-01-01', '2016-02-01', '2016-03-01', '2016-04-01',\n",
            "               '2016-05-01', '2016-06-01', '2016-07-01', '2016-08-01',\n",
            "               '2016-09-01', '2016-10-01', '2016-11-01', '2016-12-01',\n",
            "               '2017-01-01', '2017-02-01', '2017-03-01', '2017-04-01',\n",
            "               '2017-05-01', '2017-06-01', '2017-07-01', '2017-08-01',\n",
            "               '2017-09-01', '2017-10-01', '2017-11-01', '2017-12-01',\n",
            "               '2018-01-01', '2018-02-01', '2018-03-01', '2018-04-01',\n",
            "               '2018-05-01', '2018-06-01', '2018-07-01', '2018-08-01',\n",
            "               '2018-09-01', '2018-10-01', '2018-11-01', '2018-12-01',\n",
            "               '2019-01-01', '2019-02-01', '2019-03-01', '2019-04-01',\n",
            "               '2019-05-01', '2019-06-01', '2019-07-01', '2019-08-01',\n",
            "               '2019-09-01', '2019-10-01', '2019-11-01', '2019-12-01',\n",
            "               '2020-01-01', '2020-02-01', '2020-03-01', '2020-04-01',\n",
            "               '2020-05-01', '2020-06-01', '2020-07-01'],\n",
            "              dtype='datetime64[ns]', freq=None)\n"
          ],
          "name": "stdout"
        }
      ]
    },
    {
      "cell_type": "code",
      "metadata": {
        "id": "sV6cVxqDxmNn",
        "colab_type": "code",
        "colab": {
          "base_uri": "https://localhost:8080/",
          "height": 321
        },
        "outputId": "48cd6385-5e4b-4a46-d1e4-c03da1469c3e"
      },
      "source": [
        "pip install pyramid-arima"
      ],
      "execution_count": null,
      "outputs": [
        {
          "output_type": "stream",
          "text": [
            "Collecting pyramid-arima\n",
            "\u001b[?25l  Downloading https://files.pythonhosted.org/packages/5c/84/57422f2a6ade3161c586545e38b518ba1b7ab30ee4a4acc29110c0aba2bc/pyramid_arima-0.9.0-cp36-cp36m-manylinux1_x86_64.whl (597kB)\n",
            "\r\u001b[K     |▌                               | 10kB 26.5MB/s eta 0:00:01\r\u001b[K     |█                               | 20kB 2.9MB/s eta 0:00:01\r\u001b[K     |█▋                              | 30kB 3.6MB/s eta 0:00:01\r\u001b[K     |██▏                             | 40kB 4.0MB/s eta 0:00:01\r\u001b[K     |██▊                             | 51kB 3.4MB/s eta 0:00:01\r\u001b[K     |███▎                            | 61kB 3.6MB/s eta 0:00:01\r\u001b[K     |███▉                            | 71kB 4.1MB/s eta 0:00:01\r\u001b[K     |████▍                           | 81kB 4.6MB/s eta 0:00:01\r\u001b[K     |█████                           | 92kB 4.8MB/s eta 0:00:01\r\u001b[K     |█████▌                          | 102kB 4.6MB/s eta 0:00:01\r\u001b[K     |██████                          | 112kB 4.6MB/s eta 0:00:01\r\u001b[K     |██████▋                         | 122kB 4.6MB/s eta 0:00:01\r\u001b[K     |███████▏                        | 133kB 4.6MB/s eta 0:00:01\r\u001b[K     |███████▊                        | 143kB 4.6MB/s eta 0:00:01\r\u001b[K     |████████▏                       | 153kB 4.6MB/s eta 0:00:01\r\u001b[K     |████████▊                       | 163kB 4.6MB/s eta 0:00:01\r\u001b[K     |█████████▎                      | 174kB 4.6MB/s eta 0:00:01\r\u001b[K     |█████████▉                      | 184kB 4.6MB/s eta 0:00:01\r\u001b[K     |██████████▍                     | 194kB 4.6MB/s eta 0:00:01\r\u001b[K     |███████████                     | 204kB 4.6MB/s eta 0:00:01\r\u001b[K     |███████████▌                    | 215kB 4.6MB/s eta 0:00:01\r\u001b[K     |████████████                    | 225kB 4.6MB/s eta 0:00:01\r\u001b[K     |████████████▋                   | 235kB 4.6MB/s eta 0:00:01\r\u001b[K     |█████████████▏                  | 245kB 4.6MB/s eta 0:00:01\r\u001b[K     |█████████████▊                  | 256kB 4.6MB/s eta 0:00:01\r\u001b[K     |██████████████▎                 | 266kB 4.6MB/s eta 0:00:01\r\u001b[K     |██████████████▉                 | 276kB 4.6MB/s eta 0:00:01\r\u001b[K     |███████████████▍                | 286kB 4.6MB/s eta 0:00:01\r\u001b[K     |████████████████                | 296kB 4.6MB/s eta 0:00:01\r\u001b[K     |████████████████▍               | 307kB 4.6MB/s eta 0:00:01\r\u001b[K     |█████████████████               | 317kB 4.6MB/s eta 0:00:01\r\u001b[K     |█████████████████▌              | 327kB 4.6MB/s eta 0:00:01\r\u001b[K     |██████████████████              | 337kB 4.6MB/s eta 0:00:01\r\u001b[K     |██████████████████▋             | 348kB 4.6MB/s eta 0:00:01\r\u001b[K     |███████████████████▏            | 358kB 4.6MB/s eta 0:00:01\r\u001b[K     |███████████████████▊            | 368kB 4.6MB/s eta 0:00:01\r\u001b[K     |████████████████████▎           | 378kB 4.6MB/s eta 0:00:01\r\u001b[K     |████████████████████▉           | 389kB 4.6MB/s eta 0:00:01\r\u001b[K     |█████████████████████▍          | 399kB 4.6MB/s eta 0:00:01\r\u001b[K     |██████████████████████          | 409kB 4.6MB/s eta 0:00:01\r\u001b[K     |██████████████████████▌         | 419kB 4.6MB/s eta 0:00:01\r\u001b[K     |███████████████████████         | 430kB 4.6MB/s eta 0:00:01\r\u001b[K     |███████████████████████▋        | 440kB 4.6MB/s eta 0:00:01\r\u001b[K     |████████████████████████▏       | 450kB 4.6MB/s eta 0:00:01\r\u001b[K     |████████████████████████▋       | 460kB 4.6MB/s eta 0:00:01\r\u001b[K     |█████████████████████████▏      | 471kB 4.6MB/s eta 0:00:01\r\u001b[K     |█████████████████████████▊      | 481kB 4.6MB/s eta 0:00:01\r\u001b[K     |██████████████████████████▎     | 491kB 4.6MB/s eta 0:00:01\r\u001b[K     |██████████████████████████▉     | 501kB 4.6MB/s eta 0:00:01\r\u001b[K     |███████████████████████████▍    | 512kB 4.6MB/s eta 0:00:01\r\u001b[K     |████████████████████████████    | 522kB 4.6MB/s eta 0:00:01\r\u001b[K     |████████████████████████████▌   | 532kB 4.6MB/s eta 0:00:01\r\u001b[K     |█████████████████████████████   | 542kB 4.6MB/s eta 0:00:01\r\u001b[K     |█████████████████████████████▋  | 552kB 4.6MB/s eta 0:00:01\r\u001b[K     |██████████████████████████████▏ | 563kB 4.6MB/s eta 0:00:01\r\u001b[K     |██████████████████████████████▊ | 573kB 4.6MB/s eta 0:00:01\r\u001b[K     |███████████████████████████████▎| 583kB 4.6MB/s eta 0:00:01\r\u001b[K     |███████████████████████████████▉| 593kB 4.6MB/s eta 0:00:01\r\u001b[K     |████████████████████████████████| 604kB 4.6MB/s \n",
            "\u001b[?25hRequirement already satisfied: pandas>=0.19 in /usr/local/lib/python3.6/dist-packages (from pyramid-arima) (1.0.5)\n",
            "Requirement already satisfied: statsmodels>=0.9.0 in /usr/local/lib/python3.6/dist-packages (from pyramid-arima) (0.11.1)\n",
            "Requirement already satisfied: scikit-learn>=0.17 in /usr/local/lib/python3.6/dist-packages (from pyramid-arima) (0.22.2.post1)\n",
            "Requirement already satisfied: Cython>=0.23 in /usr/local/lib/python3.6/dist-packages (from pyramid-arima) (0.29.17)\n",
            "Requirement already satisfied: scipy>=0.9 in /usr/local/lib/python3.6/dist-packages (from pyramid-arima) (1.4.1)\n",
            "Requirement already satisfied: numpy>=1.10 in /usr/local/lib/python3.6/dist-packages (from pyramid-arima) (1.18.5)\n",
            "Requirement already satisfied: python-dateutil>=2.6.1 in /usr/local/lib/python3.6/dist-packages (from pandas>=0.19->pyramid-arima) (2.8.1)\n",
            "Requirement already satisfied: pytz>=2017.2 in /usr/local/lib/python3.6/dist-packages (from pandas>=0.19->pyramid-arima) (2018.9)\n",
            "Requirement already satisfied: patsy>=0.5 in /usr/local/lib/python3.6/dist-packages (from statsmodels>=0.9.0->pyramid-arima) (0.5.1)\n",
            "Requirement already satisfied: joblib>=0.11 in /usr/local/lib/python3.6/dist-packages (from scikit-learn>=0.17->pyramid-arima) (0.16.0)\n",
            "Requirement already satisfied: six>=1.5 in /usr/local/lib/python3.6/dist-packages (from python-dateutil>=2.6.1->pandas>=0.19->pyramid-arima) (1.15.0)\n",
            "Installing collected packages: pyramid-arima\n",
            "Successfully installed pyramid-arima-0.9.0\n"
          ],
          "name": "stdout"
        }
      ]
    },
    {
      "cell_type": "code",
      "metadata": {
        "id": "NUa6Xwb0jSmO",
        "colab_type": "code",
        "colab": {}
      },
      "source": [
        "from pmdarima.arima import auto_arima"
      ],
      "execution_count": null,
      "outputs": []
    },
    {
      "cell_type": "code",
      "metadata": {
        "id": "9IM9OJOxpvts",
        "colab_type": "code",
        "colab": {}
      },
      "source": [
        "import statsmodels.api as sm\n",
        "import pyramid as pm"
      ],
      "execution_count": null,
      "outputs": []
    },
    {
      "cell_type": "code",
      "metadata": {
        "id": "OO76nkFYmUVM",
        "colab_type": "code",
        "colab": {
          "base_uri": "https://localhost:8080/",
          "height": 197
        },
        "outputId": "5ffca810-1e8d-4f8a-ae2e-f0d8a75f795f"
      },
      "source": [
        "columns = ['Bengaluru_RetailPrice']\n",
        "df2 = df2[columns]\n",
        "df2.head()"
      ],
      "execution_count": null,
      "outputs": [
        {
          "output_type": "execute_result",
          "data": {
            "text/html": [
              "<div>\n",
              "<style scoped>\n",
              "    .dataframe tbody tr th:only-of-type {\n",
              "        vertical-align: middle;\n",
              "    }\n",
              "\n",
              "    .dataframe tbody tr th {\n",
              "        vertical-align: top;\n",
              "    }\n",
              "\n",
              "    .dataframe thead th {\n",
              "        text-align: right;\n",
              "    }\n",
              "</style>\n",
              "<table border=\"1\" class=\"dataframe\">\n",
              "  <thead>\n",
              "    <tr style=\"text-align: right;\">\n",
              "      <th></th>\n",
              "      <th>Bengaluru_RetailPrice</th>\n",
              "    </tr>\n",
              "  </thead>\n",
              "  <tbody>\n",
              "    <tr>\n",
              "      <th>2015-01-01</th>\n",
              "      <td>2791.0</td>\n",
              "    </tr>\n",
              "    <tr>\n",
              "      <th>2015-02-01</th>\n",
              "      <td>2750.0</td>\n",
              "    </tr>\n",
              "    <tr>\n",
              "      <th>2015-03-01</th>\n",
              "      <td>2396.0</td>\n",
              "    </tr>\n",
              "    <tr>\n",
              "      <th>2015-04-01</th>\n",
              "      <td>2260.0</td>\n",
              "    </tr>\n",
              "    <tr>\n",
              "      <th>2015-05-01</th>\n",
              "      <td>2458.0</td>\n",
              "    </tr>\n",
              "  </tbody>\n",
              "</table>\n",
              "</div>"
            ],
            "text/plain": [
              "            Bengaluru_RetailPrice\n",
              "2015-01-01                 2791.0\n",
              "2015-02-01                 2750.0\n",
              "2015-03-01                 2396.0\n",
              "2015-04-01                 2260.0\n",
              "2015-05-01                 2458.0"
            ]
          },
          "metadata": {
            "tags": []
          },
          "execution_count": 24
        }
      ]
    },
    {
      "cell_type": "code",
      "metadata": {
        "id": "8dDeX_PJmgzT",
        "colab_type": "code",
        "colab": {}
      },
      "source": [
        "from statsmodels.tsa.seasonal import seasonal_decompose\n",
        "ss_decomposition = seasonal_decompose(df2, \n",
        "                                      model='additive', \n",
        "                                      freq=6)\n",
        "estimated_trend = ss_decomposition.trend\n",
        "estimated_seasonal = ss_decomposition.seasonal\n",
        "estimated_residual = ss_decomposition.resid"
      ],
      "execution_count": null,
      "outputs": []
    },
    {
      "cell_type": "code",
      "metadata": {
        "id": "Tkeq-Lh7sSx8",
        "colab_type": "code",
        "colab": {
          "base_uri": "https://localhost:8080/",
          "height": 610
        },
        "outputId": "9f0ecede-7f32-4d31-9ad7-c2eb89d50e74"
      },
      "source": [
        "fig, axes = plt.subplots(4, 1, sharex=True, sharey=False)\n",
        "fig.set_figheight(10)\n",
        "fig.set_figwidth(15)\n",
        "\n",
        "axes[0].plot(df2, 'k', label='Original')\n",
        "axes[0].legend(loc='upper left');\n",
        "\n",
        "axes[1].plot(estimated_trend, label='Trend')\n",
        "axes[1].legend(loc='upper left');\n",
        "\n",
        "axes[2].plot(estimated_seasonal, 'g', label='Seasonality')\n",
        "axes[2].legend(loc='upper left');\n",
        "\n",
        "axes[3].plot(estimated_residual, 'r', label='Residuals')\n",
        "axes[3].legend(loc='upper left')"
      ],
      "execution_count": null,
      "outputs": [
        {
          "output_type": "execute_result",
          "data": {
            "text/plain": [
              "<matplotlib.legend.Legend at 0x7f62142ce9b0>"
            ]
          },
          "metadata": {
            "tags": []
          },
          "execution_count": 26
        },
        {
          "output_type": "display_data",
          "data": {
            "image/png": "[encoded data removed]",
            "text/plain": [
              "<Figure size 1080x720 with 4 Axes>"
            ]
          },
          "metadata": {
            "tags": [],
            "needs_background": "light"
          }
        }
      ]
    },
    {
      "cell_type": "code",
      "metadata": {
        "id": "2zSRNg78s2HK",
        "colab_type": "code",
        "colab": {}
      },
      "source": [
        "#divide into train and validation set\n",
        "train = df2[:int(0.75*(len(df2)))]\n",
        "test = df2[int(0.75*(len(df2))):]"
      ],
      "execution_count": null,
      "outputs": []
    },
    {
      "cell_type": "code",
      "metadata": {
        "id": "OqASBh9ttpi-",
        "colab_type": "code",
        "colab": {
          "base_uri": "https://localhost:8080/",
          "height": 282
        },
        "outputId": "07c9ff10-40a2-4aef-8a1e-170f0ab853d5"
      },
      "source": [
        "#plotting the data\n",
        "train['Bengaluru_RetailPrice'].plot()\n",
        "test['Bengaluru_RetailPrice'].plot()"
      ],
      "execution_count": null,
      "outputs": [
        {
          "output_type": "execute_result",
          "data": {
            "text/plain": [
              "<matplotlib.axes._subplots.AxesSubplot at 0x7f6213dcf2b0>"
            ]
          },
          "metadata": {
            "tags": []
          },
          "execution_count": 28
        },
        {
          "output_type": "display_data",
          "data": {
            "image/png": "[encoded data removed]",
            "text/plain": [
              "<Figure size 432x288 with 1 Axes>"
            ]
          },
          "metadata": {
            "tags": [],
            "needs_background": "light"
          }
        }
      ]
    },
    {
      "cell_type": "code",
      "metadata": {
        "id": "pakyyeY-t85q",
        "colab_type": "code",
        "colab": {
          "base_uri": "https://localhost:8080/",
          "height": 903
        },
        "outputId": "a44c9c0e-b5a5-46d3-a5c1-296ba35ff09e"
      },
      "source": [
        "# Fit auto_arima function to AirPassengers dataset \n",
        "stepwise_fit = auto_arima(df2['Bengaluru_RetailPrice'], start_p = 1, start_q = 1, \n",
        "                          max_p = 3, max_q = 3, m = 12, \n",
        "                          start_P = 0, seasonal = True, \n",
        "                          d = None, D = 1, trace = True, \n",
        "                          error_action ='ignore',   # we don't want to know if an order does not work \n",
        "                          suppress_warnings = True,  # we don't want convergence warnings \n",
        "                          stepwise = True)           # set to stepwise \n",
        "  \n",
        "# To print the summary \n",
        "stepwise_fit.summary() \n"
      ],
      "execution_count": null,
      "outputs": [
        {
          "output_type": "stream",
          "text": [
            "Performing stepwise search to minimize aic\n",
            " ARIMA(1,0,1)(0,1,1)[12] intercept   : AIC=931.775, Time=0.73 sec\n",
            " ARIMA(0,0,0)(0,1,0)[12] intercept   : AIC=1002.636, Time=0.01 sec\n",
            " ARIMA(1,0,0)(1,1,0)[12] intercept   : AIC=929.233, Time=0.56 sec\n",
            " ARIMA(0,0,1)(0,1,1)[12] intercept   : AIC=inf, Time=0.78 sec\n",
            " ARIMA(0,0,0)(0,1,0)[12]             : AIC=1001.059, Time=0.02 sec\n",
            " ARIMA(1,0,0)(0,1,0)[12] intercept   : AIC=945.167, Time=0.09 sec\n",
            " ARIMA(1,0,0)(2,1,0)[12] intercept   : AIC=929.355, Time=0.96 sec\n",
            " ARIMA(1,0,0)(1,1,1)[12] intercept   : AIC=929.700, Time=0.49 sec\n",
            " ARIMA(1,0,0)(0,1,1)[12] intercept   : AIC=934.674, Time=0.59 sec\n",
            " ARIMA(1,0,0)(2,1,1)[12] intercept   : AIC=931.334, Time=1.39 sec\n",
            " ARIMA(0,0,0)(1,1,0)[12] intercept   : AIC=964.693, Time=0.34 sec\n",
            " ARIMA(2,0,0)(1,1,0)[12] intercept   : AIC=930.512, Time=0.50 sec\n",
            " ARIMA(1,0,1)(1,1,0)[12] intercept   : AIC=930.152, Time=0.50 sec\n",
            " ARIMA(0,0,1)(1,1,0)[12] intercept   : AIC=934.947, Time=0.55 sec\n",
            " ARIMA(2,0,1)(1,1,0)[12] intercept   : AIC=inf, Time=0.75 sec\n",
            " ARIMA(1,0,0)(1,1,0)[12]             : AIC=927.484, Time=0.30 sec\n",
            " ARIMA(1,0,0)(0,1,0)[12]             : AIC=943.165, Time=0.06 sec\n",
            " ARIMA(1,0,0)(2,1,0)[12]             : AIC=927.754, Time=0.72 sec\n",
            " ARIMA(1,0,0)(1,1,1)[12]             : AIC=928.190, Time=0.40 sec\n",
            " ARIMA(1,0,0)(0,1,1)[12]             : AIC=933.134, Time=0.28 sec\n",
            " ARIMA(1,0,0)(2,1,1)[12]             : AIC=929.752, Time=1.21 sec\n",
            " ARIMA(0,0,0)(1,1,0)[12]             : AIC=965.474, Time=0.15 sec\n",
            " ARIMA(2,0,0)(1,1,0)[12]             : AIC=928.854, Time=0.37 sec\n",
            " ARIMA(1,0,1)(1,1,0)[12]             : AIC=928.483, Time=0.37 sec\n",
            " ARIMA(0,0,1)(1,1,0)[12]             : AIC=934.320, Time=0.38 sec\n",
            " ARIMA(2,0,1)(1,1,0)[12]             : AIC=inf, Time=0.62 sec\n",
            "\n",
            "Best model:  ARIMA(1,0,0)(1,1,0)[12]          \n",
            "Total fit time: 13.163 seconds\n"
          ],
          "name": "stdout"
        },
        {
          "output_type": "execute_result",
          "data": {
            "text/html": [
              "<table class=\"simpletable\">\n",
              "<caption>SARIMAX Results</caption>\n",
              "<tr>\n",
              "  <th>Dep. Variable:</th>                  <td>y</td>               <th>  No. Observations:  </th>    <td>67</td>   \n",
              "</tr>\n",
              "<tr>\n",
              "  <th>Model:</th>           <td>SARIMAX(1, 0, 0)x(1, 1, 0, 12)</td> <th>  Log Likelihood     </th> <td>-460.742</td>\n",
              "</tr>\n",
              "<tr>\n",
              "  <th>Date:</th>                   <td>Sun, 13 Sep 2020</td>        <th>  AIC                </th>  <td>927.484</td>\n",
              "</tr>\n",
              "<tr>\n",
              "  <th>Time:</th>                       <td>04:43:55</td>            <th>  BIC                </th>  <td>933.506</td>\n",
              "</tr>\n",
              "<tr>\n",
              "  <th>Sample:</th>                         <td>0</td>               <th>  HQIC               </th>  <td>929.813</td>\n",
              "</tr>\n",
              "<tr>\n",
              "  <th></th>                              <td> - 67</td>             <th>                     </th>     <td> </td>   \n",
              "</tr>\n",
              "<tr>\n",
              "  <th>Covariance Type:</th>               <td>opg</td>              <th>                     </th>     <td> </td>   \n",
              "</tr>\n",
              "</table>\n",
              "<table class=\"simpletable\">\n",
              "<tr>\n",
              "      <td></td>        <th>coef</th>     <th>std err</th>      <th>z</th>      <th>P>|z|</th>  <th>[0.025</th>    <th>0.975]</th>  \n",
              "</tr>\n",
              "<tr>\n",
              "  <th>ar.L1</th>    <td>    0.7206</td> <td>    0.042</td> <td>   17.304</td> <td> 0.000</td> <td>    0.639</td> <td>    0.802</td>\n",
              "</tr>\n",
              "<tr>\n",
              "  <th>ar.S.L12</th> <td>   -0.7017</td> <td>    0.181</td> <td>   -3.875</td> <td> 0.000</td> <td>   -1.057</td> <td>   -0.347</td>\n",
              "</tr>\n",
              "<tr>\n",
              "  <th>sigma2</th>   <td> 1.046e+06</td> <td> 1.41e+05</td> <td>    7.430</td> <td> 0.000</td> <td>  7.7e+05</td> <td> 1.32e+06</td>\n",
              "</tr>\n",
              "</table>\n",
              "<table class=\"simpletable\">\n",
              "<tr>\n",
              "  <th>Ljung-Box (Q):</th>          <td>25.81</td> <th>  Jarque-Bera (JB):  </th> <td>107.76</td>\n",
              "</tr>\n",
              "<tr>\n",
              "  <th>Prob(Q):</th>                <td>0.96</td>  <th>  Prob(JB):          </th>  <td>0.00</td> \n",
              "</tr>\n",
              "<tr>\n",
              "  <th>Heteroskedasticity (H):</th> <td>9.01</td>  <th>  Skew:              </th>  <td>1.30</td> \n",
              "</tr>\n",
              "<tr>\n",
              "  <th>Prob(H) (two-sided):</th>    <td>0.00</td>  <th>  Kurtosis:          </th>  <td>9.34</td> \n",
              "</tr>\n",
              "</table><br/><br/>Warnings:<br/>[1] Covariance matrix calculated using the outer product of gradients (complex-step)."
            ],
            "text/plain": [
              "<class 'statsmodels.iolib.summary.Summary'>\n",
              "\"\"\"\n",
              "                                     SARIMAX Results                                      \n",
              "==========================================================================================\n",
              "Dep. Variable:                                  y   No. Observations:                   67\n",
              "Model:             SARIMAX(1, 0, 0)x(1, 1, 0, 12)   Log Likelihood                -460.742\n",
              "Date:                            Sun, 13 Sep 2020   AIC                            927.484\n",
              "Time:                                    04:43:55   BIC                            933.506\n",
              "Sample:                                         0   HQIC                           929.813\n",
              "                                             - 67                                         \n",
              "Covariance Type:                              opg                                         \n",
              "==============================================================================\n",
              "                 coef    std err          z      P>|z|      [0.025      0.975]\n",
              "------------------------------------------------------------------------------\n",
              "ar.L1          0.7206      0.042     17.304      0.000       0.639       0.802\n",
              "ar.S.L12      -0.7017      0.181     -3.875      0.000      -1.057      -0.347\n",
              "sigma2      1.046e+06   1.41e+05      7.430      0.000     7.7e+05    1.32e+06\n",
              "===================================================================================\n",
              "Ljung-Box (Q):                       25.81   Jarque-Bera (JB):               107.76\n",
              "Prob(Q):                              0.96   Prob(JB):                         0.00\n",
              "Heteroskedasticity (H):               9.01   Skew:                             1.30\n",
              "Prob(H) (two-sided):                  0.00   Kurtosis:                         9.34\n",
              "===================================================================================\n",
              "\n",
              "Warnings:\n",
              "[1] Covariance matrix calculated using the outer product of gradients (complex-step).\n",
              "\"\"\""
            ]
          },
          "metadata": {
            "tags": []
          },
          "execution_count": 29
        }
      ]
    },
    {
      "cell_type": "code",
      "metadata": {
        "id": "ddwxCO52unEg",
        "colab_type": "code",
        "colab": {
          "base_uri": "https://localhost:8080/",
          "height": 352
        },
        "outputId": "b6cff4d5-54e4-4087-9db0-fb3d63e7997e"
      },
      "source": [
        "# Fit a SARIMAX(0, 1, 1)x(2, 1, 1, 12) on the training set \n",
        "from statsmodels.tsa.statespace.sarimax import SARIMAX \n",
        "  \n",
        "model = SARIMAX(train['Bengaluru_RetailPrice'],  \n",
        "                order = (0, 1, 0),  \n",
        "                seasonal_order =(1, 1, 0, 12)) \n",
        "  \n",
        "result = model.fit() \n",
        "result.summary() "
      ],
      "execution_count": null,
      "outputs": [
        {
          "output_type": "execute_result",
          "data": {
            "text/html": [
              "<table class=\"simpletable\">\n",
              "<caption>SARIMAX Results</caption>\n",
              "<tr>\n",
              "  <th>Dep. Variable:</th>        <td>Bengaluru_RetailPrice</td>     <th>  No. Observations:  </th>    <td>50</td>   \n",
              "</tr>\n",
              "<tr>\n",
              "  <th>Model:</th>           <td>SARIMAX(0, 1, 0)x(1, 1, 0, 12)</td> <th>  Log Likelihood     </th> <td>-287.615</td>\n",
              "</tr>\n",
              "<tr>\n",
              "  <th>Date:</th>                   <td>Sun, 13 Sep 2020</td>        <th>  AIC                </th>  <td>579.230</td>\n",
              "</tr>\n",
              "<tr>\n",
              "  <th>Time:</th>                       <td>04:43:55</td>            <th>  BIC                </th>  <td>582.452</td>\n",
              "</tr>\n",
              "<tr>\n",
              "  <th>Sample:</th>                    <td>01-01-2015</td>           <th>  HQIC               </th>  <td>580.366</td>\n",
              "</tr>\n",
              "<tr>\n",
              "  <th></th>                          <td>- 02-01-2019</td>          <th>                     </th>     <td> </td>   \n",
              "</tr>\n",
              "<tr>\n",
              "  <th>Covariance Type:</th>               <td>opg</td>              <th>                     </th>     <td> </td>   \n",
              "</tr>\n",
              "</table>\n",
              "<table class=\"simpletable\">\n",
              "<tr>\n",
              "      <td></td>        <th>coef</th>     <th>std err</th>      <th>z</th>      <th>P>|z|</th>  <th>[0.025</th>    <th>0.975]</th>  \n",
              "</tr>\n",
              "<tr>\n",
              "  <th>ar.S.L12</th> <td>   -0.6304</td> <td>    0.139</td> <td>   -4.525</td> <td> 0.000</td> <td>   -0.903</td> <td>   -0.357</td>\n",
              "</tr>\n",
              "<tr>\n",
              "  <th>sigma2</th>   <td> 2.945e+05</td> <td> 6.78e+04</td> <td>    4.344</td> <td> 0.000</td> <td> 1.62e+05</td> <td> 4.27e+05</td>\n",
              "</tr>\n",
              "</table>\n",
              "<table class=\"simpletable\">\n",
              "<tr>\n",
              "  <th>Ljung-Box (Q):</th>          <td>15.02</td> <th>  Jarque-Bera (JB):  </th> <td>1.35</td>\n",
              "</tr>\n",
              "<tr>\n",
              "  <th>Prob(Q):</th>                <td>1.00</td>  <th>  Prob(JB):          </th> <td>0.51</td>\n",
              "</tr>\n",
              "<tr>\n",
              "  <th>Heteroskedasticity (H):</th> <td>1.09</td>  <th>  Skew:              </th> <td>0.39</td>\n",
              "</tr>\n",
              "<tr>\n",
              "  <th>Prob(H) (two-sided):</th>    <td>0.88</td>  <th>  Kurtosis:          </th> <td>3.51</td>\n",
              "</tr>\n",
              "</table><br/><br/>Warnings:<br/>[1] Covariance matrix calculated using the outer product of gradients (complex-step)."
            ],
            "text/plain": [
              "<class 'statsmodels.iolib.summary.Summary'>\n",
              "\"\"\"\n",
              "                                     SARIMAX Results                                      \n",
              "==========================================================================================\n",
              "Dep. Variable:              Bengaluru_RetailPrice   No. Observations:                   50\n",
              "Model:             SARIMAX(0, 1, 0)x(1, 1, 0, 12)   Log Likelihood                -287.615\n",
              "Date:                            Sun, 13 Sep 2020   AIC                            579.230\n",
              "Time:                                    04:43:55   BIC                            582.452\n",
              "Sample:                                01-01-2015   HQIC                           580.366\n",
              "                                     - 02-01-2019                                         \n",
              "Covariance Type:                              opg                                         \n",
              "==============================================================================\n",
              "                 coef    std err          z      P>|z|      [0.025      0.975]\n",
              "------------------------------------------------------------------------------\n",
              "ar.S.L12      -0.6304      0.139     -4.525      0.000      -0.903      -0.357\n",
              "sigma2      2.945e+05   6.78e+04      4.344      0.000    1.62e+05    4.27e+05\n",
              "===================================================================================\n",
              "Ljung-Box (Q):                       15.02   Jarque-Bera (JB):                 1.35\n",
              "Prob(Q):                              1.00   Prob(JB):                         0.51\n",
              "Heteroskedasticity (H):               1.09   Skew:                             0.39\n",
              "Prob(H) (two-sided):                  0.88   Kurtosis:                         3.51\n",
              "===================================================================================\n",
              "\n",
              "Warnings:\n",
              "[1] Covariance matrix calculated using the outer product of gradients (complex-step).\n",
              "\"\"\""
            ]
          },
          "metadata": {
            "tags": []
          },
          "execution_count": 30
        }
      ]
    },
    {
      "cell_type": "code",
      "metadata": {
        "id": "qQ-ucaiKuyAU",
        "colab_type": "code",
        "colab": {
          "base_uri": "https://localhost:8080/",
          "height": 294
        },
        "outputId": "4533e27e-bcc3-4e1a-f445-d255fd79b123"
      },
      "source": [
        "start = len(train) \n",
        "end = len(train) + len(test) - 1\n",
        "  \n",
        "# Predictions for one-year against the test set \n",
        "predictions = result.predict(start, end, \n",
        "                             typ = 'levels').rename(\"Predictions\") \n",
        "  \n",
        "# plot predictions and actual values \n",
        "predictions.plot(legend = True) \n",
        "test['Bengaluru_RetailPrice'].plot(legend = True) "
      ],
      "execution_count": null,
      "outputs": [
        {
          "output_type": "execute_result",
          "data": {
            "text/plain": [
              "<matplotlib.axes._subplots.AxesSubplot at 0x7f6210368a90>"
            ]
          },
          "metadata": {
            "tags": []
          },
          "execution_count": 31
        },
        {
          "output_type": "display_data",
          "data": {
            "image/png": "[encoded data removed]",
            "text/plain": [
              "<Figure size 432x288 with 1 Axes>"
            ]
          },
          "metadata": {
            "tags": [],
            "needs_background": "light"
          }
        }
      ]
    },
    {
      "cell_type": "code",
      "metadata": {
        "id": "KEbEUiKkveg-",
        "colab_type": "code",
        "colab": {
          "base_uri": "https://localhost:8080/",
          "height": 34
        },
        "outputId": "9cb19942-c27a-4d1c-bcab-3f87b3833789"
      },
      "source": [
        "# Load specific evaluation tools \n",
        "from sklearn.metrics import mean_squared_error \n",
        "from statsmodels.tools.eval_measures import rmse \n",
        "  \n",
        "# Calculate root mean squared error \n",
        "rmse(test[\"Bengaluru_RetailPrice\"], predictions) "
      ],
      "execution_count": null,
      "outputs": [
        {
          "output_type": "execute_result",
          "data": {
            "text/plain": [
              "2944.7545893911515"
            ]
          },
          "metadata": {
            "tags": []
          },
          "execution_count": 32
        }
      ]
    },
    {
      "cell_type": "code",
      "metadata": {
        "id": "LV49E8jIvup7",
        "colab_type": "code",
        "colab": {
          "base_uri": "https://localhost:8080/",
          "height": 34
        },
        "outputId": "229d7ec5-7657-4b92-fb3a-e9b166da31ad"
      },
      "source": [
        "# Calculate mean squared error \n",
        "mean_squared_error(test[\"Bengaluru_RetailPrice\"], predictions) "
      ],
      "execution_count": null,
      "outputs": [
        {
          "output_type": "execute_result",
          "data": {
            "text/plain": [
              "8671579.591740249"
            ]
          },
          "metadata": {
            "tags": []
          },
          "execution_count": 33
        }
      ]
    },
    {
      "cell_type": "code",
      "metadata": {
        "id": "8ZcwGP2GvyUH",
        "colab_type": "code",
        "colab": {
          "base_uri": "https://localhost:8080/",
          "height": 337
        },
        "outputId": "ce7dc2ee-19bb-4835-e028-f0cc3698d2ec"
      },
      "source": [
        "# Train the model on the full dataset \n",
        "model = model = SARIMAX(df2['Bengaluru_RetailPrice'],  \n",
        "                        order = (0, 1, 0),  \n",
        "                        seasonal_order =(1, 1, 0, 12)) \n",
        "result = model.fit() \n",
        "  \n",
        "# Forecast for the next 6 months\n",
        "forecast = result.predict(start = len(df2),  \n",
        "                          end = (len(df2)-1) + 1 * 6,  \n",
        "                          typ = 'levels').rename('Forecast') \n",
        "  \n",
        "# Plot the forecast values \n",
        "df2['Bengaluru_RetailPrice'].plot(figsize = (12, 5), legend = True) \n",
        "forecast.plot(legend = True) "
      ],
      "execution_count": null,
      "outputs": [
        {
          "output_type": "execute_result",
          "data": {
            "text/plain": [
              "<matplotlib.axes._subplots.AxesSubplot at 0x7f6212d30518>"
            ]
          },
          "metadata": {
            "tags": []
          },
          "execution_count": 34
        },
        {
          "output_type": "display_data",
          "data": {
            "image/png": "[encoded data removed]",
            "text/plain": [
              "<Figure size 864x360 with 1 Axes>"
            ]
          },
          "metadata": {
            "tags": [],
            "needs_background": "light"
          }
        }
      ]
    },
    {
      "cell_type": "code",
      "metadata": {
        "id": "qIowTlWxwHfi",
        "colab_type": "code",
        "colab": {
          "base_uri": "https://localhost:8080/",
          "height": 141
        },
        "outputId": "5be05db7-aaf5-45dd-a57f-c11e4b734ed5"
      },
      "source": [
        "# forecast for 6 months\n",
        "forecast.round(1)"
      ],
      "execution_count": null,
      "outputs": [
        {
          "output_type": "execute_result",
          "data": {
            "text/plain": [
              "2020-08-01    1715.3\n",
              "2020-09-01    2002.7\n",
              "2020-10-01    2012.4\n",
              "2020-11-01    3359.2\n",
              "2020-12-01    3640.5\n",
              "2021-01-01    2357.1\n",
              "Freq: MS, Name: Forecast, dtype: float64"
            ]
          },
          "metadata": {
            "tags": []
          },
          "execution_count": 35
        }
      ]
    },
    {
      "cell_type": "markdown",
      "metadata": {
        "id": "ng5p2h9A4iYL",
        "colab_type": "text"
      },
      "source": [
        "# 2. VAR - Vector auto regression model"
      ]
    },
    {
      "cell_type": "code",
      "metadata": {
        "id": "P-HkVpCmwUxe",
        "colab_type": "code",
        "colab": {}
      },
      "source": [
        "from statsmodels.tsa.api import VAR"
      ],
      "execution_count": null,
      "outputs": []
    },
    {
      "cell_type": "code",
      "metadata": {
        "id": "EIB5xwYK4z2N",
        "colab_type": "code",
        "colab": {}
      },
      "source": [
        "from statsmodels.tsa.stattools import adfuller\n",
        "from statsmodels.tools.eval_measures import rmse, aic"
      ],
      "execution_count": null,
      "outputs": []
    },
    {
      "cell_type": "code",
      "metadata": {
        "id": "BHi6Qyd69BzP",
        "colab_type": "code",
        "colab": {
          "base_uri": "https://localhost:8080/",
          "height": 336
        },
        "outputId": "e917baf8-b551-4853-ef81-e9760fb99804"
      },
      "source": [
        "datetime_series = pd.to_datetime(df['Date'])\n",
        "\n",
        "# create datetime index passing the datetime series\n",
        "datetime_index = pd.DatetimeIndex(datetime_series.values)\n",
        "\n",
        "df3=df.set_index(datetime_index)\n",
        "\n",
        "# we don't need the column anymore\n",
        "df3.drop('Date',axis=1,inplace=True)\n",
        "\n",
        "print(df3.index)"
      ],
      "execution_count": null,
      "outputs": [
        {
          "output_type": "stream",
          "text": [
            "DatetimeIndex(['2015-01-01', '2015-02-01', '2015-03-01', '2015-04-01',\n",
            "               '2015-05-01', '2015-06-01', '2015-07-01', '2015-08-01',\n",
            "               '2015-09-01', '2015-10-01', '2015-11-01', '2015-12-01',\n",
            "               '2016-01-01', '2016-02-01', '2016-03-01', '2016-04-01',\n",
            "               '2016-05-01', '2016-06-01', '2016-07-01', '2016-08-01',\n",
            "               '2016-09-01', '2016-10-01', '2016-11-01', '2016-12-01',\n",
            "               '2017-01-01', '2017-02-01', '2017-03-01', '2017-04-01',\n",
            "               '2017-05-01', '2017-06-01', '2017-07-01', '2017-08-01',\n",
            "               '2017-09-01', '2017-10-01', '2017-11-01', '2017-12-01',\n",
            "               '2018-01-01', '2018-02-01', '2018-03-01', '2018-04-01',\n",
            "               '2018-05-01', '2018-06-01', '2018-07-01', '2018-08-01',\n",
            "               '2018-09-01', '2018-10-01', '2018-11-01', '2018-12-01',\n",
            "               '2019-01-01', '2019-02-01', '2019-03-01', '2019-04-01',\n",
            "               '2019-05-01', '2019-06-01', '2019-07-01', '2019-08-01',\n",
            "               '2019-09-01', '2019-10-01', '2019-11-01', '2019-12-01',\n",
            "               '2020-01-01', '2020-02-01', '2020-03-01', '2020-04-01',\n",
            "               '2020-05-01', '2020-06-01', '2020-07-01'],\n",
            "              dtype='datetime64[ns]', freq=None)\n"
          ],
          "name": "stdout"
        }
      ]
    },
    {
      "cell_type": "code",
      "metadata": {
        "id": "qgYZW-a19oyZ",
        "colab_type": "code",
        "colab": {
          "base_uri": "https://localhost:8080/",
          "height": 197
        },
        "outputId": "4d876e63-75be-4b91-cdfe-002f0bf6504d"
      },
      "source": [
        "col = ['Bengaluru_RetailPrice','Bengaluru_Volume','DieselPrice']\n",
        "df3 = df3[col]\n",
        "df3.head()"
      ],
      "execution_count": null,
      "outputs": [
        {
          "output_type": "execute_result",
          "data": {
            "text/html": [
              "<div>\n",
              "<style scoped>\n",
              "    .dataframe tbody tr th:only-of-type {\n",
              "        vertical-align: middle;\n",
              "    }\n",
              "\n",
              "    .dataframe tbody tr th {\n",
              "        vertical-align: top;\n",
              "    }\n",
              "\n",
              "    .dataframe thead th {\n",
              "        text-align: right;\n",
              "    }\n",
              "</style>\n",
              "<table border=\"1\" class=\"dataframe\">\n",
              "  <thead>\n",
              "    <tr style=\"text-align: right;\">\n",
              "      <th></th>\n",
              "      <th>Bengaluru_RetailPrice</th>\n",
              "      <th>Bengaluru_Volume</th>\n",
              "      <th>DieselPrice</th>\n",
              "    </tr>\n",
              "  </thead>\n",
              "  <tbody>\n",
              "    <tr>\n",
              "      <th>2015-01-01</th>\n",
              "      <td>2791.0</td>\n",
              "      <td>74978.0</td>\n",
              "      <td>53.74</td>\n",
              "    </tr>\n",
              "    <tr>\n",
              "      <th>2015-02-01</th>\n",
              "      <td>2750.0</td>\n",
              "      <td>42164.0</td>\n",
              "      <td>51.96</td>\n",
              "    </tr>\n",
              "    <tr>\n",
              "      <th>2015-03-01</th>\n",
              "      <td>2396.0</td>\n",
              "      <td>41339.0</td>\n",
              "      <td>55.41</td>\n",
              "    </tr>\n",
              "    <tr>\n",
              "      <th>2015-04-01</th>\n",
              "      <td>2260.0</td>\n",
              "      <td>43534.0</td>\n",
              "      <td>52.56</td>\n",
              "    </tr>\n",
              "    <tr>\n",
              "      <th>2015-05-01</th>\n",
              "      <td>2458.0</td>\n",
              "      <td>44227.0</td>\n",
              "      <td>58.19</td>\n",
              "    </tr>\n",
              "  </tbody>\n",
              "</table>\n",
              "</div>"
            ],
            "text/plain": [
              "            Bengaluru_RetailPrice  Bengaluru_Volume  DieselPrice\n",
              "2015-01-01                 2791.0           74978.0        53.74\n",
              "2015-02-01                 2750.0           42164.0        51.96\n",
              "2015-03-01                 2396.0           41339.0        55.41\n",
              "2015-04-01                 2260.0           43534.0        52.56\n",
              "2015-05-01                 2458.0           44227.0        58.19"
            ]
          },
          "metadata": {
            "tags": []
          },
          "execution_count": 39
        }
      ]
    },
    {
      "cell_type": "code",
      "metadata": {
        "id": "reI4oHca9rp_",
        "colab_type": "code",
        "colab": {
          "base_uri": "https://localhost:8080/",
          "height": 52
        },
        "outputId": "9ce5e8b0-5556-4921-8605-74dd9d4a293f"
      },
      "source": [
        "#divide into train and validation set\n",
        "train1 = df3[:int(0.75*(len(df)))]\n",
        "test1 = df3[int(0.75*(len(df))):]\n",
        "print(train1.shape)\n",
        "print(test1.shape)"
      ],
      "execution_count": null,
      "outputs": [
        {
          "output_type": "stream",
          "text": [
            "(50, 3)\n",
            "(17, 3)\n"
          ],
          "name": "stdout"
        }
      ]
    },
    {
      "cell_type": "code",
      "metadata": {
        "id": "2MD6a3KQ9yGw",
        "colab_type": "code",
        "colab": {
          "base_uri": "https://localhost:8080/",
          "height": 670
        },
        "outputId": "b99deb5d-eb1e-4168-8a97-ac7b86203972"
      },
      "source": [
        "# Plot\n",
        "fig, axes = plt.subplots(nrows=3, ncols=1, dpi=120, figsize=(10,6))\n",
        "for i, ax in enumerate(axes.flatten()):\n",
        "    data = df3[df3.columns[i]]\n",
        "    ax.plot(data, color='blue', linewidth=1)\n",
        "    # Decorations\n",
        "    ax.set_title(df3.columns[i])\n",
        "    ax.xaxis.set_ticks_position('none')\n",
        "    ax.yaxis.set_ticks_position('none')\n",
        "    ax.spines[\"top\"].set_alpha(0)\n",
        "    ax.tick_params(labelsize=6)\n",
        "\n",
        "plt.tight_layout();"
      ],
      "execution_count": null,
      "outputs": [
        {
          "output_type": "display_data",
          "data": {
            "image/png": "[encoded data removed]",
            "text/plain": [
              "<Figure size 1200x720 with 3 Axes>"
            ]
          },
          "metadata": {
            "tags": [],
            "needs_background": "light"
          }
        }
      ]
    },
    {
      "cell_type": "markdown",
      "metadata": {
        "id": "L-3i4w8F80j3",
        "colab_type": "text"
      },
      "source": [
        "# Testing Causation using Granger’s Causality Test"
      ]
    },
    {
      "cell_type": "code",
      "metadata": {
        "id": "_Lf7BoOk8qG-",
        "colab_type": "code",
        "colab": {
          "base_uri": "https://localhost:8080/",
          "height": 137
        },
        "outputId": "0cd0beca-3fa1-43b8-d245-17952d869176"
      },
      "source": [
        "from statsmodels.tsa.stattools import grangercausalitytests\n",
        "maxlag=12\n",
        "test = 'ssr_chi2test'\n",
        "def grangers_causation_matrix(df3, variables, test='ssr_chi2test', verbose=False):    \n",
        "    \"\"\"Check Granger Causality of all possible combinations of the Time series.\n",
        "    The rows are the response variable, columns are predictors. The values in the table \n",
        "    are the P-Values. P-Values lesser than the significance level (0.05), implies \n",
        "    the Null Hypothesis that the coefficients of the corresponding past values is \n",
        "    zero, that is, the X does not cause Y can be rejected.\n",
        "\n",
        "    data      : pandas dataframe containing the time series variables\n",
        "    variables : list containing names of the time series variables.\n",
        "    \"\"\"\n",
        "    df = pd.DataFrame(np.zeros((len(variables), len(variables))), columns=variables, index=variables)\n",
        "    for c in df.columns:\n",
        "        for r in df.index:\n",
        "            test_result = grangercausalitytests(df3[[r, c]], maxlag=maxlag, verbose=False)\n",
        "            p_values = [round(test_result[i+1][0][test][1],4) for i in range(maxlag)]\n",
        "            if verbose: print(f'Y = {r}, X = {c}, P Values = {p_values}')\n",
        "            min_p_value = np.min(p_values)\n",
        "            df.loc[r, c] = min_p_value\n",
        "    df.columns = [var + '_x' for var in variables]\n",
        "    df.index = [var + '_y' for var in variables]\n",
        "    return df\n",
        "\n",
        "grangers_causation_matrix(df3, variables = df3.columns)   \n"
      ],
      "execution_count": null,
      "outputs": [
        {
          "output_type": "execute_result",
          "data": {
            "text/html": [
              "<div>\n",
              "<style scoped>\n",
              "    .dataframe tbody tr th:only-of-type {\n",
              "        vertical-align: middle;\n",
              "    }\n",
              "\n",
              "    .dataframe tbody tr th {\n",
              "        vertical-align: top;\n",
              "    }\n",
              "\n",
              "    .dataframe thead th {\n",
              "        text-align: right;\n",
              "    }\n",
              "</style>\n",
              "<table border=\"1\" class=\"dataframe\">\n",
              "  <thead>\n",
              "    <tr style=\"text-align: right;\">\n",
              "      <th></th>\n",
              "      <th>Bengaluru_RetailPrice_x</th>\n",
              "      <th>Bengaluru_Volume_x</th>\n",
              "      <th>DieselPrice_x</th>\n",
              "    </tr>\n",
              "  </thead>\n",
              "  <tbody>\n",
              "    <tr>\n",
              "      <th>Bengaluru_RetailPrice_y</th>\n",
              "      <td>1.0000</td>\n",
              "      <td>0.0001</td>\n",
              "      <td>0.0004</td>\n",
              "    </tr>\n",
              "    <tr>\n",
              "      <th>Bengaluru_Volume_y</th>\n",
              "      <td>0.0236</td>\n",
              "      <td>1.0000</td>\n",
              "      <td>0.0026</td>\n",
              "    </tr>\n",
              "    <tr>\n",
              "      <th>DieselPrice_y</th>\n",
              "      <td>0.0015</td>\n",
              "      <td>0.0351</td>\n",
              "      <td>1.0000</td>\n",
              "    </tr>\n",
              "  </tbody>\n",
              "</table>\n",
              "</div>"
            ],
            "text/plain": [
              "                         Bengaluru_RetailPrice_x  ...  DieselPrice_x\n",
              "Bengaluru_RetailPrice_y                   1.0000  ...         0.0004\n",
              "Bengaluru_Volume_y                        0.0236  ...         0.0026\n",
              "DieselPrice_y                             0.0015  ...         1.0000\n",
              "\n",
              "[3 rows x 3 columns]"
            ]
          },
          "metadata": {
            "tags": []
          },
          "execution_count": 42
        }
      ]
    },
    {
      "cell_type": "markdown",
      "metadata": {
        "id": "-0ez1mXB98So",
        "colab_type": "text"
      },
      "source": [
        "# Cointegration Test\n",
        "Cointegration test helps to establish the presence of a statistically significant connection between two or more time series."
      ]
    },
    {
      "cell_type": "code",
      "metadata": {
        "id": "_toOkfIm87qe",
        "colab_type": "code",
        "colab": {
          "base_uri": "https://localhost:8080/",
          "height": 105
        },
        "outputId": "1a1e307b-2934-4970-bf90-19dd99c1204a"
      },
      "source": [
        "from statsmodels.tsa.vector_ar.vecm import coint_johansen\n",
        "\n",
        "def cointegration_test(df3, alpha=0.05): \n",
        "    \"\"\"Perform Johanson's Cointegration Test and Report Summary\"\"\"\n",
        "    out = coint_johansen(df3,-1,5)\n",
        "    d = {'0.90':0, '0.95':1, '0.99':2}\n",
        "    traces = out.lr1\n",
        "    cvts = out.cvt[:, d[str(1-alpha)]]\n",
        "    def adjust(val, length= 6): return str(val).ljust(length)\n",
        "\n",
        "    # Summary\n",
        "    print('Name   ::  Test Stat > C(95%)    =>   Signif  \\n', '--'*20)\n",
        "    for col, trace, cvt in zip(df3.columns, traces, cvts):\n",
        "        print(adjust(col), ':: ', adjust(round(trace,2), 9), \">\", adjust(cvt, 8), ' =>  ' , trace > cvt)\n",
        "\n",
        "cointegration_test(df3)"
      ],
      "execution_count": null,
      "outputs": [
        {
          "output_type": "stream",
          "text": [
            "Name   ::  Test Stat > C(95%)    =>   Signif  \n",
            " ----------------------------------------\n",
            "Bengaluru_RetailPrice ::  26.34     > 24.2761   =>   True\n",
            "Bengaluru_Volume ::  11.11     > 12.3212   =>   False\n",
            "DieselPrice ::  1.21      > 4.1296    =>   False\n"
          ],
          "name": "stdout"
        }
      ]
    },
    {
      "cell_type": "markdown",
      "metadata": {
        "id": "pgwmPUot-JE5",
        "colab_type": "text"
      },
      "source": [
        "# Check for Stationarity and Make the Time Series Stationary in VAR\n",
        "\n",
        "# There is a suite of tests called unit-root tests. The popular ones are:\n",
        "\n",
        "1.Augmented Dickey-Fuller Test (ADF Test)\n",
        "2.KPSS test\n",
        "3.Philip-Perron test"
      ]
    },
    {
      "cell_type": "code",
      "metadata": {
        "id": "9LLhKz2B9_n8",
        "colab_type": "code",
        "colab": {}
      },
      "source": [
        "def adfuller_test(series, signif=0.05, name='', verbose=False):\n",
        "    \"\"\"Perform ADFuller to test for Stationarity of given series and print report\"\"\"\n",
        "    r = adfuller(series, autolag='AIC')\n",
        "    output = {'test_statistic':round(r[0], 4), 'pvalue':round(r[1], 4), 'n_lags':round(r[2], 4), 'n_obs':r[3]}\n",
        "    p_value = output['pvalue'] \n",
        "    def adjust(val, length= 6): return str(val).ljust(length)\n",
        "\n",
        "    # Print Summary\n",
        "    print(f'    Augmented Dickey-Fuller Test on \"{name}\"', \"\\n   \", '-'*47)\n",
        "    print(f' Null Hypothesis: Data has unit root. Non-Stationary.')\n",
        "    print(f' Significance Level    = {signif}')\n",
        "    print(f' Test Statistic        = {output[\"test_statistic\"]}')\n",
        "    print(f' No. Lags Chosen       = {output[\"n_lags\"]}')\n",
        "\n",
        "    for key,val in r[4].items():\n",
        "        print(f' Critical value {adjust(key)} = {round(val, 3)}')\n",
        "\n",
        "    if p_value <= signif:\n",
        "        print(f\" => P-Value = {p_value}. Rejecting Null Hypothesis.\")\n",
        "        print(f\" => Series is Stationary.\")\n",
        "    else:\n",
        "        print(f\" => P-Value = {p_value}. Weak evidence to reject the Null Hypothesis.\")\n",
        "        print(f\" => Series is Non-Stationary.\")    "
      ],
      "execution_count": null,
      "outputs": []
    },
    {
      "cell_type": "code",
      "metadata": {
        "id": "8Lpu67ja-MgT",
        "colab_type": "code",
        "colab": {
          "base_uri": "https://localhost:8080/",
          "height": 710
        },
        "outputId": "1731d16c-b55a-4e09-d4f4-5efd6cabc6f0"
      },
      "source": [
        "# ADF Test on each column\n",
        "for name, column in train1.iteritems():\n",
        "    adfuller_test(column, name=column.name)\n",
        "    print('\\n')"
      ],
      "execution_count": null,
      "outputs": [
        {
          "output_type": "stream",
          "text": [
            "    Augmented Dickey-Fuller Test on \"Bengaluru_RetailPrice\" \n",
            "    -----------------------------------------------\n",
            " Null Hypothesis: Data has unit root. Non-Stationary.\n",
            " Significance Level    = 0.05\n",
            " Test Statistic        = -2.7355\n",
            " No. Lags Chosen       = 2\n",
            " Critical value 1%     = -3.578\n",
            " Critical value 5%     = -2.925\n",
            " Critical value 10%    = -2.601\n",
            " => P-Value = 0.0681. Weak evidence to reject the Null Hypothesis.\n",
            " => Series is Non-Stationary.\n",
            "\n",
            "\n",
            "    Augmented Dickey-Fuller Test on \"Bengaluru_Volume\" \n",
            "    -----------------------------------------------\n",
            " Null Hypothesis: Data has unit root. Non-Stationary.\n",
            " Significance Level    = 0.05\n",
            " Test Statistic        = -3.2886\n",
            " No. Lags Chosen       = 0\n",
            " Critical value 1%     = -3.571\n",
            " Critical value 5%     = -2.923\n",
            " Critical value 10%    = -2.599\n",
            " => P-Value = 0.0154. Rejecting Null Hypothesis.\n",
            " => Series is Stationary.\n",
            "\n",
            "\n",
            "    Augmented Dickey-Fuller Test on \"DieselPrice\" \n",
            "    -----------------------------------------------\n",
            " Null Hypothesis: Data has unit root. Non-Stationary.\n",
            " Significance Level    = 0.05\n",
            " Test Statistic        = -1.0991\n",
            " No. Lags Chosen       = 0\n",
            " Critical value 1%     = -3.571\n",
            " Critical value 5%     = -2.923\n",
            " Critical value 10%    = -2.599\n",
            " => P-Value = 0.7154. Weak evidence to reject the Null Hypothesis.\n",
            " => Series is Non-Stationary.\n",
            "\n",
            "\n"
          ],
          "name": "stdout"
        }
      ]
    },
    {
      "cell_type": "code",
      "metadata": {
        "id": "Q_k8Egrz-OSE",
        "colab_type": "code",
        "colab": {}
      },
      "source": [
        "# 1st difference\n",
        "df_differenced = train1.diff().dropna()\n",
        "\n",
        "# Second Differencing\n",
        "df_differenced = df_differenced.diff().dropna()"
      ],
      "execution_count": null,
      "outputs": []
    },
    {
      "cell_type": "code",
      "metadata": {
        "id": "LlwfgjW5-Q-P",
        "colab_type": "code",
        "colab": {
          "base_uri": "https://localhost:8080/",
          "height": 710
        },
        "outputId": "c5bf1ce4-7fe4-49e4-a11e-1d5e0a346256"
      },
      "source": [
        "# ADF Test on each column\n",
        "for name, column in df_differenced.iteritems():\n",
        "    adfuller_test(column, name=column.name)\n",
        "    print('\\n')"
      ],
      "execution_count": null,
      "outputs": [
        {
          "output_type": "stream",
          "text": [
            "    Augmented Dickey-Fuller Test on \"Bengaluru_RetailPrice\" \n",
            "    -----------------------------------------------\n",
            " Null Hypothesis: Data has unit root. Non-Stationary.\n",
            " Significance Level    = 0.05\n",
            " Test Statistic        = -7.3321\n",
            " No. Lags Chosen       = 1\n",
            " Critical value 1%     = -3.581\n",
            " Critical value 5%     = -2.927\n",
            " Critical value 10%    = -2.602\n",
            " => P-Value = 0.0. Rejecting Null Hypothesis.\n",
            " => Series is Stationary.\n",
            "\n",
            "\n",
            "    Augmented Dickey-Fuller Test on \"Bengaluru_Volume\" \n",
            "    -----------------------------------------------\n",
            " Null Hypothesis: Data has unit root. Non-Stationary.\n",
            " Significance Level    = 0.05\n",
            " Test Statistic        = -5.8933\n",
            " No. Lags Chosen       = 3\n",
            " Critical value 1%     = -3.589\n",
            " Critical value 5%     = -2.93\n",
            " Critical value 10%    = -2.603\n",
            " => P-Value = 0.0. Rejecting Null Hypothesis.\n",
            " => Series is Stationary.\n",
            "\n",
            "\n",
            "    Augmented Dickey-Fuller Test on \"DieselPrice\" \n",
            "    -----------------------------------------------\n",
            " Null Hypothesis: Data has unit root. Non-Stationary.\n",
            " Significance Level    = 0.05\n",
            " Test Statistic        = -8.5255\n",
            " No. Lags Chosen       = 2\n",
            " Critical value 1%     = -3.585\n",
            " Critical value 5%     = -2.928\n",
            " Critical value 10%    = -2.602\n",
            " => P-Value = 0.0. Rejecting Null Hypothesis.\n",
            " => Series is Stationary.\n",
            "\n",
            "\n"
          ],
          "name": "stdout"
        }
      ]
    },
    {
      "cell_type": "markdown",
      "metadata": {
        "id": "LpeODiLO-Zxb",
        "colab_type": "text"
      },
      "source": [
        "# All Data is stationary after 1 differencing "
      ]
    },
    {
      "cell_type": "code",
      "metadata": {
        "id": "SZbHaqa5-S8U",
        "colab_type": "code",
        "colab": {
          "base_uri": "https://localhost:8080/",
          "height": 1000
        },
        "outputId": "9752190d-86bb-4928-ca1c-418a515fca65"
      },
      "source": [
        "# How to Select the Order (P) of VAR model\n",
        "\n",
        "modelVAR = VAR(df_differenced)\n",
        "for i in [1,2,3,4,5,6,7,8,9,10,11]:\n",
        "    result = modelVAR.fit(i)\n",
        "    print('Lag Order =', i)\n",
        "    print('AIC : ', result.aic)\n",
        "    print('BIC : ', result.bic)\n",
        "    print('FPE : ', result.fpe)\n",
        "    print('HQIC: ', result.hqic, '\\n')"
      ],
      "execution_count": null,
      "outputs": [
        {
          "output_type": "stream",
          "text": [
            "Lag Order = 1\n",
            "AIC :  36.222333554525406\n",
            "BIC :  36.694711665600316\n",
            "FPE :  5391347818944351.0\n",
            "HQIC:  36.40009261103842 \n",
            "\n",
            "Lag Order = 2\n",
            "AIC :  36.16113640038688\n",
            "BIC :  36.99595095095799\n",
            "FPE :  5101360809254526.0\n",
            "HQIC:  36.47386293444925 \n",
            "\n",
            "Lag Order = 3\n",
            "AIC :  35.915172244500916\n",
            "BIC :  37.119613904347794\n",
            "FPE :  4051219259282053.0\n",
            "HQIC:  36.36417600223547 \n",
            "\n",
            "Lag Order = 4\n",
            "AIC :  36.156357222345584\n",
            "BIC :  37.73779803422768\n",
            "FPE :  5323046260079659.0\n",
            "HQIC:  36.74283171414674 \n",
            "\n",
            "Lag Order = 5\n",
            "AIC :  36.37908920854075\n",
            "BIC :  38.34508003536147\n",
            "FPE :  7048793079695760.0\n",
            "HQIC:  37.104085866060075 \n",
            "\n",
            "Lag Order = 6\n",
            "AIC :  36.29387656301692\n",
            "BIC :  38.65214247354435\n",
            "FPE :  7148863539533919.0\n",
            "HQIC:  37.15827429010281 \n",
            "\n",
            "Lag Order = 7\n",
            "AIC :  36.103257005158646\n",
            "BIC :  38.86169008814607\n",
            "FPE :  6966100902247965.0\n",
            "HQIC:  37.10772624832033 \n",
            "\n",
            "Lag Order = 8\n",
            "AIC :  35.333311357065426\n",
            "BIC :  38.49996033352906\n",
            "FPE :  4235689685378110.5\n",
            "HQIC:  36.478271635677565 \n",
            "\n",
            "Lag Order = 9\n",
            "AIC :  34.5125192071572\n",
            "BIC :  38.095575060359515\n",
            "FPE :  2963712022556738.5\n",
            "HQIC:  35.79808881400482 \n",
            "\n",
            "Lag Order = 10\n",
            "AIC :  33.32905308949202\n",
            "BIC :  37.33682974355923\n",
            "FPE :  2138551902916792.2\n",
            "HQIC:  34.75498938648161 \n",
            "\n",
            "Lag Order = 11\n",
            "AIC :  29.09490238213253\n",
            "BIC :  33.53581122239498\n",
            "FPE :  231035301180665.4\n",
            "HQIC:  30.660530758583427 \n",
            "\n"
          ],
          "name": "stdout"
        }
      ]
    },
    {
      "cell_type": "markdown",
      "metadata": {
        "id": "yfXiBW5O-s4i",
        "colab_type": "text"
      },
      "source": [
        "# alternate method to choose the order(p) of the VAR models is to use the model.select_order(maxlags) method"
      ]
    },
    {
      "cell_type": "code",
      "metadata": {
        "id": "zC7qGKPo-cal",
        "colab_type": "code",
        "colab": {
          "base_uri": "https://localhost:8080/",
          "height": 282
        },
        "outputId": "389f6cd1-1c9f-4063-8f1c-cc0dd0e881fd"
      },
      "source": [
        "x = modelVAR.select_order(maxlags=11)\n",
        "x.summary()"
      ],
      "execution_count": null,
      "outputs": [
        {
          "output_type": "execute_result",
          "data": {
            "text/html": [
              "<table class=\"simpletable\">\n",
              "<caption>VAR Order Selection (* highlights the minimums)</caption>\n",
              "<tr>\n",
              "   <td></td>      <th>AIC</th>         <th>BIC</th>         <th>FPE</th>        <th>HQIC</th>    \n",
              "</tr>\n",
              "<tr>\n",
              "  <th>0</th>  <td>     36.12</td>  <td>     36.25</td>  <td> 4.876e+15</td>  <td>     36.17</td> \n",
              "</tr>\n",
              "<tr>\n",
              "  <th>1</th>  <td>     35.76</td>  <td>     36.29</td>  <td> 3.411e+15</td>  <td>     35.95</td> \n",
              "</tr>\n",
              "<tr>\n",
              "  <th>2</th>  <td>     35.50</td>  <td>     36.42</td>  <td> 2.664e+15</td>  <td>     35.83</td> \n",
              "</tr>\n",
              "<tr>\n",
              "  <th>3</th>  <td>     35.40</td>  <td>     36.70</td>  <td> 2.458e+15</td>  <td>     35.86</td> \n",
              "</tr>\n",
              "<tr>\n",
              "  <th>4</th>  <td>     35.63</td>  <td>     37.33</td>  <td> 3.264e+15</td>  <td>     36.23</td> \n",
              "</tr>\n",
              "<tr>\n",
              "  <th>5</th>  <td>     35.73</td>  <td>     37.82</td>  <td> 3.950e+15</td>  <td>     36.47</td> \n",
              "</tr>\n",
              "<tr>\n",
              "  <th>6</th>  <td>     35.72</td>  <td>     38.20</td>  <td> 4.501e+15</td>  <td>     36.59</td> \n",
              "</tr>\n",
              "<tr>\n",
              "  <th>7</th>  <td>     35.34</td>  <td>     38.21</td>  <td> 3.824e+15</td>  <td>     36.35</td> \n",
              "</tr>\n",
              "<tr>\n",
              "  <th>8</th>  <td>     34.39</td>  <td>     37.66</td>  <td> 2.063e+15</td>  <td>     35.54</td> \n",
              "</tr>\n",
              "<tr>\n",
              "  <th>9</th>  <td>     33.85</td>  <td>     37.51</td>  <td> 2.016e+15</td>  <td>     35.14</td> \n",
              "</tr>\n",
              "<tr>\n",
              "  <th>10</th> <td>     32.38</td>  <td>     36.43</td>  <td> 1.101e+15</td>  <td>     33.81</td> \n",
              "</tr>\n",
              "<tr>\n",
              "  <th>11</th> <td>     29.09*</td> <td>     33.54*</td> <td> 2.310e+14*</td> <td>     30.66*</td>\n",
              "</tr>\n",
              "</table>"
            ],
            "text/plain": [
              "<class 'statsmodels.iolib.table.SimpleTable'>"
            ]
          },
          "metadata": {
            "tags": []
          },
          "execution_count": 49
        }
      ]
    },
    {
      "cell_type": "markdown",
      "metadata": {
        "id": "w5gKcpil-2Ap",
        "colab_type": "text"
      },
      "source": [
        "# The selected order(p) 11 is the order that gives the lowest ‘AIC’, ‘BIC’, ‘FPE’ and ‘HQIC’ scores."
      ]
    },
    {
      "cell_type": "markdown",
      "metadata": {
        "id": "ugml0Q6r-4rx",
        "colab_type": "text"
      },
      "source": [
        "# Train the VAR Model of Selected Order(p)"
      ]
    },
    {
      "cell_type": "code",
      "metadata": {
        "id": "0nvRa--Z-vjC",
        "colab_type": "code",
        "colab": {
          "base_uri": "https://localhost:8080/",
          "height": 1000
        },
        "outputId": "ddad80ee-a341-402b-b6c4-0eb4d35fea34"
      },
      "source": [
        "model_fitted = modelVAR.fit(11)\n",
        "model_fitted.summary()"
      ],
      "execution_count": null,
      "outputs": [
        {
          "output_type": "execute_result",
          "data": {
            "text/plain": [
              "  Summary of Regression Results   \n",
              "==================================\n",
              "Model:                         VAR\n",
              "Method:                        OLS\n",
              "Date:           Sun, 13, Sep, 2020\n",
              "Time:                     04:44:14\n",
              "--------------------------------------------------------------------\n",
              "No. of Equations:         3.00000    BIC:                    33.5358\n",
              "Nobs:                     37.0000    HQIC:                   30.6605\n",
              "Log likelihood:          -593.758    FPE:                2.31035e+14\n",
              "AIC:                      29.0949    Det(Omega_mle):     3.26970e+13\n",
              "--------------------------------------------------------------------\n",
              "Results for equation Bengaluru_RetailPrice\n",
              "============================================================================================\n",
              "                               coefficient       std. error           t-stat            prob\n",
              "--------------------------------------------------------------------------------------------\n",
              "const                             9.148282        45.000119            0.203           0.839\n",
              "L1.Bengaluru_RetailPrice          0.107311         0.361707            0.297           0.767\n",
              "L1.Bengaluru_Volume               0.005028         0.002971            1.692           0.091\n",
              "L1.DieselPrice                 -229.873463        38.036704           -6.043           0.000\n",
              "L2.Bengaluru_RetailPrice         -0.039630         0.273314           -0.145           0.885\n",
              "L2.Bengaluru_Volume               0.011261         0.004849            2.322           0.020\n",
              "L2.DieselPrice                 -110.192541        75.054867           -1.468           0.142\n",
              "L3.Bengaluru_RetailPrice          0.059445         0.215058            0.276           0.782\n",
              "L3.Bengaluru_Volume               0.003033         0.006351            0.478           0.633\n",
              "L3.DieselPrice                   10.516485       114.067477            0.092           0.927\n",
              "L4.Bengaluru_RetailPrice         -0.298952         0.201993           -1.480           0.139\n",
              "L4.Bengaluru_Volume              -0.012399         0.006381           -1.943           0.052\n",
              "L4.DieselPrice                 -209.979613        81.033373           -2.591           0.010\n",
              "L5.Bengaluru_RetailPrice          0.168677         0.214287            0.787           0.431\n",
              "L5.Bengaluru_Volume               0.002968         0.005676            0.523           0.601\n",
              "L5.DieselPrice                   13.930934        95.741287            0.146           0.884\n",
              "L6.Bengaluru_RetailPrice         -0.381899         0.154845           -2.466           0.014\n",
              "L6.Bengaluru_Volume              -0.011017         0.006079           -1.812           0.070\n",
              "L6.DieselPrice                  -92.960856        77.578508           -1.198           0.231\n",
              "L7.Bengaluru_RetailPrice          0.049772         0.279123            0.178           0.858\n",
              "L7.Bengaluru_Volume               0.005441         0.006861            0.793           0.428\n",
              "L7.DieselPrice                  -87.719242        76.200034           -1.151           0.250\n",
              "L8.Bengaluru_RetailPrice          0.331252         0.236592            1.400           0.161\n",
              "L8.Bengaluru_Volume              -0.007406         0.004600           -1.610           0.107\n",
              "L8.DieselPrice                   51.097519        88.109265            0.580           0.562\n",
              "L9.Bengaluru_RetailPrice         -0.239120         0.284340           -0.841           0.400\n",
              "L9.Bengaluru_Volume              -0.007358         0.004041           -1.821           0.069\n",
              "L9.DieselPrice                   92.640985        65.067113            1.424           0.155\n",
              "L10.Bengaluru_RetailPrice         0.099205         0.195231            0.508           0.611\n",
              "L10.Bengaluru_Volume              0.002345         0.006237            0.376           0.707\n",
              "L10.DieselPrice                 -12.802330        69.563340           -0.184           0.854\n",
              "L11.Bengaluru_RetailPrice         0.406366         0.207719            1.956           0.050\n",
              "L11.Bengaluru_Volume             -0.007646         0.003266           -2.341           0.019\n",
              "L11.DieselPrice                   0.835298        50.133435            0.017           0.987\n",
              "============================================================================================\n",
              "\n",
              "Results for equation Bengaluru_Volume\n",
              "============================================================================================\n",
              "                               coefficient       std. error           t-stat            prob\n",
              "--------------------------------------------------------------------------------------------\n",
              "const                          1102.701133      4944.154582            0.223           0.824\n",
              "L1.Bengaluru_RetailPrice         55.833593        39.740731            1.405           0.160\n",
              "L1.Bengaluru_Volume              -1.048532         0.326438           -3.212           0.001\n",
              "L1.DieselPrice                  338.005405      4179.085574            0.081           0.936\n",
              "L2.Bengaluru_RetailPrice          8.147227        30.028996            0.271           0.786\n",
              "L2.Bengaluru_Volume              -1.906579         0.532789           -3.578           0.000\n",
              "L2.DieselPrice                16672.024555      8246.264186            2.022           0.043\n",
              "L3.Bengaluru_RetailPrice          8.178133        23.628328            0.346           0.729\n",
              "L3.Bengaluru_Volume              -1.793551         0.697766           -2.570           0.010\n",
              "L3.DieselPrice                14199.603742     12532.572305            1.133           0.257\n",
              "L4.Bengaluru_RetailPrice          5.606209        22.192908            0.253           0.801\n",
              "L4.Bengaluru_Volume              -1.379877         0.701115           -1.968           0.049\n",
              "L4.DieselPrice                 5422.182430      8903.121427            0.609           0.543\n",
              "L5.Bengaluru_RetailPrice          6.419228        23.543714            0.273           0.785\n",
              "L5.Bengaluru_Volume              -0.362871         0.623628           -0.582           0.561\n",
              "L5.DieselPrice                 9753.135043     10519.077282            0.927           0.354\n",
              "L6.Bengaluru_RetailPrice        -10.516927        17.012786           -0.618           0.536\n",
              "L6.Bengaluru_Volume              -0.212190         0.667938           -0.318           0.751\n",
              "L6.DieselPrice                 2461.076515      8523.536115            0.289           0.773\n",
              "L7.Bengaluru_RetailPrice         35.559462        30.667215            1.160           0.246\n",
              "L7.Bengaluru_Volume               0.689411         0.753850            0.915           0.360\n",
              "L7.DieselPrice                 7127.201885      8372.083455            0.851           0.395\n",
              "L8.Bengaluru_RetailPrice        -17.496845        25.994356           -0.673           0.501\n",
              "L8.Bengaluru_Volume              -0.546773         0.505386           -1.082           0.279\n",
              "L8.DieselPrice                 8425.109574      9680.548383            0.870           0.384\n",
              "L9.Bengaluru_RetailPrice        -42.662510        31.240388           -1.366           0.172\n",
              "L9.Bengaluru_Volume               0.260839         0.443996            0.587           0.557\n",
              "L9.DieselPrice                 1927.931294      7148.911506            0.270           0.787\n",
              "L10.Bengaluru_RetailPrice        13.607771        21.449972            0.634           0.526\n",
              "L10.Bengaluru_Volume              0.455992         0.685251            0.665           0.506\n",
              "L10.DieselPrice               -5381.581480      7642.911058           -0.704           0.481\n",
              "L11.Bengaluru_RetailPrice        15.704438        22.822034            0.688           0.491\n",
              "L11.Bengaluru_Volume             -0.437321         0.358863           -1.219           0.223\n",
              "L11.DieselPrice                -640.331153      5508.151102           -0.116           0.907\n",
              "============================================================================================\n",
              "\n",
              "Results for equation DieselPrice\n",
              "============================================================================================\n",
              "                               coefficient       std. error           t-stat            prob\n",
              "--------------------------------------------------------------------------------------------\n",
              "const                            -0.072026         0.321236           -0.224           0.823\n",
              "L1.Bengaluru_RetailPrice          0.000756         0.002582            0.293           0.770\n",
              "L1.Bengaluru_Volume               0.000045         0.000021            2.115           0.034\n",
              "L1.DieselPrice                   -0.628330         0.271528           -2.314           0.021\n",
              "L2.Bengaluru_RetailPrice         -0.001809         0.001951           -0.927           0.354\n",
              "L2.Bengaluru_Volume               0.000039         0.000035            1.120           0.263\n",
              "L2.DieselPrice                   -0.352430         0.535784           -0.658           0.511\n",
              "L3.Bengaluru_RetailPrice          0.002907         0.001535            1.893           0.058\n",
              "L3.Bengaluru_Volume               0.000002         0.000045            0.051           0.959\n",
              "L3.DieselPrice                   -1.385801         0.814278           -1.702           0.089\n",
              "L4.Bengaluru_RetailPrice          0.001555         0.001442            1.078           0.281\n",
              "L4.Bengaluru_Volume              -0.000033         0.000046           -0.731           0.465\n",
              "L4.DieselPrice                   -0.534648         0.578462           -0.924           0.355\n",
              "L5.Bengaluru_RetailPrice          0.004245         0.001530            2.775           0.006\n",
              "L5.Bengaluru_Volume               0.000006         0.000041            0.148           0.882\n",
              "L5.DieselPrice                    0.460013         0.683456            0.673           0.501\n",
              "L6.Bengaluru_RetailPrice          0.002264         0.001105            2.048           0.041\n",
              "L6.Bengaluru_Volume              -0.000096         0.000043           -2.222           0.026\n",
              "L6.DieselPrice                   -0.186635         0.553799           -0.337           0.736\n",
              "L7.Bengaluru_RetailPrice          0.002150         0.001993            1.079           0.281\n",
              "L7.Bengaluru_Volume              -0.000091         0.000049           -1.851           0.064\n",
              "L7.DieselPrice                    0.660408         0.543959            1.214           0.225\n",
              "L8.Bengaluru_RetailPrice         -0.001364         0.001689           -0.807           0.419\n",
              "L8.Bengaluru_Volume              -0.000091         0.000033           -2.773           0.006\n",
              "L8.DieselPrice                    0.457066         0.628974            0.727           0.467\n",
              "L9.Bengaluru_RetailPrice          0.004809         0.002030            2.369           0.018\n",
              "L9.Bengaluru_Volume               0.000038         0.000029            1.330           0.183\n",
              "L9.DieselPrice                    0.361439         0.464486            0.778           0.436\n",
              "L10.Bengaluru_RetailPrice         0.005051         0.001394            3.625           0.000\n",
              "L10.Bengaluru_Volume             -0.000082         0.000045           -1.836           0.066\n",
              "L10.DieselPrice                   0.613746         0.496583            1.236           0.216\n",
              "L11.Bengaluru_RetailPrice         0.001673         0.001483            1.128           0.259\n",
              "L11.Bengaluru_Volume             -0.000036         0.000023           -1.560           0.119\n",
              "L11.DieselPrice                   1.076224         0.357881            3.007           0.003\n",
              "============================================================================================\n",
              "\n",
              "Correlation matrix of residuals\n",
              "                         Bengaluru_RetailPrice  Bengaluru_Volume  DieselPrice\n",
              "Bengaluru_RetailPrice                 1.000000          0.224567    -0.567459\n",
              "Bengaluru_Volume                      0.224567          1.000000    -0.308615\n",
              "DieselPrice                          -0.567459         -0.308615     1.000000\n",
              "\n"
            ]
          },
          "metadata": {
            "tags": []
          },
          "execution_count": 50
        }
      ]
    },
    {
      "cell_type": "markdown",
      "metadata": {
        "id": "ZGEtY8PL_AAd",
        "colab_type": "text"
      },
      "source": [
        "# Check for Serial Correlation of Residuals (Errors) using Durbin Watson Statistic"
      ]
    },
    {
      "cell_type": "code",
      "metadata": {
        "id": "gC36dWU2-z2v",
        "colab_type": "code",
        "colab": {
          "base_uri": "https://localhost:8080/",
          "height": 70
        },
        "outputId": "6fb42945-67f1-4f7c-a05e-d155850d634c"
      },
      "source": [
        "from statsmodels.stats.stattools import durbin_watson\n",
        "out = durbin_watson(model_fitted.resid)\n",
        "\n",
        "for col, val in zip(df3.columns, out):\n",
        "    print((col), ':', round(val, 2))"
      ],
      "execution_count": null,
      "outputs": [
        {
          "output_type": "stream",
          "text": [
            "Bengaluru_RetailPrice : 1.61\n",
            "Bengaluru_Volume : 1.6\n",
            "DieselPrice : 0.82\n"
          ],
          "name": "stdout"
        }
      ]
    },
    {
      "cell_type": "markdown",
      "metadata": {
        "id": "k64SFuC1GWmQ",
        "colab_type": "text"
      },
      "source": [
        "# forecast"
      ]
    },
    {
      "cell_type": "code",
      "metadata": {
        "id": "4mEkm306GY4_",
        "colab_type": "code",
        "colab": {}
      },
      "source": [
        "n_obs =12\n",
        "X_train,X_test = df3[0:-n_obs],df3[-n_obs:]\n"
      ],
      "execution_count": null,
      "outputs": []
    },
    {
      "cell_type": "code",
      "metadata": {
        "id": "_I5GRs9mHR7L",
        "colab_type": "code",
        "colab": {
          "base_uri": "https://localhost:8080/",
          "height": 52
        },
        "outputId": "062e1d8c-a22c-407d-e713-4cb397d53dc8"
      },
      "source": [
        "print(X_train.shape)\n",
        "print(X_test.shape)"
      ],
      "execution_count": null,
      "outputs": [
        {
          "output_type": "stream",
          "text": [
            "(55, 3)\n",
            "(12, 3)\n"
          ],
          "name": "stdout"
        }
      ]
    },
    {
      "cell_type": "code",
      "metadata": {
        "id": "xfid2CZ5HUlC",
        "colab_type": "code",
        "colab": {
          "base_uri": "https://localhost:8080/",
          "height": 287
        },
        "outputId": "9ab16eb5-4c13-458c-c32b-246eed0f93bf"
      },
      "source": [
        "X_train_log = np.log(X_train)\n",
        "X_train_log_diff =(X_train_log).diff().dropna()\n",
        "X_train_log_diff.describe()"
      ],
      "execution_count": null,
      "outputs": [
        {
          "output_type": "execute_result",
          "data": {
            "text/html": [
              "<div>\n",
              "<style scoped>\n",
              "    .dataframe tbody tr th:only-of-type {\n",
              "        vertical-align: middle;\n",
              "    }\n",
              "\n",
              "    .dataframe tbody tr th {\n",
              "        vertical-align: top;\n",
              "    }\n",
              "\n",
              "    .dataframe thead th {\n",
              "        text-align: right;\n",
              "    }\n",
              "</style>\n",
              "<table border=\"1\" class=\"dataframe\">\n",
              "  <thead>\n",
              "    <tr style=\"text-align: right;\">\n",
              "      <th></th>\n",
              "      <th>Bengaluru_RetailPrice</th>\n",
              "      <th>Bengaluru_Volume</th>\n",
              "      <th>DieselPrice</th>\n",
              "    </tr>\n",
              "  </thead>\n",
              "  <tbody>\n",
              "    <tr>\n",
              "      <th>count</th>\n",
              "      <td>54.000000</td>\n",
              "      <td>54.000000</td>\n",
              "      <td>54.000000</td>\n",
              "    </tr>\n",
              "    <tr>\n",
              "      <th>mean</th>\n",
              "      <td>-0.007525</td>\n",
              "      <td>-0.006689</td>\n",
              "      <td>0.003979</td>\n",
              "    </tr>\n",
              "    <tr>\n",
              "      <th>std</th>\n",
              "      <td>0.217295</td>\n",
              "      <td>0.342029</td>\n",
              "      <td>0.043454</td>\n",
              "    </tr>\n",
              "    <tr>\n",
              "      <th>min</th>\n",
              "      <td>-0.442586</td>\n",
              "      <td>-0.807352</td>\n",
              "      <td>-0.101268</td>\n",
              "    </tr>\n",
              "    <tr>\n",
              "      <th>25%</th>\n",
              "      <td>-0.079130</td>\n",
              "      <td>-0.165380</td>\n",
              "      <td>-0.019815</td>\n",
              "    </tr>\n",
              "    <tr>\n",
              "      <th>50%</th>\n",
              "      <td>-0.017600</td>\n",
              "      <td>0.009999</td>\n",
              "      <td>0.005652</td>\n",
              "    </tr>\n",
              "    <tr>\n",
              "      <th>75%</th>\n",
              "      <td>0.085232</td>\n",
              "      <td>0.100206</td>\n",
              "      <td>0.027644</td>\n",
              "    </tr>\n",
              "    <tr>\n",
              "      <th>max</th>\n",
              "      <td>0.873920</td>\n",
              "      <td>0.739612</td>\n",
              "      <td>0.112745</td>\n",
              "    </tr>\n",
              "  </tbody>\n",
              "</table>\n",
              "</div>"
            ],
            "text/plain": [
              "       Bengaluru_RetailPrice  Bengaluru_Volume  DieselPrice\n",
              "count              54.000000         54.000000    54.000000\n",
              "mean               -0.007525         -0.006689     0.003979\n",
              "std                 0.217295          0.342029     0.043454\n",
              "min                -0.442586         -0.807352    -0.101268\n",
              "25%                -0.079130         -0.165380    -0.019815\n",
              "50%                -0.017600          0.009999     0.005652\n",
              "75%                 0.085232          0.100206     0.027644\n",
              "max                 0.873920          0.739612     0.112745"
            ]
          },
          "metadata": {
            "tags": []
          },
          "execution_count": 54
        }
      ]
    },
    {
      "cell_type": "code",
      "metadata": {
        "id": "-SB8BhLAHeEJ",
        "colab_type": "code",
        "colab": {
          "base_uri": "https://localhost:8080/",
          "height": 377
        },
        "outputId": "a8601029-0b07-437f-ac1c-ea3d4485cccf"
      },
      "source": [
        "X_train_log_diff.plot(figsize=(10,6),linewidth=5,fontsize=14)\n",
        "plt.show()"
      ],
      "execution_count": null,
      "outputs": [
        {
          "output_type": "display_data",
          "data": {
            "image/png": "[encoded data removed]",
            "text/plain": [
              "<Figure size 720x432 with 1 Axes>"
            ]
          },
          "metadata": {
            "tags": [],
            "needs_background": "light"
          }
        }
      ]
    },
    {
      "cell_type": "markdown",
      "metadata": {
        "id": "kMVTaS6wHxYn",
        "colab_type": "text"
      },
      "source": [
        "# auto correleation function analysis of transformed series"
      ]
    },
    {
      "cell_type": "code",
      "metadata": {
        "id": "1ctf4XeqHqTs",
        "colab_type": "code",
        "colab": {
          "base_uri": "https://localhost:8080/",
          "height": 335
        },
        "outputId": "1367c4f8-5a49-4578-cfb0-0c86bdea5009"
      },
      "source": [
        "fig, ax = plt.subplots(1,2, figsize=(10,5)) \n",
        "ax[0] = plot_acf(X_train_log_diff['Bengaluru_RetailPrice'], ax=ax[0])\n",
        "ax[1] = plot_pacf(X_train_log_diff['Bengaluru_Volume'], ax=ax[1])"
      ],
      "execution_count": null,
      "outputs": [
        {
          "output_type": "display_data",
          "data": {
            "image/png": "[encoded data removed]",
            "text/plain": [
              "<Figure size 720x360 with 2 Axes>"
            ]
          },
          "metadata": {
            "tags": [],
            "needs_background": "light"
          }
        }
      ]
    },
    {
      "cell_type": "code",
      "metadata": {
        "id": "ii42rWdmIwvX",
        "colab_type": "code",
        "colab": {
          "base_uri": "https://localhost:8080/",
          "height": 1000
        },
        "outputId": "ecd1c5ae-847c-4076-ff88-028acab44a52"
      },
      "source": [
        "mod = VAR(X_train)\n",
        "res = mod.fit(maxlags=6, ic='aic')\n",
        "print(res.summary())"
      ],
      "execution_count": null,
      "outputs": [
        {
          "output_type": "stream",
          "text": [
            "  Summary of Regression Results   \n",
            "==================================\n",
            "Model:                         VAR\n",
            "Method:                        OLS\n",
            "Date:           Sun, 13, Sep, 2020\n",
            "Time:                     04:44:19\n",
            "--------------------------------------------------------------------\n",
            "No. of Equations:         3.00000    BIC:                    35.6846\n",
            "Nobs:                     52.0000    HQIC:                   34.9904\n",
            "Log likelihood:          -1089.88    FPE:                1.03525e+15\n",
            "AIC:                      34.5589    Det(Omega_mle):     6.10771e+14\n",
            "--------------------------------------------------------------------\n",
            "Results for equation Bengaluru_RetailPrice\n",
            "===========================================================================================\n",
            "                              coefficient       std. error           t-stat            prob\n",
            "-------------------------------------------------------------------------------------------\n",
            "const                         1987.061629       855.074559            2.324           0.020\n",
            "L1.Bengaluru_RetailPrice         0.858816         0.149278            5.753           0.000\n",
            "L1.Bengaluru_Volume              0.007189         0.003035            2.369           0.018\n",
            "L1.DieselPrice                 -34.003720        29.127395           -1.167           0.243\n",
            "L2.Bengaluru_RetailPrice         0.123824         0.201609            0.614           0.539\n",
            "L2.Bengaluru_Volume             -0.003389         0.003890           -0.871           0.384\n",
            "L2.DieselPrice                   8.392554        38.078446            0.220           0.826\n",
            "L3.Bengaluru_RetailPrice        -0.327610         0.137008           -2.391           0.017\n",
            "L3.Bengaluru_Volume             -0.000890         0.003496           -0.255           0.799\n",
            "L3.DieselPrice                   2.980993        27.344655            0.109           0.913\n",
            "===========================================================================================\n",
            "\n",
            "Results for equation Bengaluru_Volume\n",
            "===========================================================================================\n",
            "                              coefficient       std. error           t-stat            prob\n",
            "-------------------------------------------------------------------------------------------\n",
            "const                       -54406.198155     40119.796484           -1.356           0.175\n",
            "L1.Bengaluru_RetailPrice         5.936309         7.004083            0.848           0.397\n",
            "L1.Bengaluru_Volume              0.636554         0.142395            4.470           0.000\n",
            "L1.DieselPrice                -398.825764      1366.647104           -0.292           0.770\n",
            "L2.Bengaluru_RetailPrice        10.961639         9.459442            1.159           0.247\n",
            "L2.Bengaluru_Volume             -0.163467         0.182507           -0.896           0.370\n",
            "L2.DieselPrice               -1013.382138      1786.627268           -0.567           0.571\n",
            "L3.Bengaluru_RetailPrice        -9.171941         6.428383           -1.427           0.154\n",
            "L3.Bengaluru_Volume             -0.159543         0.164039           -0.973           0.331\n",
            "L3.DieselPrice                2665.193843      1283.001566            2.077           0.038\n",
            "===========================================================================================\n",
            "\n",
            "Results for equation DieselPrice\n",
            "===========================================================================================\n",
            "                              coefficient       std. error           t-stat            prob\n",
            "-------------------------------------------------------------------------------------------\n",
            "const                           -0.211959         4.532582           -0.047           0.963\n",
            "L1.Bengaluru_RetailPrice        -0.000179         0.000791           -0.227           0.821\n",
            "L1.Bengaluru_Volume              0.000021         0.000016            1.277           0.202\n",
            "L1.DieselPrice                   0.956004         0.154399            6.192           0.000\n",
            "L2.Bengaluru_RetailPrice         0.000353         0.001069            0.330           0.741\n",
            "L2.Bengaluru_Volume             -0.000038         0.000021           -1.824           0.068\n",
            "L2.DieselPrice                  -0.061036         0.201846           -0.302           0.762\n",
            "L3.Bengaluru_RetailPrice         0.000351         0.000726            0.483           0.629\n",
            "L3.Bengaluru_Volume             -0.000010         0.000019           -0.541           0.588\n",
            "L3.DieselPrice                   0.116983         0.144949            0.807           0.420\n",
            "===========================================================================================\n",
            "\n",
            "Correlation matrix of residuals\n",
            "                         Bengaluru_RetailPrice  Bengaluru_Volume  DieselPrice\n",
            "Bengaluru_RetailPrice                 1.000000         -0.125295    -0.247104\n",
            "Bengaluru_Volume                     -0.125295          1.000000    -0.003906\n",
            "DieselPrice                          -0.247104         -0.003906     1.000000\n",
            "\n",
            "\n",
            "\n"
          ],
          "name": "stdout"
        }
      ]
    },
    {
      "cell_type": "code",
      "metadata": {
        "id": "c8oLL1EUJmGt",
        "colab_type": "code",
        "colab": {
          "base_uri": "https://localhost:8080/",
          "height": 318
        },
        "outputId": "7184c1e1-fe0e-4a7c-f5b7-752f81f15921"
      },
      "source": [
        "# Get the lag order\n",
        "lag_order = res.k_ar\n",
        "print(lag_order)\n",
        "# Input data for forecasting\n",
        "input_data = X_train.values[-lag_order:]\n",
        "print(input_data)\n",
        "# forecasting\n",
        "pred = res.forecast(y=input_data, steps=n_obs)\n",
        "pred = (pd.DataFrame(pred, index=X_test.index, columns=X_test.columns + '_pred'))\n",
        "print(pred.round())"
      ],
      "execution_count": null,
      "outputs": [
        {
          "output_type": "stream",
          "text": [
            "3\n",
            "[[ 1513.   45229.      68.45]\n",
            " [ 1900.   47577.      68.56]\n",
            " [ 1859.   52246.      66.62]]\n",
            "            Bengaluru_RetailPrice_pred  Bengaluru_Volume_pred  DieselPrice_pred\n",
            "2019-08-01                      2011.0                68229.0              67.0\n",
            "2019-09-01                      2079.0                76279.0              68.0\n",
            "2019-10-01                      2141.0                74653.0              68.0\n",
            "2019-11-01                      2108.0                69754.0              67.0\n",
            "2019-12-01                      2046.0                67598.0              67.0\n",
            "2020-01-01                      1980.0                66543.0              67.0\n",
            "2020-02-01                      1933.0                65535.0              67.0\n",
            "2020-03-01                      1905.0                64126.0              66.0\n",
            "2020-04-01                      1894.0                63149.0              66.0\n",
            "2020-05-01                      1899.0                62862.0              66.0\n",
            "2020-06-01                      1917.0                63069.0              66.0\n",
            "2020-07-01                      1943.0                63411.0              66.0\n"
          ],
          "name": "stdout"
        }
      ]
    },
    {
      "cell_type": "code",
      "metadata": {
        "id": "oA0jqpVsKaCU",
        "colab_type": "code",
        "colab": {
          "base_uri": "https://localhost:8080/",
          "height": 34
        },
        "outputId": "7f1d7320-d37e-4e84-c111-673e63bde55e"
      },
      "source": [
        "# Calculate root mean squared error \n",
        "rmse(X_test, pred) "
      ],
      "execution_count": null,
      "outputs": [
        {
          "output_type": "execute_result",
          "data": {
            "text/plain": [
              "array([3.36344695e+03, 2.93201397e+04, 2.96455545e+00])"
            ]
          },
          "metadata": {
            "tags": []
          },
          "execution_count": 59
        }
      ]
    },
    {
      "cell_type": "markdown",
      "metadata": {
        "id": "ZaRDUUQkSBk1",
        "colab_type": "text"
      },
      "source": [
        "# RMSE for Bengaluru Retail price is 3360, Bengaluru Volume is 29320 and for Diesel Price is 2.96"
      ]
    },
    {
      "cell_type": "code",
      "metadata": {
        "id": "uKb6PJaVxz5D",
        "colab_type": "code",
        "colab": {}
      },
      "source": [
        ""
      ],
      "execution_count": null,
      "outputs": []
    }
  ]
}